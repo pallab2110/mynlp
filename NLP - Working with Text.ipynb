{
 "cells": [
  {
   "cell_type": "markdown",
   "metadata": {
    "colab_type": "text",
    "id": "ZeKZ7nX1_1uv"
   },
   "source": [
    "###  <span style=\"font-family: Calibri; font-size:1.2em;color:#000055\"> Need for Pre-processing:</span>\n",
    "\n",
    "A large amount of text data is available in different forms. E.g. e-books, e-magazines, online newspapers, blogs, tweets, online product review, emails, medical reports and so on. The general goal of text analysis is to provide understanding of the text without having a human to read it. This is where syntax and semantics comes into picture. Syntax refers to the structure of the language or the grammer rules and semantics is the meaning of individual words. Text processing is required to capture both semantics and syntax.\n",
    "\n",
    "Few reasons:<br/>\n",
    "\n",
    "- Inconsistent results from the NLP applications can be minimized if we use right kind of preprocessing on text.\n",
    "- One type of pre-processing may not be suitable for other, so it's task dependent.\n",
    "- Let’s say you are trying to discover commonly used words in a news dataset. If your pre-processing step involves removing stop words because some other task used it, then you are probably going to miss out on some of the common words as you have ALREADY eliminated it. So really, it’s not a one-size-fits-all approach.\n",
    "\n"
   ]
  },
  {
   "cell_type": "markdown",
   "metadata": {
    "colab_type": "text",
    "id": "CcOcSW6UBYQC"
   },
   "source": [
    "###  <span style=\"font-family: Calibri; font-size:1.2em;color:#000055\"> Dataset </span>\n",
    "\n",
    "#Data Set Information & Context:\n",
    "\n",
    "##Tweets from Donald Trump between 2009 and 2020.\n",
    "\n",
    "- The data has got Content , Date, Nu. of Retweet, No. of Favorites, column of the tweets.\n",
    "- The data has got  pre labelled sentiment(Positive and negative) column for each content of tweets.\n",
    "- We will be  exploring and analyzing  relevant columns of the data.\n",
    "- We will be applying all necessary text pre processing steps on content column of the tweet data.\n",
    "\n",
    "Data Content:\n",
    "\n",
    "\n",
    "- **id**: Unique tweet id\n",
    "\n",
    "- **link**: Link to tweet\n",
    "\n",
    "- **content**: Text of tweet\n",
    "\n",
    "- **date**: Date of tweet\n",
    "\n",
    "- **retweets**: Number of retweets\n",
    "\n",
    "- **favorites**: Number of favorites\n",
    "\n",
    "- **mentions**: Accounts mentioned in tweet\n",
    "\n",
    "- **Sentiment**: Sentiment of each tweet in the content column\n"
   ]
  },
  {
   "cell_type": "markdown",
   "metadata": {
    "colab_type": "text",
    "id": "QXW3I0lZEWvf"
   },
   "source": [
    "###  <span style=\"font-family: Calibri; font-size:1.2em;color:#000055\"> Basic Task in Text Preprocessing </span>\n",
    "\n",
    "- There are different ways to preprocess your text. Here are some of the approaches that you should know about and I will highlight the importance of each.\n",
    "\n",
    "General Approaches:\n",
    "- HTML tag removal / http link removal\n",
    "- Case Normalization\n",
    "- Accented word removal\n",
    "- Contraction removal\n",
    "- Language check\n",
    "- Regular expression removal\n",
    "- Stopwords removal\n",
    "- Lemmatisation\n",
    "- Tokenization"
   ]
  },
  {
   "cell_type": "code",
   "execution_count": 1,
   "metadata": {
    "colab": {
     "base_uri": "https://localhost:8080/",
     "height": 194
    },
    "colab_type": "code",
    "id": "TxY2eWSrJuBk",
    "outputId": "016d304e-0be7-40b6-bc4f-783105821d8c"
   },
   "outputs": [],
   "source": [
    "# Import necessary libraries.\n",
    "# re - Regular Expression modeule\n",
    "import re, string, unicodedata\n",
    "import pandas as pd\n",
    "import nltk           # Natural language processing tool-kit\n",
    "\n",
    "# nltk.download('punkt') # Punkt Sentence Tokenizer.\n",
    "# nltk.download('stopwords')\n",
    "# nltk.download('wordnet') #Word Net Lemmatizer\n",
    "\n",
    "# !pip install contractions\n",
    "# !conda install contractions\n",
    "import contractions\n",
    "\n",
    "\n",
    "from bs4 import BeautifulSoup                 # Beautiful soup is a parsing library that can use different parsers.\n",
    "from nltk import word_tokenize, sent_tokenize\n",
    "from nltk.corpus import stopwords, wordnet    # Stopwords, and wordnet corpus\n",
    "from nltk.stem import LancasterStemmer, WordNetLemmatizer"
   ]
  },
  {
   "cell_type": "code",
   "execution_count": 2,
   "metadata": {
    "colab": {},
    "colab_type": "code",
    "id": "qJhEqCzyK8vS"
   },
   "outputs": [],
   "source": [
    "# Load dataset.\n",
    "dataset = pd.read_csv('trump_tweets.csv')"
   ]
  },
  {
   "cell_type": "code",
   "execution_count": 3,
   "metadata": {
    "colab": {
     "base_uri": "https://localhost:8080/",
     "height": 281
    },
    "colab_type": "code",
    "id": "jVErYTrcLMvj",
    "outputId": "df9b2c7d-6374-4fef-e258-024253b1a88d"
   },
   "outputs": [
    {
     "data": {
      "text/html": [
       "<div>\n",
       "<style scoped>\n",
       "    .dataframe tbody tr th:only-of-type {\n",
       "        vertical-align: middle;\n",
       "    }\n",
       "\n",
       "    .dataframe tbody tr th {\n",
       "        vertical-align: top;\n",
       "    }\n",
       "\n",
       "    .dataframe thead th {\n",
       "        text-align: right;\n",
       "    }\n",
       "</style>\n",
       "<table border=\"1\" class=\"dataframe\">\n",
       "  <thead>\n",
       "    <tr style=\"text-align: right;\">\n",
       "      <th></th>\n",
       "      <th>Unnamed: 0</th>\n",
       "      <th>id</th>\n",
       "      <th>link</th>\n",
       "      <th>content</th>\n",
       "      <th>date</th>\n",
       "      <th>retweets</th>\n",
       "      <th>favorites</th>\n",
       "      <th>mentions</th>\n",
       "      <th>hashtags</th>\n",
       "      <th>geo</th>\n",
       "      <th>Sentiment</th>\n",
       "    </tr>\n",
       "  </thead>\n",
       "  <tbody>\n",
       "    <tr>\n",
       "      <th>0</th>\n",
       "      <td>0</td>\n",
       "      <td>1698308935</td>\n",
       "      <td>https://twitter.com/realDonaldTrump/status/169...</td>\n",
       "      <td>Be sure to tune in and watch Donald Trump on L...</td>\n",
       "      <td>2009-05-04 20:54:25</td>\n",
       "      <td>500</td>\n",
       "      <td>868</td>\n",
       "      <td>NaN</td>\n",
       "      <td>NaN</td>\n",
       "      <td>NaN</td>\n",
       "      <td>positive</td>\n",
       "    </tr>\n",
       "    <tr>\n",
       "      <th>1</th>\n",
       "      <td>1</td>\n",
       "      <td>1701461182</td>\n",
       "      <td>https://twitter.com/realDonaldTrump/status/170...</td>\n",
       "      <td>Donald Trump will be appearing on The View tom...</td>\n",
       "      <td>2009-05-05 03:00:10</td>\n",
       "      <td>33</td>\n",
       "      <td>273</td>\n",
       "      <td>NaN</td>\n",
       "      <td>NaN</td>\n",
       "      <td>NaN</td>\n",
       "      <td>positive</td>\n",
       "    </tr>\n",
       "  </tbody>\n",
       "</table>\n",
       "</div>"
      ],
      "text/plain": [
       "   Unnamed: 0          id                                               link  \\\n",
       "0           0  1698308935  https://twitter.com/realDonaldTrump/status/169...   \n",
       "1           1  1701461182  https://twitter.com/realDonaldTrump/status/170...   \n",
       "\n",
       "                                             content                 date  \\\n",
       "0  Be sure to tune in and watch Donald Trump on L...  2009-05-04 20:54:25   \n",
       "1  Donald Trump will be appearing on The View tom...  2009-05-05 03:00:10   \n",
       "\n",
       "   retweets  favorites mentions hashtags  geo Sentiment  \n",
       "0       500        868      NaN      NaN  NaN  positive  \n",
       "1        33        273      NaN      NaN  NaN  positive  "
      ]
     },
     "execution_count": 3,
     "metadata": {},
     "output_type": "execute_result"
    }
   ],
   "source": [
    "# Chect first 2 rows of data.\n",
    "dataset.head(2)"
   ]
  },
  {
   "cell_type": "code",
   "execution_count": 4,
   "metadata": {
    "colab": {},
    "colab_type": "code",
    "id": "NjKyaKs8LOLE"
   },
   "outputs": [],
   "source": [
    "# Here we are going to deal with text data, so we seperate out the text column in a new dataframe: data\n",
    "data = dataset.drop(['Unnamed: 0', 'id', 'link', 'mentions', 'hashtags', 'geo'], axis=1)"
   ]
  },
  {
   "cell_type": "code",
   "execution_count": 5,
   "metadata": {
    "colab": {
     "base_uri": "https://localhost:8080/",
     "height": 197
    },
    "colab_type": "code",
    "id": "LnfR_ovoLYt6",
    "outputId": "370978db-de99-4d92-c28b-305d2781a0a4"
   },
   "outputs": [
    {
     "data": {
      "text/html": [
       "<div>\n",
       "<style scoped>\n",
       "    .dataframe tbody tr th:only-of-type {\n",
       "        vertical-align: middle;\n",
       "    }\n",
       "\n",
       "    .dataframe tbody tr th {\n",
       "        vertical-align: top;\n",
       "    }\n",
       "\n",
       "    .dataframe thead th {\n",
       "        text-align: right;\n",
       "    }\n",
       "</style>\n",
       "<table border=\"1\" class=\"dataframe\">\n",
       "  <thead>\n",
       "    <tr style=\"text-align: right;\">\n",
       "      <th></th>\n",
       "      <th>content</th>\n",
       "      <th>date</th>\n",
       "      <th>retweets</th>\n",
       "      <th>favorites</th>\n",
       "      <th>Sentiment</th>\n",
       "    </tr>\n",
       "  </thead>\n",
       "  <tbody>\n",
       "    <tr>\n",
       "      <th>0</th>\n",
       "      <td>Be sure to tune in and watch Donald Trump on L...</td>\n",
       "      <td>2009-05-04 20:54:25</td>\n",
       "      <td>500</td>\n",
       "      <td>868</td>\n",
       "      <td>positive</td>\n",
       "    </tr>\n",
       "    <tr>\n",
       "      <th>1</th>\n",
       "      <td>Donald Trump will be appearing on The View tom...</td>\n",
       "      <td>2009-05-05 03:00:10</td>\n",
       "      <td>33</td>\n",
       "      <td>273</td>\n",
       "      <td>positive</td>\n",
       "    </tr>\n",
       "    <tr>\n",
       "      <th>2</th>\n",
       "      <td>Donald Trump reads Top Ten Financial Tips on L...</td>\n",
       "      <td>2009-05-08 15:38:08</td>\n",
       "      <td>12</td>\n",
       "      <td>18</td>\n",
       "      <td>positive</td>\n",
       "    </tr>\n",
       "    <tr>\n",
       "      <th>3</th>\n",
       "      <td>New Blog Post: Celebrity Apprentice Finale and...</td>\n",
       "      <td>2009-05-08 22:40:15</td>\n",
       "      <td>11</td>\n",
       "      <td>24</td>\n",
       "      <td>positive</td>\n",
       "    </tr>\n",
       "    <tr>\n",
       "      <th>4</th>\n",
       "      <td>\"My persona will never be that of a wallflower...</td>\n",
       "      <td>2009-05-12 16:07:28</td>\n",
       "      <td>1399</td>\n",
       "      <td>1965</td>\n",
       "      <td>positive</td>\n",
       "    </tr>\n",
       "  </tbody>\n",
       "</table>\n",
       "</div>"
      ],
      "text/plain": [
       "                                             content                 date  \\\n",
       "0  Be sure to tune in and watch Donald Trump on L...  2009-05-04 20:54:25   \n",
       "1  Donald Trump will be appearing on The View tom...  2009-05-05 03:00:10   \n",
       "2  Donald Trump reads Top Ten Financial Tips on L...  2009-05-08 15:38:08   \n",
       "3  New Blog Post: Celebrity Apprentice Finale and...  2009-05-08 22:40:15   \n",
       "4  \"My persona will never be that of a wallflower...  2009-05-12 16:07:28   \n",
       "\n",
       "   retweets  favorites Sentiment  \n",
       "0       500        868  positive  \n",
       "1        33        273  positive  \n",
       "2        12         18  positive  \n",
       "3        11         24  positive  \n",
       "4      1399       1965  positive  "
      ]
     },
     "execution_count": 5,
     "metadata": {},
     "output_type": "execute_result"
    }
   ],
   "source": [
    "# Check first 5 rows of dataframe.\n",
    "data.head()"
   ]
  },
  {
   "cell_type": "code",
   "execution_count": 6,
   "metadata": {},
   "outputs": [
    {
     "data": {
      "text/plain": [
       "array(['positive', 'negative'], dtype=object)"
      ]
     },
     "execution_count": 6,
     "metadata": {},
     "output_type": "execute_result"
    }
   ],
   "source": [
    "data['Sentiment'].unique()"
   ]
  },
  {
   "cell_type": "code",
   "execution_count": 7,
   "metadata": {
    "colab": {
     "base_uri": "https://localhost:8080/",
     "height": 77
    },
    "colab_type": "code",
    "id": "T2y92bo0LaCw",
    "outputId": "63ea056f-6eb0-4750-b331-846b38860304"
   },
   "outputs": [
    {
     "data": {
      "text/html": [
       "<div>\n",
       "<style scoped>\n",
       "    .dataframe tbody tr th:only-of-type {\n",
       "        vertical-align: middle;\n",
       "    }\n",
       "\n",
       "    .dataframe tbody tr th {\n",
       "        vertical-align: top;\n",
       "    }\n",
       "\n",
       "    .dataframe thead th {\n",
       "        text-align: right;\n",
       "    }\n",
       "</style>\n",
       "<table border=\"1\" class=\"dataframe\">\n",
       "  <thead>\n",
       "    <tr style=\"text-align: right;\">\n",
       "      <th></th>\n",
       "      <th>content</th>\n",
       "      <th>date</th>\n",
       "      <th>retweets</th>\n",
       "      <th>favorites</th>\n",
       "      <th>Sentiment</th>\n",
       "    </tr>\n",
       "  </thead>\n",
       "  <tbody>\n",
       "    <tr>\n",
       "      <th>0</th>\n",
       "      <td>Be sure to tune in and watch Donald Trump on Late Night with David Letterman as he presents the Top Ten List tonight!</td>\n",
       "      <td>2009-05-04 20:54:25</td>\n",
       "      <td>500</td>\n",
       "      <td>868</td>\n",
       "      <td>positive</td>\n",
       "    </tr>\n",
       "  </tbody>\n",
       "</table>\n",
       "</div>"
      ],
      "text/plain": [
       "                                                                                                                 content  \\\n",
       "0  Be sure to tune in and watch Donald Trump on Late Night with David Letterman as he presents the Top Ten List tonight!   \n",
       "\n",
       "                  date  retweets  favorites Sentiment  \n",
       "0  2009-05-04 20:54:25       500        868  positive  "
      ]
     },
     "execution_count": 7,
     "metadata": {},
     "output_type": "execute_result"
    }
   ],
   "source": [
    "# First row of data.\n",
    "pd.set_option('display.max_colwidth', None) # It will enable the entire row visible with truncation of the text. (We can see full text.)\n",
    "data.loc[[0]]"
   ]
  },
  {
   "cell_type": "code",
   "execution_count": 8,
   "metadata": {},
   "outputs": [
    {
     "data": {
      "text/plain": [
       "content      0\n",
       "date         0\n",
       "retweets     0\n",
       "favorites    0\n",
       "Sentiment    0\n",
       "dtype: int64"
      ]
     },
     "execution_count": 8,
     "metadata": {},
     "output_type": "execute_result"
    }
   ],
   "source": [
    "data.isnull().sum()"
   ]
  },
  {
   "cell_type": "code",
   "execution_count": 9,
   "metadata": {},
   "outputs": [
    {
     "data": {
      "text/html": [
       "<div>\n",
       "<style scoped>\n",
       "    .dataframe tbody tr th:only-of-type {\n",
       "        vertical-align: middle;\n",
       "    }\n",
       "\n",
       "    .dataframe tbody tr th {\n",
       "        vertical-align: top;\n",
       "    }\n",
       "\n",
       "    .dataframe thead th {\n",
       "        text-align: right;\n",
       "    }\n",
       "</style>\n",
       "<table border=\"1\" class=\"dataframe\">\n",
       "  <thead>\n",
       "    <tr style=\"text-align: right;\">\n",
       "      <th></th>\n",
       "      <th>content</th>\n",
       "      <th>date</th>\n",
       "      <th>retweets</th>\n",
       "      <th>favorites</th>\n",
       "      <th>Sentiment</th>\n",
       "    </tr>\n",
       "  </thead>\n",
       "  <tbody>\n",
       "    <tr>\n",
       "      <th>0</th>\n",
       "      <td>Be sure to tune in and watch Donald Trump on Late Night with David Letterman as he presents the Top Ten List tonight!</td>\n",
       "      <td>2009-05-04 20:54:25</td>\n",
       "      <td>500</td>\n",
       "      <td>868</td>\n",
       "      <td>positive</td>\n",
       "    </tr>\n",
       "    <tr>\n",
       "      <th>1</th>\n",
       "      <td>Donald Trump will be appearing on The View tomorrow morning to discuss Celebrity Apprentice and his new book Think Like A Champion!</td>\n",
       "      <td>2009-05-05 03:00:10</td>\n",
       "      <td>33</td>\n",
       "      <td>273</td>\n",
       "      <td>positive</td>\n",
       "    </tr>\n",
       "    <tr>\n",
       "      <th>2</th>\n",
       "      <td>Donald Trump reads Top Ten Financial Tips on Late Show with David Letterman: http://tinyurl.com/ooafwn - Very funny!</td>\n",
       "      <td>2009-05-08 15:38:08</td>\n",
       "      <td>12</td>\n",
       "      <td>18</td>\n",
       "      <td>positive</td>\n",
       "    </tr>\n",
       "    <tr>\n",
       "      <th>3</th>\n",
       "      <td>New Blog Post: Celebrity Apprentice Finale and Lessons Learned Along the Way: http://tinyurl.com/qlux5e</td>\n",
       "      <td>2009-05-08 22:40:15</td>\n",
       "      <td>11</td>\n",
       "      <td>24</td>\n",
       "      <td>positive</td>\n",
       "    </tr>\n",
       "    <tr>\n",
       "      <th>4</th>\n",
       "      <td>\"My persona will never be that of a wallflower - I’d rather build walls than cling to them\" --Donald J. Trump</td>\n",
       "      <td>2009-05-12 16:07:28</td>\n",
       "      <td>1399</td>\n",
       "      <td>1965</td>\n",
       "      <td>positive</td>\n",
       "    </tr>\n",
       "  </tbody>\n",
       "</table>\n",
       "</div>"
      ],
      "text/plain": [
       "                                                                                                                               content  \\\n",
       "0                Be sure to tune in and watch Donald Trump on Late Night with David Letterman as he presents the Top Ten List tonight!   \n",
       "1  Donald Trump will be appearing on The View tomorrow morning to discuss Celebrity Apprentice and his new book Think Like A Champion!   \n",
       "2                 Donald Trump reads Top Ten Financial Tips on Late Show with David Letterman: http://tinyurl.com/ooafwn - Very funny!   \n",
       "3                              New Blog Post: Celebrity Apprentice Finale and Lessons Learned Along the Way: http://tinyurl.com/qlux5e   \n",
       "4                        \"My persona will never be that of a wallflower - I’d rather build walls than cling to them\" --Donald J. Trump   \n",
       "\n",
       "                 date  retweets  favorites Sentiment  \n",
       "0 2009-05-04 20:54:25       500        868  positive  \n",
       "1 2009-05-05 03:00:10        33        273  positive  \n",
       "2 2009-05-08 15:38:08        12         18  positive  \n",
       "3 2009-05-08 22:40:15        11         24  positive  \n",
       "4 2009-05-12 16:07:28      1399       1965  positive  "
      ]
     },
     "execution_count": 9,
     "metadata": {},
     "output_type": "execute_result"
    }
   ],
   "source": [
    "data[\"date\"] = pd.to_datetime(data[\"date\"])\n",
    "\n",
    "data.head()"
   ]
  },
  {
   "cell_type": "code",
   "execution_count": 10,
   "metadata": {},
   "outputs": [
    {
     "data": {
      "text/html": [
       "<div>\n",
       "<style scoped>\n",
       "    .dataframe tbody tr th:only-of-type {\n",
       "        vertical-align: middle;\n",
       "    }\n",
       "\n",
       "    .dataframe tbody tr th {\n",
       "        vertical-align: top;\n",
       "    }\n",
       "\n",
       "    .dataframe thead th {\n",
       "        text-align: right;\n",
       "    }\n",
       "</style>\n",
       "<table border=\"1\" class=\"dataframe\">\n",
       "  <thead>\n",
       "    <tr style=\"text-align: right;\">\n",
       "      <th></th>\n",
       "      <th>content</th>\n",
       "      <th>date</th>\n",
       "      <th>retweets</th>\n",
       "      <th>favorites</th>\n",
       "      <th>Sentiment</th>\n",
       "      <th>TweetYr</th>\n",
       "      <th>TweetMth</th>\n",
       "    </tr>\n",
       "  </thead>\n",
       "  <tbody>\n",
       "    <tr>\n",
       "      <th>0</th>\n",
       "      <td>Be sure to tune in and watch Donald Trump on Late Night with David Letterman as he presents the Top Ten List tonight!</td>\n",
       "      <td>2009-05-04 20:54:25</td>\n",
       "      <td>500</td>\n",
       "      <td>868</td>\n",
       "      <td>positive</td>\n",
       "      <td>2009</td>\n",
       "      <td>5</td>\n",
       "    </tr>\n",
       "    <tr>\n",
       "      <th>1</th>\n",
       "      <td>Donald Trump will be appearing on The View tomorrow morning to discuss Celebrity Apprentice and his new book Think Like A Champion!</td>\n",
       "      <td>2009-05-05 03:00:10</td>\n",
       "      <td>33</td>\n",
       "      <td>273</td>\n",
       "      <td>positive</td>\n",
       "      <td>2009</td>\n",
       "      <td>5</td>\n",
       "    </tr>\n",
       "    <tr>\n",
       "      <th>2</th>\n",
       "      <td>Donald Trump reads Top Ten Financial Tips on Late Show with David Letterman: http://tinyurl.com/ooafwn - Very funny!</td>\n",
       "      <td>2009-05-08 15:38:08</td>\n",
       "      <td>12</td>\n",
       "      <td>18</td>\n",
       "      <td>positive</td>\n",
       "      <td>2009</td>\n",
       "      <td>5</td>\n",
       "    </tr>\n",
       "    <tr>\n",
       "      <th>3</th>\n",
       "      <td>New Blog Post: Celebrity Apprentice Finale and Lessons Learned Along the Way: http://tinyurl.com/qlux5e</td>\n",
       "      <td>2009-05-08 22:40:15</td>\n",
       "      <td>11</td>\n",
       "      <td>24</td>\n",
       "      <td>positive</td>\n",
       "      <td>2009</td>\n",
       "      <td>5</td>\n",
       "    </tr>\n",
       "    <tr>\n",
       "      <th>4</th>\n",
       "      <td>\"My persona will never be that of a wallflower - I’d rather build walls than cling to them\" --Donald J. Trump</td>\n",
       "      <td>2009-05-12 16:07:28</td>\n",
       "      <td>1399</td>\n",
       "      <td>1965</td>\n",
       "      <td>positive</td>\n",
       "      <td>2009</td>\n",
       "      <td>5</td>\n",
       "    </tr>\n",
       "  </tbody>\n",
       "</table>\n",
       "</div>"
      ],
      "text/plain": [
       "                                                                                                                               content  \\\n",
       "0                Be sure to tune in and watch Donald Trump on Late Night with David Letterman as he presents the Top Ten List tonight!   \n",
       "1  Donald Trump will be appearing on The View tomorrow morning to discuss Celebrity Apprentice and his new book Think Like A Champion!   \n",
       "2                 Donald Trump reads Top Ten Financial Tips on Late Show with David Letterman: http://tinyurl.com/ooafwn - Very funny!   \n",
       "3                              New Blog Post: Celebrity Apprentice Finale and Lessons Learned Along the Way: http://tinyurl.com/qlux5e   \n",
       "4                        \"My persona will never be that of a wallflower - I’d rather build walls than cling to them\" --Donald J. Trump   \n",
       "\n",
       "                 date  retweets  favorites Sentiment  TweetYr  TweetMth  \n",
       "0 2009-05-04 20:54:25       500        868  positive     2009         5  \n",
       "1 2009-05-05 03:00:10        33        273  positive     2009         5  \n",
       "2 2009-05-08 15:38:08        12         18  positive     2009         5  \n",
       "3 2009-05-08 22:40:15        11         24  positive     2009         5  \n",
       "4 2009-05-12 16:07:28      1399       1965  positive     2009         5  "
      ]
     },
     "execution_count": 10,
     "metadata": {},
     "output_type": "execute_result"
    }
   ],
   "source": [
    "# Extracting registration year from the date\n",
    "data[\"TweetYr\"] = data[\"date\"].apply(lambda x: x.year)\n",
    "data[\"TweetMth\"] = data[\"date\"].apply(lambda x: x.month)\n",
    "\n",
    "data.head()"
   ]
  },
  {
   "cell_type": "code",
   "execution_count": 11,
   "metadata": {},
   "outputs": [
    {
     "name": "stdout",
     "output_type": "stream",
     "text": [
      "2009      56\n",
      "2010     143\n",
      "2011     870\n",
      "2012    4190\n",
      "2013    8207\n",
      "2014    5987\n",
      "2015    7719\n",
      "2016    3951\n",
      "2017    2232\n",
      "2018    2998\n",
      "2019    4588\n",
      "2020     181\n",
      "Name: TweetYr, dtype: int64\n",
      "\n",
      "------------------------------------------------------------\n",
      "1     3864\n",
      "2     2978\n",
      "3     2898\n",
      "4     3438\n",
      "5     3317\n",
      "6     3149\n",
      "7     3676\n",
      "8     3148\n",
      "9     3410\n",
      "10    4508\n",
      "11    3339\n",
      "12    3397\n",
      "Name: TweetMth, dtype: int64\n"
     ]
    }
   ],
   "source": [
    "print(data[\"TweetYr\"].value_counts().sort_index())\n",
    "\n",
    "print()\n",
    "\n",
    "print(\"-\"*60)\n",
    "\n",
    "print(data[\"TweetMth\"].value_counts().sort_index())"
   ]
  },
  {
   "cell_type": "code",
   "execution_count": 14,
   "metadata": {},
   "outputs": [
    {
     "data": {
      "text/plain": [
       "0    MAKE AMERICA GREAT AGAIN!\n",
       "dtype: object"
      ]
     },
     "execution_count": 14,
     "metadata": {},
     "output_type": "execute_result"
    }
   ],
   "source": [
    "data[\"content\"].mode()"
   ]
  },
  {
   "cell_type": "code",
   "execution_count": 17,
   "metadata": {},
   "outputs": [
    {
     "data": {
      "text/plain": [
       "(41122, 7)"
      ]
     },
     "execution_count": 17,
     "metadata": {},
     "output_type": "execute_result"
    }
   ],
   "source": [
    "data.shape"
   ]
  },
  {
   "cell_type": "code",
   "execution_count": 16,
   "metadata": {},
   "outputs": [
    {
     "data": {
      "text/plain": [
       "(33, 7)"
      ]
     },
     "execution_count": 16,
     "metadata": {},
     "output_type": "execute_result"
    }
   ],
   "source": [
    "data[data['content']==\"MAKE AMERICA GREAT AGAIN!\"].shape"
   ]
  },
  {
   "cell_type": "code",
   "execution_count": 18,
   "metadata": {},
   "outputs": [
    {
     "data": {
      "text/plain": [
       "40909"
      ]
     },
     "execution_count": 18,
     "metadata": {},
     "output_type": "execute_result"
    }
   ],
   "source": [
    "data['content'].nunique()"
   ]
  },
  {
   "cell_type": "markdown",
   "metadata": {},
   "source": [
    "###  <span style=\"font-family: Calibri; font-size:1.2em;color:#000055\"> HTML Link Removal using Regular Expression </span>\n",
    "\n",
    "A regular expression is a set of symbols that describes a text pattern. Regular expressions are useful in finding, replacing, and extracting information from text, html and xml files.\n",
    "\n",
    "* <font color=\"red\">[0-9]</font> Matches a single digit\n",
    "* <font color=\"red\">[a-z0-9]</font> Matches a single character that must be a lower case letter or a digit.\n",
    "* <font color=\"red\">[A-Za-z]</font> Matches a single character that much be a upper/lower case letter \n",
    "* <font color=\"red\">\\d</font> Matches any decimal digit; equivalent to the set [0-9].\n",
    "* <font color=\"red\">\\D</font> Matches characters that are not digits, which is equivalent to [^0-9] or [^\\d].\n",
    "* <font color=\"red\">\\w</font> Matches any alphanumeric character, which is equivalent to [a-zA-Z0-9].\n",
    "* <font color=\"red\">\\W</font> Matches any non-alphanumeric character; which is equivalent to [^a-zA-Z0-9] or [^\\w].\n",
    "* <font color=\"red\">\\s</font> Matches any whitespace character; which is equivalent to [\\t\\n\\r\\f\\v], where \\t indicates taps, \\n  line feeds, \\r carriage returns, \\f form feeds and \\v vertical tabs.\n",
    "* <font color=\"red\">\\S:</font> Matches any non-whitespace character; which is equivalent to  [^ \\t\\n\\r\\f\\v].\n",
    "* <font color=\"red\">ˆ</font> Matches the start of the line.\n",
    "* <font color=\"red\">$</font> Matches the end of the line.\n",
    "* <font color=\"red\">.</font> Matches any character (a wildcard).\n",
    "* <font color=\"red\">*</font> Matches when the preceding character occurs zero or more times\n",
    "* <font color=\"red\">?</font> Matches when the preceding character occurs zero or one times\n",
    "* <font color=\"red\">+</font> Matches when the preceding character occurs one or more times\n",
    "\n",
    "More information can be found here :\n",
    "https://docs.python.org/2/library/re.html"
   ]
  },
  {
   "cell_type": "markdown",
   "metadata": {},
   "source": [
    "###  <span style=\"font-family: Calibri; font-size:1.2em;color:#000055\"> Example </span>\n"
   ]
  },
  {
   "cell_type": "code",
   "execution_count": 29,
   "metadata": {},
   "outputs": [
    {
     "name": "stdout",
     "output_type": "stream",
     "text": [
      "['mi78']\n"
     ]
    }
   ],
   "source": [
    "string=\"Uchenna had a good question on how 2 deal w mi78ssing values. The question is gr8\"\n",
    "\n",
    "str1 = re.findall(r'mi\\d+', string)\n",
    "\n",
    "print(str1)"
   ]
  },
  {
   "cell_type": "code",
   "execution_count": 25,
   "metadata": {},
   "outputs": [
    {
     "name": "stdout",
     "output_type": "stream",
     "text": [
      "['2', '78', '98', '8']\n"
     ]
    }
   ],
   "source": [
    "string=\"Uchenna had a good question on how 2 deal w mi78ssi98ng values. The question is gr8. + returns a consecutive set of digits till a non digit character is encontered\"\n",
    "\n",
    "str1 = re.findall(r'\\d+', string)\n",
    "\n",
    "print(str1)"
   ]
  },
  {
   "cell_type": "code",
   "execution_count": 30,
   "metadata": {},
   "outputs": [
    {
     "name": "stdout",
     "output_type": "stream",
     "text": [
      "Barclays CEO stresses the importance of regulatory and cultural reform in financial services at Brussels conference http://t.co/Ge9Lp7hpyG works fine\n"
     ]
    }
   ],
   "source": [
    "string='Barclays CEO stresses the importance of regulatory and cultural reform in financial services at Brussels conference http://t.co/Ge9Lp7hpyG works fine'\n",
    "\n",
    "print(string)"
   ]
  },
  {
   "cell_type": "code",
   "execution_count": 36,
   "metadata": {},
   "outputs": [
    {
     "name": "stdout",
     "output_type": "stream",
     "text": [
      "['http://t.co/Ge9Lp7hpyG']\n"
     ]
    }
   ],
   "source": [
    "str1 = re.findall(r'http\\S+', string)\n",
    "\n",
    "print(str1)"
   ]
  },
  {
   "cell_type": "code",
   "execution_count": 37,
   "metadata": {},
   "outputs": [
    {
     "name": "stdout",
     "output_type": "stream",
     "text": [
      "Barclays CEO stresses the importance of regulatory and cultural reform in financial services at Brussels conference http://t.co/Ge9Lp7hpyG works fine\n",
      "---------------Output-----------------------\n",
      "['http://t.co/Ge9Lp7hpyG']\n"
     ]
    }
   ],
   "source": [
    "str1 = re.findall(r'http\\S+', 'Barclays CEO stresses the importance of regulatory and cultural reform in financial services at Brussels conference http://t.co/Ge9Lp7hpyG works fine')\n",
    "\n",
    "print('Barclays CEO stresses the importance of regulatory and cultural reform in financial services at Brussels conference http://t.co/Ge9Lp7hpyG works fine')\n",
    "\n",
    "print(\"---------------Output-----------------------\")\n",
    "\n",
    "print (str1)"
   ]
  },
  {
   "cell_type": "code",
   "execution_count": 38,
   "metadata": {},
   "outputs": [
    {
     "name": "stdout",
     "output_type": "stream",
     "text": [
      "New Blog Post: Celebrity Apprentice Finale and Lessons Learned Along the Way: http://tinyurl.com/qlux5e\n",
      "---------------Output-----------------------\n",
      "['http://tinyurl.com/qlux5e']\n"
     ]
    }
   ],
   "source": [
    "str_tweet=data.at[3, \"content\"]\n",
    "\n",
    "print(str_tweet)\n",
    "\n",
    "str1=re.findall(r'http\\S+', str_tweet)\n",
    "\n",
    "print(\"---------------Output-----------------------\")\n",
    "print (str1)"
   ]
  },
  {
   "cell_type": "code",
   "execution_count": 39,
   "metadata": {},
   "outputs": [
    {
     "data": {
      "text/plain": [
       "'Be sure to tune in and watch Donald Trump on Late Night with David Letterman as he presents the Top Ten List tonight!'"
      ]
     },
     "execution_count": 39,
     "metadata": {},
     "output_type": "execute_result"
    }
   ],
   "source": [
    "data.at[0,'content'] #o is the row index (record number), column name"
   ]
  },
  {
   "cell_type": "code",
   "execution_count": 40,
   "metadata": {
    "colab": {
     "base_uri": "https://localhost:8080/",
     "height": 197
    },
    "colab_type": "code",
    "id": "QBJvqaRULdH8",
    "outputId": "d9da4566-e350-4d51-f4d3-00fb11b68cd1"
   },
   "outputs": [
    {
     "data": {
      "text/html": [
       "<div>\n",
       "<style scoped>\n",
       "    .dataframe tbody tr th:only-of-type {\n",
       "        vertical-align: middle;\n",
       "    }\n",
       "\n",
       "    .dataframe tbody tr th {\n",
       "        vertical-align: top;\n",
       "    }\n",
       "\n",
       "    .dataframe thead th {\n",
       "        text-align: right;\n",
       "    }\n",
       "</style>\n",
       "<table border=\"1\" class=\"dataframe\">\n",
       "  <thead>\n",
       "    <tr style=\"text-align: right;\">\n",
       "      <th></th>\n",
       "      <th>content</th>\n",
       "      <th>date</th>\n",
       "      <th>retweets</th>\n",
       "      <th>favorites</th>\n",
       "      <th>Sentiment</th>\n",
       "      <th>TweetYr</th>\n",
       "      <th>TweetMth</th>\n",
       "      <th>text</th>\n",
       "    </tr>\n",
       "  </thead>\n",
       "  <tbody>\n",
       "    <tr>\n",
       "      <th>0</th>\n",
       "      <td>Be sure to tune in and watch Donald Trump on Late Night with David Letterman as he presents the Top Ten List tonight!</td>\n",
       "      <td>2009-05-04 20:54:25</td>\n",
       "      <td>500</td>\n",
       "      <td>868</td>\n",
       "      <td>positive</td>\n",
       "      <td>2009</td>\n",
       "      <td>5</td>\n",
       "      <td>Be sure to tune in and watch Donald Trump on Late Night with David Letterman as he presents the Top Ten List tonight!</td>\n",
       "    </tr>\n",
       "    <tr>\n",
       "      <th>1</th>\n",
       "      <td>Donald Trump will be appearing on The View tomorrow morning to discuss Celebrity Apprentice and his new book Think Like A Champion!</td>\n",
       "      <td>2009-05-05 03:00:10</td>\n",
       "      <td>33</td>\n",
       "      <td>273</td>\n",
       "      <td>positive</td>\n",
       "      <td>2009</td>\n",
       "      <td>5</td>\n",
       "      <td>Donald Trump will be appearing on The View tomorrow morning to discuss Celebrity Apprentice and his new book Think Like A Champion!</td>\n",
       "    </tr>\n",
       "    <tr>\n",
       "      <th>2</th>\n",
       "      <td>Donald Trump reads Top Ten Financial Tips on Late Show with David Letterman: http://tinyurl.com/ooafwn - Very funny!</td>\n",
       "      <td>2009-05-08 15:38:08</td>\n",
       "      <td>12</td>\n",
       "      <td>18</td>\n",
       "      <td>positive</td>\n",
       "      <td>2009</td>\n",
       "      <td>5</td>\n",
       "      <td>Donald Trump reads Top Ten Financial Tips on Late Show with David Letterman:  - Very funny!</td>\n",
       "    </tr>\n",
       "    <tr>\n",
       "      <th>3</th>\n",
       "      <td>New Blog Post: Celebrity Apprentice Finale and Lessons Learned Along the Way: http://tinyurl.com/qlux5e</td>\n",
       "      <td>2009-05-08 22:40:15</td>\n",
       "      <td>11</td>\n",
       "      <td>24</td>\n",
       "      <td>positive</td>\n",
       "      <td>2009</td>\n",
       "      <td>5</td>\n",
       "      <td>New Blog Post: Celebrity Apprentice Finale and Lessons Learned Along the Way:</td>\n",
       "    </tr>\n",
       "    <tr>\n",
       "      <th>4</th>\n",
       "      <td>\"My persona will never be that of a wallflower - I’d rather build walls than cling to them\" --Donald J. Trump</td>\n",
       "      <td>2009-05-12 16:07:28</td>\n",
       "      <td>1399</td>\n",
       "      <td>1965</td>\n",
       "      <td>positive</td>\n",
       "      <td>2009</td>\n",
       "      <td>5</td>\n",
       "      <td>\"My persona will never be that of a wallflower - I’d rather build walls than cling to them\" --Donald J. Trump</td>\n",
       "    </tr>\n",
       "  </tbody>\n",
       "</table>\n",
       "</div>"
      ],
      "text/plain": [
       "                                                                                                                               content  \\\n",
       "0                Be sure to tune in and watch Donald Trump on Late Night with David Letterman as he presents the Top Ten List tonight!   \n",
       "1  Donald Trump will be appearing on The View tomorrow morning to discuss Celebrity Apprentice and his new book Think Like A Champion!   \n",
       "2                 Donald Trump reads Top Ten Financial Tips on Late Show with David Letterman: http://tinyurl.com/ooafwn - Very funny!   \n",
       "3                              New Blog Post: Celebrity Apprentice Finale and Lessons Learned Along the Way: http://tinyurl.com/qlux5e   \n",
       "4                        \"My persona will never be that of a wallflower - I’d rather build walls than cling to them\" --Donald J. Trump   \n",
       "\n",
       "                 date  retweets  favorites Sentiment  TweetYr  TweetMth  \\\n",
       "0 2009-05-04 20:54:25       500        868  positive     2009         5   \n",
       "1 2009-05-05 03:00:10        33        273  positive     2009         5   \n",
       "2 2009-05-08 15:38:08        12         18  positive     2009         5   \n",
       "3 2009-05-08 22:40:15        11         24  positive     2009         5   \n",
       "4 2009-05-12 16:07:28      1399       1965  positive     2009         5   \n",
       "\n",
       "                                                                                                                                  text  \n",
       "0                Be sure to tune in and watch Donald Trump on Late Night with David Letterman as he presents the Top Ten List tonight!  \n",
       "1  Donald Trump will be appearing on The View tomorrow morning to discuss Celebrity Apprentice and his new book Think Like A Champion!  \n",
       "2                                          Donald Trump reads Top Ten Financial Tips on Late Show with David Letterman:  - Very funny!  \n",
       "3                                                       New Blog Post: Celebrity Apprentice Finale and Lessons Learned Along the Way:   \n",
       "4                        \"My persona will never be that of a wallflower - I’d rather build walls than cling to them\" --Donald J. Trump  "
      ]
     },
     "execution_count": 40,
     "metadata": {},
     "output_type": "execute_result"
    }
   ],
   "source": [
    "# Removal of the http link using Regular Expression.\n",
    "\n",
    "for i, row in data.iterrows():\n",
    "\n",
    "    #     print(i,row)\n",
    "    \n",
    "    clean_text = re.sub(r\"http\\S+\", \"\", data.at[i, 'content']) #--Extracting anything that follows http till a space is encountered\n",
    "    \n",
    "    data.at[i,'text'] = clean_text #---Puts the cleaned text back to the data frame\n",
    "    \n",
    "data.head()"
   ]
  },
  {
   "cell_type": "markdown",
   "metadata": {},
   "source": [
    "###  <span style=\"font-family: Calibri; font-size:1.2em;color:#000055\"> HTML Tags $\\text<br></br>$ </span>"
   ]
  },
  {
   "cell_type": "code",
   "execution_count": 41,
   "metadata": {},
   "outputs": [
    {
     "name": "stderr",
     "output_type": "stream",
     "text": [
      "C:\\Users\\91905\\anaconda3\\lib\\site-packages\\bs4\\__init__.py:314: UserWarning: \"b'....'\" looks like a filename, not markup. You should probably open this file and pass the filehandle into Beautiful Soup.\n",
      "  ' Beautiful Soup.' % markup)\n"
     ]
    },
    {
     "data": {
      "text/html": [
       "<div>\n",
       "<style scoped>\n",
       "    .dataframe tbody tr th:only-of-type {\n",
       "        vertical-align: middle;\n",
       "    }\n",
       "\n",
       "    .dataframe tbody tr th {\n",
       "        vertical-align: top;\n",
       "    }\n",
       "\n",
       "    .dataframe thead th {\n",
       "        text-align: right;\n",
       "    }\n",
       "</style>\n",
       "<table border=\"1\" class=\"dataframe\">\n",
       "  <thead>\n",
       "    <tr style=\"text-align: right;\">\n",
       "      <th></th>\n",
       "      <th>content</th>\n",
       "      <th>date</th>\n",
       "      <th>retweets</th>\n",
       "      <th>favorites</th>\n",
       "      <th>Sentiment</th>\n",
       "      <th>TweetYr</th>\n",
       "      <th>TweetMth</th>\n",
       "      <th>text</th>\n",
       "    </tr>\n",
       "  </thead>\n",
       "  <tbody>\n",
       "    <tr>\n",
       "      <th>0</th>\n",
       "      <td>Be sure to tune in and watch Donald Trump on Late Night with David Letterman as he presents the Top Ten List tonight!</td>\n",
       "      <td>2009-05-04 20:54:25</td>\n",
       "      <td>500</td>\n",
       "      <td>868</td>\n",
       "      <td>positive</td>\n",
       "      <td>2009</td>\n",
       "      <td>5</td>\n",
       "      <td>Be sure to tune in and watch Donald Trump on Late Night with David Letterman as he presents the Top Ten List tonight!</td>\n",
       "    </tr>\n",
       "    <tr>\n",
       "      <th>1</th>\n",
       "      <td>Donald Trump will be appearing on The View tomorrow morning to discuss Celebrity Apprentice and his new book Think Like A Champion!</td>\n",
       "      <td>2009-05-05 03:00:10</td>\n",
       "      <td>33</td>\n",
       "      <td>273</td>\n",
       "      <td>positive</td>\n",
       "      <td>2009</td>\n",
       "      <td>5</td>\n",
       "      <td>Donald Trump will be appearing on The View tomorrow morning to discuss Celebrity Apprentice and his new book Think Like A Champion!</td>\n",
       "    </tr>\n",
       "    <tr>\n",
       "      <th>2</th>\n",
       "      <td>Donald Trump reads Top Ten Financial Tips on Late Show with David Letterman: http://tinyurl.com/ooafwn - Very funny!</td>\n",
       "      <td>2009-05-08 15:38:08</td>\n",
       "      <td>12</td>\n",
       "      <td>18</td>\n",
       "      <td>positive</td>\n",
       "      <td>2009</td>\n",
       "      <td>5</td>\n",
       "      <td>Donald Trump reads Top Ten Financial Tips on Late Show with David Letterman:  - Very funny!</td>\n",
       "    </tr>\n",
       "    <tr>\n",
       "      <th>3</th>\n",
       "      <td>New Blog Post: Celebrity Apprentice Finale and Lessons Learned Along the Way: http://tinyurl.com/qlux5e</td>\n",
       "      <td>2009-05-08 22:40:15</td>\n",
       "      <td>11</td>\n",
       "      <td>24</td>\n",
       "      <td>positive</td>\n",
       "      <td>2009</td>\n",
       "      <td>5</td>\n",
       "      <td>New Blog Post: Celebrity Apprentice Finale and Lessons Learned Along the Way:</td>\n",
       "    </tr>\n",
       "    <tr>\n",
       "      <th>4</th>\n",
       "      <td>\"My persona will never be that of a wallflower - I’d rather build walls than cling to them\" --Donald J. Trump</td>\n",
       "      <td>2009-05-12 16:07:28</td>\n",
       "      <td>1399</td>\n",
       "      <td>1965</td>\n",
       "      <td>positive</td>\n",
       "      <td>2009</td>\n",
       "      <td>5</td>\n",
       "      <td>\"My persona will never be that of a wallflower - I’d rather build walls than cling to them\" --Donald J. Trump</td>\n",
       "    </tr>\n",
       "  </tbody>\n",
       "</table>\n",
       "</div>"
      ],
      "text/plain": [
       "                                                                                                                               content  \\\n",
       "0                Be sure to tune in and watch Donald Trump on Late Night with David Letterman as he presents the Top Ten List tonight!   \n",
       "1  Donald Trump will be appearing on The View tomorrow morning to discuss Celebrity Apprentice and his new book Think Like A Champion!   \n",
       "2                 Donald Trump reads Top Ten Financial Tips on Late Show with David Letterman: http://tinyurl.com/ooafwn - Very funny!   \n",
       "3                              New Blog Post: Celebrity Apprentice Finale and Lessons Learned Along the Way: http://tinyurl.com/qlux5e   \n",
       "4                        \"My persona will never be that of a wallflower - I’d rather build walls than cling to them\" --Donald J. Trump   \n",
       "\n",
       "                 date  retweets  favorites Sentiment  TweetYr  TweetMth  \\\n",
       "0 2009-05-04 20:54:25       500        868  positive     2009         5   \n",
       "1 2009-05-05 03:00:10        33        273  positive     2009         5   \n",
       "2 2009-05-08 15:38:08        12         18  positive     2009         5   \n",
       "3 2009-05-08 22:40:15        11         24  positive     2009         5   \n",
       "4 2009-05-12 16:07:28      1399       1965  positive     2009         5   \n",
       "\n",
       "                                                                                                                                  text  \n",
       "0                Be sure to tune in and watch Donald Trump on Late Night with David Letterman as he presents the Top Ten List tonight!  \n",
       "1  Donald Trump will be appearing on The View tomorrow morning to discuss Celebrity Apprentice and his new book Think Like A Champion!  \n",
       "2                                          Donald Trump reads Top Ten Financial Tips on Late Show with David Letterman:  - Very funny!  \n",
       "3                                                       New Blog Post: Celebrity Apprentice Finale and Lessons Learned Along the Way:   \n",
       "4                        \"My persona will never be that of a wallflower - I’d rather build walls than cling to them\" --Donald J. Trump  "
      ]
     },
     "execution_count": 41,
     "metadata": {},
     "output_type": "execute_result"
    }
   ],
   "source": [
    "def strip_html(text):\n",
    "    \n",
    "    soup = BeautifulSoup(text, \"html.parser\")\n",
    "    \n",
    "    return soup.get_text()\n",
    "\n",
    "data['text'] = data['text'].apply(lambda x: strip_html(x))\n",
    "\n",
    "data.head()"
   ]
  },
  {
   "cell_type": "markdown",
   "metadata": {},
   "source": [
    "###  <span style=\"font-family: Calibri; font-size:1.2em;color:#000055\"> Accented Characters Removal</span>\n",
    "\n",
    "Words with accent marks like “latté” and “café” should be standardized to just “latte” and “cafe”, else the model treats them as separate words although they convey the same meaning.\n",
    "\n",
    "https://pypi.org/project/Unidecode/"
   ]
  },
  {
   "cell_type": "code",
   "execution_count": 44,
   "metadata": {},
   "outputs": [
    {
     "data": {
      "text/html": [
       "<div>\n",
       "<style scoped>\n",
       "    .dataframe tbody tr th:only-of-type {\n",
       "        vertical-align: middle;\n",
       "    }\n",
       "\n",
       "    .dataframe tbody tr th {\n",
       "        vertical-align: top;\n",
       "    }\n",
       "\n",
       "    .dataframe thead th {\n",
       "        text-align: right;\n",
       "    }\n",
       "</style>\n",
       "<table border=\"1\" class=\"dataframe\">\n",
       "  <thead>\n",
       "    <tr style=\"text-align: right;\">\n",
       "      <th></th>\n",
       "      <th>content</th>\n",
       "      <th>date</th>\n",
       "      <th>retweets</th>\n",
       "      <th>favorites</th>\n",
       "      <th>Sentiment</th>\n",
       "      <th>TweetYr</th>\n",
       "      <th>TweetMth</th>\n",
       "      <th>text</th>\n",
       "    </tr>\n",
       "  </thead>\n",
       "  <tbody>\n",
       "    <tr>\n",
       "      <th>0</th>\n",
       "      <td>Be sure to tune in and watch Donald Trump on Late Night with David Letterman as he presents the Top Ten List tonight!</td>\n",
       "      <td>2009-05-04 20:54:25</td>\n",
       "      <td>500</td>\n",
       "      <td>868</td>\n",
       "      <td>positive</td>\n",
       "      <td>2009</td>\n",
       "      <td>5</td>\n",
       "      <td>Be sure to tune in and watch Donald Trump on Late Night with David Letterman as he presents the Top Ten List tonight!</td>\n",
       "    </tr>\n",
       "    <tr>\n",
       "      <th>1</th>\n",
       "      <td>Donald Trump will be appearing on The View tomorrow morning to discuss Celebrity Apprentice and his new book Think Like A Champion!</td>\n",
       "      <td>2009-05-05 03:00:10</td>\n",
       "      <td>33</td>\n",
       "      <td>273</td>\n",
       "      <td>positive</td>\n",
       "      <td>2009</td>\n",
       "      <td>5</td>\n",
       "      <td>Donald Trump will be appearing on The View tomorrow morning to discuss Celebrity Apprentice and his new book Think Like A Champion!</td>\n",
       "    </tr>\n",
       "    <tr>\n",
       "      <th>2</th>\n",
       "      <td>Donald Trump reads Top Ten Financial Tips on Late Show with David Letterman: http://tinyurl.com/ooafwn - Very funny!</td>\n",
       "      <td>2009-05-08 15:38:08</td>\n",
       "      <td>12</td>\n",
       "      <td>18</td>\n",
       "      <td>positive</td>\n",
       "      <td>2009</td>\n",
       "      <td>5</td>\n",
       "      <td>Donald Trump reads Top Ten Financial Tips on Late Show with David Letterman:  - Very funny!</td>\n",
       "    </tr>\n",
       "    <tr>\n",
       "      <th>3</th>\n",
       "      <td>New Blog Post: Celebrity Apprentice Finale and Lessons Learned Along the Way: http://tinyurl.com/qlux5e</td>\n",
       "      <td>2009-05-08 22:40:15</td>\n",
       "      <td>11</td>\n",
       "      <td>24</td>\n",
       "      <td>positive</td>\n",
       "      <td>2009</td>\n",
       "      <td>5</td>\n",
       "      <td>New Blog Post: Celebrity Apprentice Finale and Lessons Learned Along the Way:</td>\n",
       "    </tr>\n",
       "    <tr>\n",
       "      <th>4</th>\n",
       "      <td>\"My persona will never be that of a wallflower - I’d rather build walls than cling to them\" --Donald J. Trump</td>\n",
       "      <td>2009-05-12 16:07:28</td>\n",
       "      <td>1399</td>\n",
       "      <td>1965</td>\n",
       "      <td>positive</td>\n",
       "      <td>2009</td>\n",
       "      <td>5</td>\n",
       "      <td>\"My persona will never be that of a wallflower - I'd rather build walls than cling to them\" --Donald J. Trump</td>\n",
       "    </tr>\n",
       "  </tbody>\n",
       "</table>\n",
       "</div>"
      ],
      "text/plain": [
       "                                                                                                                               content  \\\n",
       "0                Be sure to tune in and watch Donald Trump on Late Night with David Letterman as he presents the Top Ten List tonight!   \n",
       "1  Donald Trump will be appearing on The View tomorrow morning to discuss Celebrity Apprentice and his new book Think Like A Champion!   \n",
       "2                 Donald Trump reads Top Ten Financial Tips on Late Show with David Letterman: http://tinyurl.com/ooafwn - Very funny!   \n",
       "3                              New Blog Post: Celebrity Apprentice Finale and Lessons Learned Along the Way: http://tinyurl.com/qlux5e   \n",
       "4                        \"My persona will never be that of a wallflower - I’d rather build walls than cling to them\" --Donald J. Trump   \n",
       "\n",
       "                 date  retweets  favorites Sentiment  TweetYr  TweetMth  \\\n",
       "0 2009-05-04 20:54:25       500        868  positive     2009         5   \n",
       "1 2009-05-05 03:00:10        33        273  positive     2009         5   \n",
       "2 2009-05-08 15:38:08        12         18  positive     2009         5   \n",
       "3 2009-05-08 22:40:15        11         24  positive     2009         5   \n",
       "4 2009-05-12 16:07:28      1399       1965  positive     2009         5   \n",
       "\n",
       "                                                                                                                                  text  \n",
       "0                Be sure to tune in and watch Donald Trump on Late Night with David Letterman as he presents the Top Ten List tonight!  \n",
       "1  Donald Trump will be appearing on The View tomorrow morning to discuss Celebrity Apprentice and his new book Think Like A Champion!  \n",
       "2                                          Donald Trump reads Top Ten Financial Tips on Late Show with David Letterman:  - Very funny!  \n",
       "3                                                       New Blog Post: Celebrity Apprentice Finale and Lessons Learned Along the Way:   \n",
       "4                        \"My persona will never be that of a wallflower - I'd rather build walls than cling to them\" --Donald J. Trump  "
      ]
     },
     "execution_count": 44,
     "metadata": {},
     "output_type": "execute_result"
    }
   ],
   "source": [
    "# !pip install unidecode\n",
    "\n",
    "import unidecode\n",
    "\n",
    "def remove_accented_chars(text):\n",
    "    \n",
    "    \"\"\"Remove accented characters from text, e.g. café\"\"\"\n",
    "    \n",
    "    text = unidecode.unidecode(text)\n",
    "    \n",
    "    return text\n",
    "\n",
    "data['text'] = data['text'].apply(lambda x: remove_accented_chars(x))\n",
    "\n",
    "data.head()"
   ]
  },
  {
   "cell_type": "code",
   "execution_count": 42,
   "metadata": {},
   "outputs": [
    {
     "data": {
      "text/plain": [
       "False"
      ]
     },
     "execution_count": 42,
     "metadata": {},
     "output_type": "execute_result"
    }
   ],
   "source": [
    "text1=\"latté\"\n",
    "\n",
    "text2=\"latte\"\n",
    "\n",
    "text1==text2"
   ]
  },
  {
   "cell_type": "code",
   "execution_count": 45,
   "metadata": {},
   "outputs": [
    {
     "name": "stdout",
     "output_type": "stream",
     "text": [
      "Words with accent marks like \"latte\" and \"cafe\" should be standardized to just \"latte\" and \"cafe\", else the model treats them as separate words although they convey the same meaning.\n"
     ]
    }
   ],
   "source": [
    "text=\"Words with accent marks like “latté” and “café” should be standardized to just “latte” and “cafe”, else the model treats them as separate words although they convey the same meaning.\"\n",
    "\n",
    "print(remove_accented_chars(text))"
   ]
  },
  {
   "cell_type": "markdown",
   "metadata": {},
   "source": [
    "###  <span style=\"font-family: Calibri; font-size:1.2em;color:#000055\"> Language Detection </span>\n",
    "\n",
    "Since we end up using stops words and other relevant information pertaining to english dictionary only, it is good to check the language information of the text before preprocessing. langdetect supports 55 languages out of the box (ISO 639-1 codes):\n",
    "\n",
    "https://pypi.org/project/langdetect/\n",
    "\n",
    "\n",
    "!pip install -q googletrans\n",
    "\n",
    "from googletrans import Translator\n",
    "\n",
    "translator = Translator()\n",
    "\n",
    "translations = clean_df[clean_df['Language']=='de']['Description'].apply(lambda x: translator.translate(x).text)"
   ]
  },
  {
   "cell_type": "code",
   "execution_count": 46,
   "metadata": {},
   "outputs": [
    {
     "name": "stderr",
     "output_type": "stream",
     "text": [
      "C:\\Users\\91905\\anaconda3\\lib\\site-packages\\ipykernel_launcher.py:11: SettingWithCopyWarning: \n",
      "A value is trying to be set on a copy of a slice from a DataFrame\n",
      "\n",
      "See the caveats in the documentation: https://pandas.pydata.org/pandas-docs/stable/user_guide/indexing.html#returning-a-view-versus-a-copy\n",
      "  # This is added back by InteractiveShellApp.init_path()\n",
      "C:\\Users\\91905\\anaconda3\\lib\\site-packages\\ipykernel_launcher.py:13: SettingWithCopyWarning: \n",
      "A value is trying to be set on a copy of a slice from a DataFrame\n",
      "\n",
      "See the caveats in the documentation: https://pandas.pydata.org/pandas-docs/stable/user_guide/indexing.html#returning-a-view-versus-a-copy\n",
      "  del sys.path[0]\n"
     ]
    },
    {
     "name": "stdout",
     "output_type": "stream",
     "text": [
      "Wall time: 11.1 s\n"
     ]
    }
   ],
   "source": [
    "%%time\n",
    "\n",
    "data_copy=data.sample(1000).copy()\n",
    "\n",
    "from langdetect import detect\n",
    "\n",
    "data_copy['Language'] = \"\"\n",
    "\n",
    "for i, desc in enumerate(data_copy['text']):\n",
    "    \n",
    "    try:\n",
    "        data_copy['Language'][i] = detect(desc)\n",
    "    except:\n",
    "        data_copy['Language'][i] = 'unknown'\n",
    "    "
   ]
  },
  {
   "cell_type": "code",
   "execution_count": 47,
   "metadata": {},
   "outputs": [
    {
     "data": {
      "text/plain": [
       "      975\n",
       "en     25\n",
       "Name: Language, dtype: int64"
      ]
     },
     "execution_count": 47,
     "metadata": {},
     "output_type": "execute_result"
    }
   ],
   "source": [
    "data_copy['Language'].value_counts()"
   ]
  },
  {
   "cell_type": "code",
   "execution_count": 48,
   "metadata": {},
   "outputs": [
    {
     "data": {
      "text/html": [
       "<div>\n",
       "<style scoped>\n",
       "    .dataframe tbody tr th:only-of-type {\n",
       "        vertical-align: middle;\n",
       "    }\n",
       "\n",
       "    .dataframe tbody tr th {\n",
       "        vertical-align: top;\n",
       "    }\n",
       "\n",
       "    .dataframe thead th {\n",
       "        text-align: right;\n",
       "    }\n",
       "</style>\n",
       "<table border=\"1\" class=\"dataframe\">\n",
       "  <thead>\n",
       "    <tr style=\"text-align: right;\">\n",
       "      <th></th>\n",
       "      <th>content</th>\n",
       "      <th>date</th>\n",
       "      <th>retweets</th>\n",
       "      <th>favorites</th>\n",
       "      <th>Sentiment</th>\n",
       "      <th>TweetYr</th>\n",
       "      <th>TweetMth</th>\n",
       "      <th>text</th>\n",
       "      <th>Language</th>\n",
       "    </tr>\n",
       "  </thead>\n",
       "  <tbody>\n",
       "    <tr>\n",
       "      <th>2020</th>\n",
       "      <td>I'll be on @ foxandfriends on Monday at 7:30 a.m. Always a great time.</td>\n",
       "      <td>2012-05-11 15:06:40</td>\n",
       "      <td>14</td>\n",
       "      <td>6</td>\n",
       "      <td>positive</td>\n",
       "      <td>2012</td>\n",
       "      <td>5</td>\n",
       "      <td>I'll be on @ foxandfriends on Monday at 7:30 a.m. Always a great time.</td>\n",
       "      <td></td>\n",
       "    </tr>\n",
       "    <tr>\n",
       "      <th>7575</th>\n",
       "      <td>Life always presents new opportunities you would never expect. I hosted @ WrestleMania &amp; then I starred in one, which sold most PPVs.</td>\n",
       "      <td>2013-03-21 19:55:15</td>\n",
       "      <td>91</td>\n",
       "      <td>51</td>\n",
       "      <td>positive</td>\n",
       "      <td>2013</td>\n",
       "      <td>3</td>\n",
       "      <td>Life always presents new opportunities you would never expect. I hosted @ WrestleMania &amp; then I starred in one, which sold most PPVs.</td>\n",
       "      <td></td>\n",
       "    </tr>\n",
       "    <tr>\n",
       "      <th>3066</th>\n",
       "      <td>Republicans should have been much tougher on Obama. Just wait until you see what Obama does to Romney at the DNC!</td>\n",
       "      <td>2012-09-01 00:36:21</td>\n",
       "      <td>265</td>\n",
       "      <td>55</td>\n",
       "      <td>positive</td>\n",
       "      <td>2012</td>\n",
       "      <td>9</td>\n",
       "      <td>Republicans should have been much tougher on Obama. Just wait until you see what Obama does to Romney at the DNC!</td>\n",
       "      <td></td>\n",
       "    </tr>\n",
       "    <tr>\n",
       "      <th>15981</th>\n",
       "      <td>Will the Benghazi terrorist use the videotape as a defense? If so, will Obama apologize to him?</td>\n",
       "      <td>2014-06-19 17:44:13</td>\n",
       "      <td>91</td>\n",
       "      <td>140</td>\n",
       "      <td>negative</td>\n",
       "      <td>2014</td>\n",
       "      <td>6</td>\n",
       "      <td>Will the Benghazi terrorist use the videotape as a defense? If so, will Obama apologize to him?</td>\n",
       "      <td></td>\n",
       "    </tr>\n",
       "    <tr>\n",
       "      <th>22292</th>\n",
       "      <td>Nobody but Donald Trump will save Israel. You are wasting your time with these politicians and political clowns. Best! # SheldonAdelson</td>\n",
       "      <td>2015-04-27 16:33:20</td>\n",
       "      <td>436</td>\n",
       "      <td>459</td>\n",
       "      <td>positive</td>\n",
       "      <td>2015</td>\n",
       "      <td>4</td>\n",
       "      <td>Nobody but Donald Trump will save Israel. You are wasting your time with these politicians and political clowns. Best! # SheldonAdelson</td>\n",
       "      <td></td>\n",
       "    </tr>\n",
       "  </tbody>\n",
       "</table>\n",
       "</div>"
      ],
      "text/plain": [
       "                                                                                                                                       content  \\\n",
       "2020                                                                    I'll be on @ foxandfriends on Monday at 7:30 a.m. Always a great time.   \n",
       "7575     Life always presents new opportunities you would never expect. I hosted @ WrestleMania & then I starred in one, which sold most PPVs.   \n",
       "3066                         Republicans should have been much tougher on Obama. Just wait until you see what Obama does to Romney at the DNC!   \n",
       "15981                                          Will the Benghazi terrorist use the videotape as a defense? If so, will Obama apologize to him?   \n",
       "22292  Nobody but Donald Trump will save Israel. You are wasting your time with these politicians and political clowns. Best! # SheldonAdelson   \n",
       "\n",
       "                     date  retweets  favorites Sentiment  TweetYr  TweetMth  \\\n",
       "2020  2012-05-11 15:06:40        14          6  positive     2012         5   \n",
       "7575  2013-03-21 19:55:15        91         51  positive     2013         3   \n",
       "3066  2012-09-01 00:36:21       265         55  positive     2012         9   \n",
       "15981 2014-06-19 17:44:13        91        140  negative     2014         6   \n",
       "22292 2015-04-27 16:33:20       436        459  positive     2015         4   \n",
       "\n",
       "                                                                                                                                          text  \\\n",
       "2020                                                                    I'll be on @ foxandfriends on Monday at 7:30 a.m. Always a great time.   \n",
       "7575     Life always presents new opportunities you would never expect. I hosted @ WrestleMania & then I starred in one, which sold most PPVs.   \n",
       "3066                         Republicans should have been much tougher on Obama. Just wait until you see what Obama does to Romney at the DNC!   \n",
       "15981                                          Will the Benghazi terrorist use the videotape as a defense? If so, will Obama apologize to him?   \n",
       "22292  Nobody but Donald Trump will save Israel. You are wasting your time with these politicians and political clowns. Best! # SheldonAdelson   \n",
       "\n",
       "      Language  \n",
       "2020            \n",
       "7575            \n",
       "3066            \n",
       "15981           \n",
       "22292           "
      ]
     },
     "execution_count": 48,
     "metadata": {},
     "output_type": "execute_result"
    }
   ],
   "source": [
    "data_copy[data_copy['Language']!='en'].head()"
   ]
  },
  {
   "cell_type": "markdown",
   "metadata": {
    "colab_type": "text",
    "id": "2GPEvpYhKWaX"
   },
   "source": [
    "###  <span style=\"font-family: Calibri; font-size:1.2em;color:#000055\"> Contractions </span>\n",
    "\n",
    "A contraction is a shortened form of a word (or group of words) that omits certain letters or sounds. In most contractions, an apostrophe represents the missing letters. The most common contractions are made up of verbs, auxiliaries, or modals attached to other words: He would=He’d. I have=I’ve. They are=They’re. You cannot=You can’t."
   ]
  },
  {
   "cell_type": "code",
   "execution_count": 49,
   "metadata": {},
   "outputs": [],
   "source": [
    "def replace_contractions(text):\n",
    "    \n",
    "    \"\"\"Replace contractions in string of text\"\"\"\n",
    "    \n",
    "    return contractions.fix(text)"
   ]
  },
  {
   "cell_type": "code",
   "execution_count": 51,
   "metadata": {},
   "outputs": [
    {
     "name": "stdout",
     "output_type": "stream",
     "text": [
      "I've received a good grade, they're looking forward to visiting me.\n",
      "------------------------------------------------------------\n"
     ]
    },
    {
     "data": {
      "text/plain": [
       "'I have received a good grade, they are looking forward to visiting me.'"
      ]
     },
     "execution_count": 51,
     "metadata": {},
     "output_type": "execute_result"
    }
   ],
   "source": [
    "#---------------------Call the above function using the string declared below-------------------------------------\n",
    "string=\"I've received a good grade, they're looking forward to visiting me.\"\n",
    "print(string)\n",
    "\n",
    "print(\"-\"*60)\n",
    "\n",
    "replace_contractions(string)"
   ]
  },
  {
   "cell_type": "code",
   "execution_count": 52,
   "metadata": {
    "colab": {
     "base_uri": "https://localhost:8080/",
     "height": 197
    },
    "colab_type": "code",
    "id": "PippNlR7iOFX",
    "outputId": "18f081b0-35fb-4d17-a3e1-7a479a86154b"
   },
   "outputs": [
    {
     "data": {
      "text/html": [
       "<div>\n",
       "<style scoped>\n",
       "    .dataframe tbody tr th:only-of-type {\n",
       "        vertical-align: middle;\n",
       "    }\n",
       "\n",
       "    .dataframe tbody tr th {\n",
       "        vertical-align: top;\n",
       "    }\n",
       "\n",
       "    .dataframe thead th {\n",
       "        text-align: right;\n",
       "    }\n",
       "</style>\n",
       "<table border=\"1\" class=\"dataframe\">\n",
       "  <thead>\n",
       "    <tr style=\"text-align: right;\">\n",
       "      <th></th>\n",
       "      <th>content</th>\n",
       "      <th>date</th>\n",
       "      <th>retweets</th>\n",
       "      <th>favorites</th>\n",
       "      <th>Sentiment</th>\n",
       "      <th>TweetYr</th>\n",
       "      <th>TweetMth</th>\n",
       "      <th>text</th>\n",
       "    </tr>\n",
       "  </thead>\n",
       "  <tbody>\n",
       "    <tr>\n",
       "      <th>0</th>\n",
       "      <td>Be sure to tune in and watch Donald Trump on Late Night with David Letterman as he presents the Top Ten List tonight!</td>\n",
       "      <td>2009-05-04 20:54:25</td>\n",
       "      <td>500</td>\n",
       "      <td>868</td>\n",
       "      <td>positive</td>\n",
       "      <td>2009</td>\n",
       "      <td>5</td>\n",
       "      <td>Be sure to tune in and watch Donald Trump on Late Night with David Letterman as he presents the Top Ten List tonight!</td>\n",
       "    </tr>\n",
       "    <tr>\n",
       "      <th>1</th>\n",
       "      <td>Donald Trump will be appearing on The View tomorrow morning to discuss Celebrity Apprentice and his new book Think Like A Champion!</td>\n",
       "      <td>2009-05-05 03:00:10</td>\n",
       "      <td>33</td>\n",
       "      <td>273</td>\n",
       "      <td>positive</td>\n",
       "      <td>2009</td>\n",
       "      <td>5</td>\n",
       "      <td>Donald Trump will be appearing on The View tomorrow morning to discuss Celebrity Apprentice and his new book Think Like A Champion!</td>\n",
       "    </tr>\n",
       "    <tr>\n",
       "      <th>2</th>\n",
       "      <td>Donald Trump reads Top Ten Financial Tips on Late Show with David Letterman: http://tinyurl.com/ooafwn - Very funny!</td>\n",
       "      <td>2009-05-08 15:38:08</td>\n",
       "      <td>12</td>\n",
       "      <td>18</td>\n",
       "      <td>positive</td>\n",
       "      <td>2009</td>\n",
       "      <td>5</td>\n",
       "      <td>Donald Trump reads Top Ten Financial Tips on Late Show with David Letterman:  - Very funny!</td>\n",
       "    </tr>\n",
       "    <tr>\n",
       "      <th>3</th>\n",
       "      <td>New Blog Post: Celebrity Apprentice Finale and Lessons Learned Along the Way: http://tinyurl.com/qlux5e</td>\n",
       "      <td>2009-05-08 22:40:15</td>\n",
       "      <td>11</td>\n",
       "      <td>24</td>\n",
       "      <td>positive</td>\n",
       "      <td>2009</td>\n",
       "      <td>5</td>\n",
       "      <td>New Blog Post: Celebrity Apprentice Finale and Lessons Learned Along the Way:</td>\n",
       "    </tr>\n",
       "    <tr>\n",
       "      <th>4</th>\n",
       "      <td>\"My persona will never be that of a wallflower - I’d rather build walls than cling to them\" --Donald J. Trump</td>\n",
       "      <td>2009-05-12 16:07:28</td>\n",
       "      <td>1399</td>\n",
       "      <td>1965</td>\n",
       "      <td>positive</td>\n",
       "      <td>2009</td>\n",
       "      <td>5</td>\n",
       "      <td>\"My persona will never be that of a wallflower - I would rather build walls than cling to them\" --Donald J. Trump</td>\n",
       "    </tr>\n",
       "  </tbody>\n",
       "</table>\n",
       "</div>"
      ],
      "text/plain": [
       "                                                                                                                               content  \\\n",
       "0                Be sure to tune in and watch Donald Trump on Late Night with David Letterman as he presents the Top Ten List tonight!   \n",
       "1  Donald Trump will be appearing on The View tomorrow morning to discuss Celebrity Apprentice and his new book Think Like A Champion!   \n",
       "2                 Donald Trump reads Top Ten Financial Tips on Late Show with David Letterman: http://tinyurl.com/ooafwn - Very funny!   \n",
       "3                              New Blog Post: Celebrity Apprentice Finale and Lessons Learned Along the Way: http://tinyurl.com/qlux5e   \n",
       "4                        \"My persona will never be that of a wallflower - I’d rather build walls than cling to them\" --Donald J. Trump   \n",
       "\n",
       "                 date  retweets  favorites Sentiment  TweetYr  TweetMth  \\\n",
       "0 2009-05-04 20:54:25       500        868  positive     2009         5   \n",
       "1 2009-05-05 03:00:10        33        273  positive     2009         5   \n",
       "2 2009-05-08 15:38:08        12         18  positive     2009         5   \n",
       "3 2009-05-08 22:40:15        11         24  positive     2009         5   \n",
       "4 2009-05-12 16:07:28      1399       1965  positive     2009         5   \n",
       "\n",
       "                                                                                                                                  text  \n",
       "0                Be sure to tune in and watch Donald Trump on Late Night with David Letterman as he presents the Top Ten List tonight!  \n",
       "1  Donald Trump will be appearing on The View tomorrow morning to discuss Celebrity Apprentice and his new book Think Like A Champion!  \n",
       "2                                          Donald Trump reads Top Ten Financial Tips on Late Show with David Letterman:  - Very funny!  \n",
       "3                                                       New Blog Post: Celebrity Apprentice Finale and Lessons Learned Along the Way:   \n",
       "4                    \"My persona will never be that of a wallflower - I would rather build walls than cling to them\" --Donald J. Trump  "
      ]
     },
     "execution_count": 52,
     "metadata": {},
     "output_type": "execute_result"
    }
   ],
   "source": [
    "# Perform the above operation over all the rows of text column of the dataframe.\n",
    "\n",
    "for i, row in data.iterrows():\n",
    "    \n",
    "#     print(i,row)\n",
    "    text = data.at[i, 'text']\n",
    "    clean_text = replace_contractions(text)\n",
    "    data.at[i,'text'] = clean_text\n",
    "\n",
    "data.head()"
   ]
  },
  {
   "cell_type": "code",
   "execution_count": 53,
   "metadata": {},
   "outputs": [],
   "source": [
    "data_interim=data.copy()"
   ]
  },
  {
   "cell_type": "markdown",
   "metadata": {},
   "source": [
    "###  <span style=\"font-family: Calibri; font-size:1.2em;color:#000055\"> Tokenize </span>\n",
    "\n",
    "https://www.nltk.org/api/nltk.tokenize.html"
   ]
  },
  {
   "cell_type": "code",
   "execution_count": 70,
   "metadata": {},
   "outputs": [],
   "source": [
    "string=\"I've received; a good's grade\"\n",
    "words = nltk.word_tokenize(string)\n",
    "# for w in words:\n",
    "#     print(w,end=\" - \")"
   ]
  },
  {
   "cell_type": "code",
   "execution_count": 71,
   "metadata": {},
   "outputs": [
    {
     "name": "stdout",
     "output_type": "stream",
     "text": [
      "['I', \"'ve\", 'received', ';', 'a', 'good', \"'s\", 'grade']\n"
     ]
    }
   ],
   "source": [
    "print(words)"
   ]
  },
  {
   "cell_type": "code",
   "execution_count": 67,
   "metadata": {},
   "outputs": [
    {
     "name": "stdout",
     "output_type": "stream",
     "text": [
      "['We expect the curriculum to be good?', 'Why not use it to the fullest.']\n"
     ]
    }
   ],
   "source": [
    "string= \"We expect the curriculum to be good? Why not use it to the fullest.\"\n",
    "words = nltk.sent_tokenize(string)\n",
    "# for w in words:\n",
    "#     print(w,end=\" - \")\n",
    "\n",
    "print(words)"
   ]
  },
  {
   "cell_type": "code",
   "execution_count": 72,
   "metadata": {
    "colab": {
     "base_uri": "https://localhost:8080/",
     "height": 197
    },
    "colab_type": "code",
    "id": "sJ-XiOgNiuF8",
    "outputId": "7c475c86-690a-41a0-8a7d-5d88173d2443"
   },
   "outputs": [
    {
     "data": {
      "text/html": [
       "<div>\n",
       "<style scoped>\n",
       "    .dataframe tbody tr th:only-of-type {\n",
       "        vertical-align: middle;\n",
       "    }\n",
       "\n",
       "    .dataframe tbody tr th {\n",
       "        vertical-align: top;\n",
       "    }\n",
       "\n",
       "    .dataframe thead th {\n",
       "        text-align: right;\n",
       "    }\n",
       "</style>\n",
       "<table border=\"1\" class=\"dataframe\">\n",
       "  <thead>\n",
       "    <tr style=\"text-align: right;\">\n",
       "      <th></th>\n",
       "      <th>content</th>\n",
       "      <th>date</th>\n",
       "      <th>retweets</th>\n",
       "      <th>favorites</th>\n",
       "      <th>Sentiment</th>\n",
       "      <th>TweetYr</th>\n",
       "      <th>TweetMth</th>\n",
       "      <th>text</th>\n",
       "    </tr>\n",
       "  </thead>\n",
       "  <tbody>\n",
       "    <tr>\n",
       "      <th>0</th>\n",
       "      <td>Be sure to tune in and watch Donald Trump on Late Night with David Letterman as he presents the Top Ten List tonight!</td>\n",
       "      <td>2009-05-04 20:54:25</td>\n",
       "      <td>500</td>\n",
       "      <td>868</td>\n",
       "      <td>positive</td>\n",
       "      <td>2009</td>\n",
       "      <td>5</td>\n",
       "      <td>[Be, sure, to, tune, in, and, watch, Donald, Trump, on, Late, Night, with, David, Letterman, as, he, presents, the, Top, Ten, List, tonight, !]</td>\n",
       "    </tr>\n",
       "    <tr>\n",
       "      <th>1</th>\n",
       "      <td>Donald Trump will be appearing on The View tomorrow morning to discuss Celebrity Apprentice and his new book Think Like A Champion!</td>\n",
       "      <td>2009-05-05 03:00:10</td>\n",
       "      <td>33</td>\n",
       "      <td>273</td>\n",
       "      <td>positive</td>\n",
       "      <td>2009</td>\n",
       "      <td>5</td>\n",
       "      <td>[Donald, Trump, will, be, appearing, on, The, View, tomorrow, morning, to, discuss, Celebrity, Apprentice, and, his, new, book, Think, Like, A, Champion, !]</td>\n",
       "    </tr>\n",
       "    <tr>\n",
       "      <th>2</th>\n",
       "      <td>Donald Trump reads Top Ten Financial Tips on Late Show with David Letterman: http://tinyurl.com/ooafwn - Very funny!</td>\n",
       "      <td>2009-05-08 15:38:08</td>\n",
       "      <td>12</td>\n",
       "      <td>18</td>\n",
       "      <td>positive</td>\n",
       "      <td>2009</td>\n",
       "      <td>5</td>\n",
       "      <td>[Donald, Trump, reads, Top, Ten, Financial, Tips, on, Late, Show, with, David, Letterman, :, -, Very, funny, !]</td>\n",
       "    </tr>\n",
       "    <tr>\n",
       "      <th>3</th>\n",
       "      <td>New Blog Post: Celebrity Apprentice Finale and Lessons Learned Along the Way: http://tinyurl.com/qlux5e</td>\n",
       "      <td>2009-05-08 22:40:15</td>\n",
       "      <td>11</td>\n",
       "      <td>24</td>\n",
       "      <td>positive</td>\n",
       "      <td>2009</td>\n",
       "      <td>5</td>\n",
       "      <td>[New, Blog, Post, :, Celebrity, Apprentice, Finale, and, Lessons, Learned, Along, the, Way, :]</td>\n",
       "    </tr>\n",
       "    <tr>\n",
       "      <th>4</th>\n",
       "      <td>\"My persona will never be that of a wallflower - I’d rather build walls than cling to them\" --Donald J. Trump</td>\n",
       "      <td>2009-05-12 16:07:28</td>\n",
       "      <td>1399</td>\n",
       "      <td>1965</td>\n",
       "      <td>positive</td>\n",
       "      <td>2009</td>\n",
       "      <td>5</td>\n",
       "      <td>[``, My, persona, will, never, be, that, of, a, wallflower, -, I, would, rather, build, walls, than, cling, to, them, '', --, Donald, J., Trump]</td>\n",
       "    </tr>\n",
       "  </tbody>\n",
       "</table>\n",
       "</div>"
      ],
      "text/plain": [
       "                                                                                                                               content  \\\n",
       "0                Be sure to tune in and watch Donald Trump on Late Night with David Letterman as he presents the Top Ten List tonight!   \n",
       "1  Donald Trump will be appearing on The View tomorrow morning to discuss Celebrity Apprentice and his new book Think Like A Champion!   \n",
       "2                 Donald Trump reads Top Ten Financial Tips on Late Show with David Letterman: http://tinyurl.com/ooafwn - Very funny!   \n",
       "3                              New Blog Post: Celebrity Apprentice Finale and Lessons Learned Along the Way: http://tinyurl.com/qlux5e   \n",
       "4                        \"My persona will never be that of a wallflower - I’d rather build walls than cling to them\" --Donald J. Trump   \n",
       "\n",
       "                 date  retweets  favorites Sentiment  TweetYr  TweetMth  \\\n",
       "0 2009-05-04 20:54:25       500        868  positive     2009         5   \n",
       "1 2009-05-05 03:00:10        33        273  positive     2009         5   \n",
       "2 2009-05-08 15:38:08        12         18  positive     2009         5   \n",
       "3 2009-05-08 22:40:15        11         24  positive     2009         5   \n",
       "4 2009-05-12 16:07:28      1399       1965  positive     2009         5   \n",
       "\n",
       "                                                                                                                                                           text  \n",
       "0               [Be, sure, to, tune, in, and, watch, Donald, Trump, on, Late, Night, with, David, Letterman, as, he, presents, the, Top, Ten, List, tonight, !]  \n",
       "1  [Donald, Trump, will, be, appearing, on, The, View, tomorrow, morning, to, discuss, Celebrity, Apprentice, and, his, new, book, Think, Like, A, Champion, !]  \n",
       "2                                               [Donald, Trump, reads, Top, Ten, Financial, Tips, on, Late, Show, with, David, Letterman, :, -, Very, funny, !]  \n",
       "3                                                                [New, Blog, Post, :, Celebrity, Apprentice, Finale, and, Lessons, Learned, Along, the, Way, :]  \n",
       "4              [``, My, persona, will, never, be, that, of, a, wallflower, -, I, would, rather, build, walls, than, cling, to, them, '', --, Donald, J., Trump]  "
      ]
     },
     "execution_count": 72,
     "metadata": {},
     "output_type": "execute_result"
    }
   ],
   "source": [
    "# Tokenize the words of whole dataframe.\n",
    "for i, row in data.iterrows():\n",
    "    \n",
    "    text = data.at[i, 'text']\n",
    "    words = nltk.word_tokenize(text)\n",
    "    data.at[i,'text'] = words\n",
    "\n",
    "data.head()"
   ]
  },
  {
   "cell_type": "markdown",
   "metadata": {},
   "source": [
    "###  <span style=\"font-family: Calibri; font-size:1.2em;color:#000055\"> Stopwords </span>"
   ]
  },
  {
   "cell_type": "code",
   "execution_count": 76,
   "metadata": {
    "colab": {
     "base_uri": "https://localhost:8080/",
     "height": 1000
    },
    "colab_type": "code",
    "id": "hWXXgYX3o2UV",
    "outputId": "473f56ad-1ada-41a9-ddb3-e578cb39a15e"
   },
   "outputs": [
    {
     "name": "stdout",
     "output_type": "stream",
     "text": [
      "i, me, my, myself, we, our, ours, ourselves, you, you're, you've, you'll, you'd, your, yours, yourself, yourselves, he, him, his, himself, she, she's, her, hers, herself, it, it's, its, itself, they, them, their, theirs, themselves, what, which, who, whom, this, that, that'll, these, those, am, is, are, was, were, be, been, being, have, has, had, having, do, does, did, doing, a, an, the, and, but, if, or, because, as, until, while, of, at, by, for, with, about, against, between, into, through, during, before, after, above, below, to, from, up, down, in, out, on, off, over, under, again, further, then, once, here, there, when, where, why, how, all, any, both, each, few, more, most, other, some, such, no, nor, not, only, own, same, so, than, too, very, s, t, can, will, just, don, don't, should, should've, now, d, ll, m, o, re, ve, y, ain, aren, aren't, couldn, couldn't, didn, didn't, doesn, doesn't, hadn, hadn't, hasn, hasn't, haven, haven't, isn, isn't, ma, mightn, mightn't, mustn, mustn't, needn, needn't, shan, shan't, shouldn, shouldn't, wasn, wasn't, weren, weren't, won, won't, wouldn, wouldn't, "
     ]
    }
   ],
   "source": [
    "# save the stopwords in a list named stopwords.\n",
    "stopword = stopwords.words('english')\n",
    "for word in stopword:\n",
    "    print(word, end=\", \")"
   ]
  },
  {
   "cell_type": "code",
   "execution_count": 77,
   "metadata": {},
   "outputs": [
    {
     "name": "stdout",
     "output_type": "stream",
     "text": [
      "['i', 'me', 'my', 'myself', 'we', 'our', 'ours', 'ourselves', 'you', \"you're\", \"you've\", \"you'll\", \"you'd\", 'your', 'yours', 'yourself', 'yourselves', 'he', 'him', 'his', 'himself', 'she', \"she's\", 'her', 'hers', 'herself', 'it', \"it's\", 'its', 'itself', 'they', 'them', 'their', 'theirs', 'themselves', 'what', 'which', 'who', 'whom', 'this', 'that', \"that'll\", 'these', 'those', 'am', 'is', 'are', 'was', 'were', 'be', 'been', 'being', 'have', 'has', 'had', 'having', 'do', 'does', 'did', 'doing', 'a', 'an', 'the', 'and', 'but', 'if', 'or', 'because', 'as', 'until', 'while', 'of', 'at', 'by', 'for', 'with', 'about', 'against', 'between', 'into', 'through', 'during', 'before', 'after', 'above', 'below', 'to', 'from', 'up', 'down', 'in', 'out', 'on', 'off', 'over', 'under', 'again', 'further', 'then', 'once', 'here', 'there', 'when', 'where', 'why', 'how', 'all', 'any', 'both', 'each', 'few', 'more', 'most', 'other', 'some', 'such', 'no', 'nor', 'not', 'only', 'own', 'same', 'so', 'than', 'too', 'very', 's', 't', 'can', 'will', 'just', 'don', \"don't\", 'should', \"should've\", 'now', 'd', 'll', 'm', 'o', 're', 've', 'y', 'ain', 'aren', \"aren't\", 'couldn', \"couldn't\", 'didn', \"didn't\", 'doesn', \"doesn't\", 'hadn', \"hadn't\", 'hasn', \"hasn't\", 'haven', \"haven't\", 'isn', \"isn't\", 'ma', 'mightn', \"mightn't\", 'mustn', \"mustn't\", 'needn', \"needn't\", 'shan', \"shan't\", 'shouldn', \"shouldn't\", 'wasn', \"wasn't\", 'weren', \"weren't\", 'won', \"won't\", 'wouldn', \"wouldn't\"]\n"
     ]
    }
   ],
   "source": [
    "print(stopword)"
   ]
  },
  {
   "cell_type": "code",
   "execution_count": 78,
   "metadata": {
    "colab": {},
    "colab_type": "code",
    "id": "2jADm-rqi235"
   },
   "outputs": [],
   "source": [
    "def remove_non_ascii(words):\n",
    "    \"\"\"Remove non-ASCII characters from list of tokenized words\"\"\"\n",
    "    new_words = []                        # Create empty list to store pre-processed words.\n",
    "    for word in words:\n",
    "        new_word = unicodedata.normalize('NFKD', word).encode('ascii', 'ignore').decode('utf-8', 'ignore')\n",
    "        new_words.append(new_word)        # Append processed words to new list.\n",
    "    return new_words"
   ]
  },
  {
   "cell_type": "code",
   "execution_count": 79,
   "metadata": {},
   "outputs": [
    {
     "data": {
      "text/plain": [
       "False"
      ]
     },
     "execution_count": 79,
     "metadata": {},
     "output_type": "execute_result"
    }
   ],
   "source": [
    "\"Angel\"==\"angel\""
   ]
  },
  {
   "cell_type": "code",
   "execution_count": 80,
   "metadata": {
    "colab": {},
    "colab_type": "code",
    "id": "CK2HqOZAwxDD"
   },
   "outputs": [],
   "source": [
    "def to_lowercase(words):\n",
    "    \"\"\"Convert all characters to lowercase from list of tokenized words\"\"\"\n",
    "    new_words = []                        # Create empty list to store pre-processed words.\n",
    "    for word in words:\n",
    "        new_word = word.lower()           # Converting to lowercase\n",
    "        new_words.append(new_word)        # Append processed words to new list.\n",
    "    return new_words"
   ]
  },
  {
   "cell_type": "markdown",
   "metadata": {
    "colab_type": "text",
    "id": "jYbZ1Sm0Evan"
   },
   "source": [
    "###  <span style=\"font-family: Calibri; font-size:1.2em;color:#000055\"> Lower Case </span>\n",
    "\n",
    "- Lowercasing ALL your text data, although commonly overlooked, is one of the simplest and most effective form of text preprocessing. It is applicable to most text mining and NLP problems and can help in cases where your dataset is not very large and significantly helps with consistency of expected output.\n",
    "\n",
    "- An example where lowercasing is very useful is for search. Imagine, you are looking for documents containing “usa”. However, no results were showing up because “usa” was indexed as “USA”.\n",
    "\n",
    "- An example where lowercasing may result in inaccuracy is in predicting the programming language of a source code file. The word System in Java is quite different from system in python. Lowercasing the two makes them identical, causing the classifier to lose important predictive features. While lowercasing is generally helpful, it may not be applicable for all tasks."
   ]
  },
  {
   "cell_type": "code",
   "execution_count": 83,
   "metadata": {},
   "outputs": [
    {
     "name": "stdout",
     "output_type": "stream",
     "text": [
      "[';']\n"
     ]
    }
   ],
   "source": [
    "string=\"Angel had a good game. Matteo scored the winning goal; but Uchenna was given the, MOM\"\n",
    "\n",
    "str1=re.findall(r'[^\\w\\s]', string)\n",
    "\n",
    "print(str1)"
   ]
  },
  {
   "cell_type": "code",
   "execution_count": 85,
   "metadata": {
    "colab": {},
    "colab_type": "code",
    "id": "4o0ZS7wkwzco"
   },
   "outputs": [],
   "source": [
    "def remove_punctuation(words):\n",
    "    \"\"\"Remove punctuation from list of tokenized words\"\"\"\n",
    "    new_words = []                        # Create empty list to store pre-processed words.\n",
    "    \n",
    "    for word in words:\n",
    "        new_word = re.sub(r'[^\\w\\s]', '', word)\n",
    "        \n",
    "        if new_word != '':\n",
    "            new_words.append(new_word)    # Append processed words to new list.\n",
    "    \n",
    "    return new_words"
   ]
  },
  {
   "cell_type": "code",
   "execution_count": 86,
   "metadata": {},
   "outputs": [
    {
     "data": {
      "text/plain": [
       "['Angel', 'had', 'a']"
      ]
     },
     "execution_count": 86,
     "metadata": {},
     "output_type": "execute_result"
    }
   ],
   "source": [
    "remove_punctuation([\"Angel\", \",\", \";\", \"had\", \"a\"]) #List of tokens"
   ]
  },
  {
   "cell_type": "markdown",
   "metadata": {
    "colab_type": "text",
    "id": "zWTMQyJjGGqx"
   },
   "source": [
    "###  <span style=\"font-family: Calibri; font-size:1.2em;color:#000055\"> Stop Words </span>\n",
    "- Stop words are a set of commonly used words in a language.\n",
    "- Examples of stop words in English are “a”, “the”, “is”, “are” and etc. The intuition behind using stop words is that, by removing low information words from text, we can focus on the important words instead."
   ]
  },
  {
   "cell_type": "code",
   "execution_count": 81,
   "metadata": {},
   "outputs": [
    {
     "data": {
      "text/plain": [
       "True"
      ]
     },
     "execution_count": 81,
     "metadata": {},
     "output_type": "execute_result"
    }
   ],
   "source": [
    "word=\"angel\"\n",
    "\n",
    "word not in stopword\n"
   ]
  },
  {
   "cell_type": "code",
   "execution_count": 88,
   "metadata": {
    "colab": {},
    "colab_type": "code",
    "id": "Dye7U-Jkw03S"
   },
   "outputs": [],
   "source": [
    "def remove_stopwords(words):\n",
    "    \"\"\"Remove stop words from list of tokenized words\"\"\"\n",
    "    new_words = []                        # Create empty list to store pre-processed words.\n",
    "    for word in words:\n",
    "        if word not in stopword:\n",
    "            new_words.append(word)        # Append processed words to new list.\n",
    "    return new_words"
   ]
  },
  {
   "cell_type": "code",
   "execution_count": 93,
   "metadata": {},
   "outputs": [
    {
     "data": {
      "text/plain": [
       "['Angel', 'good', 'game', 'Matteo', 'scored', 'goal']"
      ]
     },
     "execution_count": 93,
     "metadata": {},
     "output_type": "execute_result"
    }
   ],
   "source": [
    "remove_stopwords(remove_punctuation([\"Angel\", \",\", \";\", \"had\", \"a\", \"good\", \"game\",\".\", \"Matteo\", \"scored\", \"the\", \"goal\"])) #List of tokens"
   ]
  },
  {
   "cell_type": "code",
   "execution_count": 96,
   "metadata": {},
   "outputs": [
    {
     "data": {
      "text/plain": [
       "['commonly', 'used', 'words']"
      ]
     },
     "execution_count": 96,
     "metadata": {},
     "output_type": "execute_result"
    }
   ],
   "source": [
    "remove_stopwords([\"what\",\"are\",\"some\", \"of\", \"the\", \"commonly\", \"used\", \"words\"])"
   ]
  },
  {
   "cell_type": "markdown",
   "metadata": {
    "colab_type": "text",
    "id": "eVhXK6e-Fi09"
   },
   "source": [
    "###  <span style=\"font-family: Calibri; font-size:1.2em;color:#000055\"> Stemming </span>\n",
    "\n",
    "- Stemming is the process of reducing inflection in words (e.g. running, runs) to their root form (e.g. run). The “root” in this case may not be a real root word, but just a canonical form of the original word."
   ]
  },
  {
   "cell_type": "code",
   "execution_count": 97,
   "metadata": {
    "colab": {},
    "colab_type": "code",
    "id": "Jo2eo1l-w2FL"
   },
   "outputs": [],
   "source": [
    "def stem_words(words):\n",
    "    \"\"\"Stem words in list of tokenized words\"\"\"\n",
    "    stemmer = LancasterStemmer()\n",
    "    stems = []                            # Create empty list to store pre-processed words.\n",
    "    \n",
    "    for word in words:\n",
    "        \n",
    "        stem = stemmer.stem(word)\n",
    "        stems.append(stem)                # Append processed words to new list.\n",
    "        \n",
    "    return stems"
   ]
  },
  {
   "cell_type": "code",
   "execution_count": 125,
   "metadata": {},
   "outputs": [
    {
     "name": "stdout",
     "output_type": "stream",
     "text": [
      "['what', 'ar', 'som', 'of', 'the', 'common', 'us', 'word', 'refer', 'to', 'thi', 'pres']\n",
      "Wall time: 0 ns\n"
     ]
    }
   ],
   "source": [
    "%%time\n",
    "print(stem_words([\"what\",\"are\",\"some\", \"of\", \"the\", \"commonly\", \"used\", \"words\", \"referring\", \"to\", \"this\", \"presents\"]))"
   ]
  },
  {
   "cell_type": "markdown",
   "metadata": {
    "colab_type": "text",
    "id": "IeOWBIH2F5ux"
   },
   "source": [
    "###  <span style=\"font-family: Calibri; font-size:1.2em;color:#000055\"> Lemmatisation </span>\n",
    "\n",
    "- Lemmatization on the surface is very similar to stemming, where the goal is to remove inflections and map a word to its root form.\n",
    "- The only difference is that, lemmatization tries to do it the proper way.\n",
    "- It doesn’t just chop things off, it actually transforms words to the actual root. For example, the word “better” would map to “good”.\n",
    "\n",
    "https://towardsdatascience.com/named-entity-recognition-with-nltk-and-spacy-8c4a7d88e7da"
   ]
  },
  {
   "cell_type": "code",
   "execution_count": 112,
   "metadata": {
    "colab": {},
    "colab_type": "code",
    "id": "pvRgUqZEw3Wm"
   },
   "outputs": [],
   "source": [
    "def lemmatize_verbs(words):\n",
    "    \"\"\"Lemmatize verbs in list of tokenized words\"\"\"\n",
    "    lemmatizer = WordNetLemmatizer()\n",
    "    lemmas = []                           # Create empty list to store pre-processed words.\n",
    "    for word in words:\n",
    "        lemma = lemmatizer.lemmatize(word)\n",
    "        lemmas.append(lemma)              # Append processed words to new list.\n",
    "    return lemmas"
   ]
  },
  {
   "cell_type": "code",
   "execution_count": 126,
   "metadata": {},
   "outputs": [
    {
     "name": "stdout",
     "output_type": "stream",
     "text": [
      "['what', 'are', 'some', 'of', 'the', 'commonly', 'used', 'word', 'referring', 'to', 'this', 'present']\n",
      "Wall time: 0 ns\n"
     ]
    }
   ],
   "source": [
    "%%time\n",
    "print(lemmatize_verbs([\"what\",\"are\",\"some\", \"of\", \"the\", \"commonly\", \"used\", \"words\", \"referring\", \"to\", \"this\", \"presents\"]))"
   ]
  },
  {
   "cell_type": "code",
   "execution_count": 120,
   "metadata": {},
   "outputs": [],
   "source": [
    "# !pip install spacy\n",
    "#python -m spacy download en\n",
    "\n",
    "import spacy\n",
    "# Initialize spacy 'en' model, keeping only tagger component needed for lemmatization\n",
    "nlp = spacy.load(\"en_core_web_sm\")"
   ]
  },
  {
   "cell_type": "code",
   "execution_count": null,
   "metadata": {},
   "outputs": [],
   "source": [
    "# class LemmaTokenizerWordnet(object):\n",
    "    \n",
    "#     def __init__(self):\n",
    "#         self.wnl=WordNetLemmatizer()\n",
    "        \n",
    "#     def __call__(self,doc):\n",
    "#         return [self.wnl.lemmatize(t) for t in word_tokenize(doc)]\n",
    "    \n",
    "# class LemmaTokenizerSpacy(object):\n",
    "    \n",
    "#     def __call__(self,doc):\n",
    "#         trydoc = nlp(doc)\n",
    "#         return [token.lemma_ for token in trydoc]"
   ]
  },
  {
   "cell_type": "markdown",
   "metadata": {},
   "source": [
    "let's define a LemmaTokenizer for later use to help vectorize the text. \n",
    "The first version is built with WordNet from NLTK, the second with SpaCy. The particular format is what the code later wants."
   ]
  },
  {
   "cell_type": "code",
   "execution_count": 137,
   "metadata": {},
   "outputs": [
    {
     "name": "stdout",
     "output_type": "stream",
     "text": [
      "Information Technology Department fined Google importance importing a record of $5.1 billion on Wednesday for absuing the search engineedata to alter practices in India.\n",
      "\n",
      "Tokenizer: ['Information', 'Technology', 'Department', 'fined', 'Google', 'importance', 'importing', 'a', 'record', 'of', '$', '5.1', 'billion', 'on', 'Wednesday', 'for', 'absuing', 'the', 'search', 'engineedata', 'to', 'alter', 'practices', 'in', 'India', '.']\n",
      "\n",
      "\n",
      "WordNet Lemmatizer: ['Information', 'Technology', 'Department', 'fined', 'Google', 'importance', 'importing', 'a', 'record', 'of', '$', '5.1', 'billion', 'on', 'Wednesday', 'for', 'absuing', 'the', 'search', 'engineedata', 'to', 'alter', 'practice', 'in', 'India', '.']\n",
      "\n",
      "\n",
      "SpaCy Lemmatizer: ['Information', 'Technology', 'Department', 'fine', 'Google', 'importance', 'import', 'a', 'record', 'of', '$', '5.1', 'billion', 'on', 'Wednesday', 'for', 'absue', 'the', 'search', 'engineedata', 'to', 'alter', 'practice', 'in', 'India', '.']\n",
      "\n",
      "\n",
      "Porter Stemmer Lemmatizer: ['inform', 'technolog', 'depart', 'fine', 'googl', 'import', 'import', 'a', 'record', 'of', '$', '5.1', 'billion', 'on', 'wednesday', 'for', 'absu', 'the', 'search', 'engineedata', 'to', 'alter', 'practic', 'in', 'india', '.']\n",
      "\n",
      "\n",
      "SpaCy Parts of Speech: ['PROPN', 'PROPN', 'PROPN', 'VERB', 'PROPN', 'NOUN', 'VERB', 'DET', 'NOUN', 'ADP', 'SYM', 'NUM', 'NUM', 'ADP', 'PROPN', 'ADP', 'VERB', 'DET', 'NOUN', 'NOUN', 'PART', 'VERB', 'NOUN', 'ADP', 'PROPN', 'PUNCT']\n",
      "\n",
      "\n",
      "SpaCy Named Entity: [('Information Technology Department', 'ORG'), ('$5.1 billion', 'MONEY'), ('Wednesday', 'DATE'), ('India', 'GPE')]\n"
     ]
    }
   ],
   "source": [
    "from nltk.tokenize import wordpunct_tokenize\n",
    "from nltk.stem import WordNetLemmatizer\n",
    "from nltk.stem import PorterStemmer\n",
    "\n",
    "#doc = \"I was running fast to his bigger dogs\"\n",
    "doc = \"Information Technology Department fined Google importance importing a record of $5.1 billion on Wednesday for absuing the search enginee\\\n",
    "data to alter practices in India.\"\n",
    "print(doc)\n",
    "\n",
    "print()\n",
    "\n",
    "print(\"Tokenizer:\",end=\" \")\n",
    "print(word_tokenize(doc))\n",
    "\n",
    "print()\n",
    "print()\n",
    "\n",
    "print(\"WordNet Lemmatizer:\",end=\" \")\n",
    "print([WordNetLemmatizer().lemmatize(t) for t in word_tokenize(doc)])\n",
    "\n",
    "# for t in word_tokenize(doc):\n",
    "#     WordNetLemmatizer().lemmatize(t)\n",
    "    \n",
    "\n",
    "print()\n",
    "print()\n",
    "\n",
    "trydoc = nlp(doc)\n",
    "print(\"SpaCy Lemmatizer:\",end=\" \")\n",
    "print([token.lemma_ for token in trydoc])\n",
    "\n",
    "print()\n",
    "print()\n",
    "\n",
    "\n",
    "porter = PorterStemmer()\n",
    "\n",
    "print(\"Porter Stemmer Lemmatizer:\",end=\" \")\n",
    "print([PorterStemmer().stem(t) for t in word_tokenize(doc)])\n",
    "\n",
    "print()\n",
    "print()\n",
    "\n",
    "print(\"SpaCy Parts of Speech:\",end=\" \")\n",
    "print([token.pos_ for token in trydoc])\n",
    "\n",
    "print()\n",
    "print()\n",
    "\n",
    "print(\"SpaCy Named Entity:\",end=\" \")\n",
    "print([(token.text,token.label_) for token in trydoc.ents])"
   ]
  },
  {
   "cell_type": "code",
   "execution_count": null,
   "metadata": {},
   "outputs": [],
   "source": [
    "len(trydoc.ents)"
   ]
  },
  {
   "cell_type": "code",
   "execution_count": null,
   "metadata": {},
   "outputs": [],
   "source": [
    "from nltk import word_tokenize \n",
    "from nltk.util import ngrams\n",
    "\n",
    "\n",
    "text = ['cant railway station', 'citadel hotel', 'police stn working well']\n",
    "for line in text:\n",
    "    token = nltk.word_tokenize(line)\n",
    "    bigram = list(ngrams(token, 2)) \n",
    "\n",
    "    print(bigram)"
   ]
  },
  {
   "cell_type": "markdown",
   "metadata": {
    "colab_type": "text",
    "id": "mL42FuFXG147"
   },
   "source": [
    "###  <span style=\"font-family: Calibri; font-size:1.2em;color:#000055\"> Executing Functions </span>"
   ]
  },
  {
   "cell_type": "code",
   "execution_count": 121,
   "metadata": {
    "colab": {},
    "colab_type": "code",
    "id": "zDryKOgRw5M3"
   },
   "outputs": [],
   "source": [
    "def normalize(words):\n",
    "    \n",
    "    words = remove_non_ascii(words)\n",
    "    words = to_lowercase(words)\n",
    "    words = remove_punctuation(words)\n",
    "    words = remove_stopwords(words)\n",
    "    \n",
    "    return words"
   ]
  },
  {
   "cell_type": "code",
   "execution_count": 122,
   "metadata": {
    "colab": {
     "base_uri": "https://localhost:8080/",
     "height": 197
    },
    "colab_type": "code",
    "id": "xjKQDlj6w-Dp",
    "outputId": "f89e8400-8e69-4044-d770-978345d7eab8"
   },
   "outputs": [
    {
     "data": {
      "text/html": [
       "<div>\n",
       "<style scoped>\n",
       "    .dataframe tbody tr th:only-of-type {\n",
       "        vertical-align: middle;\n",
       "    }\n",
       "\n",
       "    .dataframe tbody tr th {\n",
       "        vertical-align: top;\n",
       "    }\n",
       "\n",
       "    .dataframe thead th {\n",
       "        text-align: right;\n",
       "    }\n",
       "</style>\n",
       "<table border=\"1\" class=\"dataframe\">\n",
       "  <thead>\n",
       "    <tr style=\"text-align: right;\">\n",
       "      <th></th>\n",
       "      <th>content</th>\n",
       "      <th>date</th>\n",
       "      <th>retweets</th>\n",
       "      <th>favorites</th>\n",
       "      <th>Sentiment</th>\n",
       "      <th>TweetYr</th>\n",
       "      <th>TweetMth</th>\n",
       "      <th>text</th>\n",
       "    </tr>\n",
       "  </thead>\n",
       "  <tbody>\n",
       "    <tr>\n",
       "      <th>0</th>\n",
       "      <td>Be sure to tune in and watch Donald Trump on Late Night with David Letterman as he presents the Top Ten List tonight!</td>\n",
       "      <td>2009-05-04 20:54:25</td>\n",
       "      <td>500</td>\n",
       "      <td>868</td>\n",
       "      <td>positive</td>\n",
       "      <td>2009</td>\n",
       "      <td>5</td>\n",
       "      <td>[sure, tune, watch, donald, trump, late, night, david, letterman, presents, top, ten, list, tonight]</td>\n",
       "    </tr>\n",
       "    <tr>\n",
       "      <th>1</th>\n",
       "      <td>Donald Trump will be appearing on The View tomorrow morning to discuss Celebrity Apprentice and his new book Think Like A Champion!</td>\n",
       "      <td>2009-05-05 03:00:10</td>\n",
       "      <td>33</td>\n",
       "      <td>273</td>\n",
       "      <td>positive</td>\n",
       "      <td>2009</td>\n",
       "      <td>5</td>\n",
       "      <td>[donald, trump, appearing, view, tomorrow, morning, discuss, celebrity, apprentice, new, book, think, like, champion]</td>\n",
       "    </tr>\n",
       "    <tr>\n",
       "      <th>2</th>\n",
       "      <td>Donald Trump reads Top Ten Financial Tips on Late Show with David Letterman: http://tinyurl.com/ooafwn - Very funny!</td>\n",
       "      <td>2009-05-08 15:38:08</td>\n",
       "      <td>12</td>\n",
       "      <td>18</td>\n",
       "      <td>positive</td>\n",
       "      <td>2009</td>\n",
       "      <td>5</td>\n",
       "      <td>[donald, trump, reads, top, ten, financial, tips, late, show, david, letterman, funny]</td>\n",
       "    </tr>\n",
       "    <tr>\n",
       "      <th>3</th>\n",
       "      <td>New Blog Post: Celebrity Apprentice Finale and Lessons Learned Along the Way: http://tinyurl.com/qlux5e</td>\n",
       "      <td>2009-05-08 22:40:15</td>\n",
       "      <td>11</td>\n",
       "      <td>24</td>\n",
       "      <td>positive</td>\n",
       "      <td>2009</td>\n",
       "      <td>5</td>\n",
       "      <td>[new, blog, post, celebrity, apprentice, finale, lessons, learned, along, way]</td>\n",
       "    </tr>\n",
       "    <tr>\n",
       "      <th>4</th>\n",
       "      <td>\"My persona will never be that of a wallflower - I’d rather build walls than cling to them\" --Donald J. Trump</td>\n",
       "      <td>2009-05-12 16:07:28</td>\n",
       "      <td>1399</td>\n",
       "      <td>1965</td>\n",
       "      <td>positive</td>\n",
       "      <td>2009</td>\n",
       "      <td>5</td>\n",
       "      <td>[persona, never, wallflower, would, rather, build, walls, cling, donald, j, trump]</td>\n",
       "    </tr>\n",
       "  </tbody>\n",
       "</table>\n",
       "</div>"
      ],
      "text/plain": [
       "                                                                                                                               content  \\\n",
       "0                Be sure to tune in and watch Donald Trump on Late Night with David Letterman as he presents the Top Ten List tonight!   \n",
       "1  Donald Trump will be appearing on The View tomorrow morning to discuss Celebrity Apprentice and his new book Think Like A Champion!   \n",
       "2                 Donald Trump reads Top Ten Financial Tips on Late Show with David Letterman: http://tinyurl.com/ooafwn - Very funny!   \n",
       "3                              New Blog Post: Celebrity Apprentice Finale and Lessons Learned Along the Way: http://tinyurl.com/qlux5e   \n",
       "4                        \"My persona will never be that of a wallflower - I’d rather build walls than cling to them\" --Donald J. Trump   \n",
       "\n",
       "                 date  retweets  favorites Sentiment  TweetYr  TweetMth  \\\n",
       "0 2009-05-04 20:54:25       500        868  positive     2009         5   \n",
       "1 2009-05-05 03:00:10        33        273  positive     2009         5   \n",
       "2 2009-05-08 15:38:08        12         18  positive     2009         5   \n",
       "3 2009-05-08 22:40:15        11         24  positive     2009         5   \n",
       "4 2009-05-12 16:07:28      1399       1965  positive     2009         5   \n",
       "\n",
       "                                                                                                                    text  \n",
       "0                   [sure, tune, watch, donald, trump, late, night, david, letterman, presents, top, ten, list, tonight]  \n",
       "1  [donald, trump, appearing, view, tomorrow, morning, discuss, celebrity, apprentice, new, book, think, like, champion]  \n",
       "2                                 [donald, trump, reads, top, ten, financial, tips, late, show, david, letterman, funny]  \n",
       "3                                         [new, blog, post, celebrity, apprentice, finale, lessons, learned, along, way]  \n",
       "4                                     [persona, never, wallflower, would, rather, build, walls, cling, donald, j, trump]  "
      ]
     },
     "execution_count": 122,
     "metadata": {},
     "output_type": "execute_result"
    }
   ],
   "source": [
    "# Iterate the normalize funtion over whole data.\n",
    "for i, row in data.iterrows():\n",
    "    words = data.at[i, 'text']\n",
    "    words = normalize(words)\n",
    "    data.at[i,'text'] = words\n",
    "data.head()"
   ]
  },
  {
   "cell_type": "code",
   "execution_count": 123,
   "metadata": {
    "colab": {},
    "colab_type": "code",
    "id": "yD4XT2j8jN1Z"
   },
   "outputs": [],
   "source": [
    "def stem_and_lemmatize(words):\n",
    "    stems = stem_words(words)\n",
    "    lemmas = lemmatize_verbs(words)\n",
    "    return stems, lemmas"
   ]
  },
  {
   "cell_type": "code",
   "execution_count": 124,
   "metadata": {
    "colab": {
     "base_uri": "https://localhost:8080/",
     "height": 247
    },
    "colab_type": "code",
    "id": "6M1IP54aw_eI",
    "outputId": "ed16bea8-f180-4696-f784-cc9f146d908d"
   },
   "outputs": [
    {
     "data": {
      "text/html": [
       "<div>\n",
       "<style scoped>\n",
       "    .dataframe tbody tr th:only-of-type {\n",
       "        vertical-align: middle;\n",
       "    }\n",
       "\n",
       "    .dataframe tbody tr th {\n",
       "        vertical-align: top;\n",
       "    }\n",
       "\n",
       "    .dataframe thead th {\n",
       "        text-align: right;\n",
       "    }\n",
       "</style>\n",
       "<table border=\"1\" class=\"dataframe\">\n",
       "  <thead>\n",
       "    <tr style=\"text-align: right;\">\n",
       "      <th></th>\n",
       "      <th>content</th>\n",
       "      <th>date</th>\n",
       "      <th>retweets</th>\n",
       "      <th>favorites</th>\n",
       "      <th>Sentiment</th>\n",
       "      <th>TweetYr</th>\n",
       "      <th>TweetMth</th>\n",
       "      <th>text</th>\n",
       "      <th>lemma</th>\n",
       "      <th>stem</th>\n",
       "    </tr>\n",
       "  </thead>\n",
       "  <tbody>\n",
       "    <tr>\n",
       "      <th>0</th>\n",
       "      <td>Be sure to tune in and watch Donald Trump on Late Night with David Letterman as he presents the Top Ten List tonight!</td>\n",
       "      <td>2009-05-04 20:54:25</td>\n",
       "      <td>500</td>\n",
       "      <td>868</td>\n",
       "      <td>positive</td>\n",
       "      <td>2009</td>\n",
       "      <td>5</td>\n",
       "      <td>[sure, tune, watch, donald, trump, late, night, david, letterman, presents, top, ten, list, tonight]</td>\n",
       "      <td>[sure, tune, watch, donald, trump, late, night, david, letterman, present, top, ten, list, tonight]</td>\n",
       "      <td>[sur, tun, watch, donald, trump, lat, night, david, letterm, pres, top, ten, list, tonight]</td>\n",
       "    </tr>\n",
       "    <tr>\n",
       "      <th>1</th>\n",
       "      <td>Donald Trump will be appearing on The View tomorrow morning to discuss Celebrity Apprentice and his new book Think Like A Champion!</td>\n",
       "      <td>2009-05-05 03:00:10</td>\n",
       "      <td>33</td>\n",
       "      <td>273</td>\n",
       "      <td>positive</td>\n",
       "      <td>2009</td>\n",
       "      <td>5</td>\n",
       "      <td>[donald, trump, appearing, view, tomorrow, morning, discuss, celebrity, apprentice, new, book, think, like, champion]</td>\n",
       "      <td>[donald, trump, appearing, view, tomorrow, morning, discus, celebrity, apprentice, new, book, think, like, champion]</td>\n",
       "      <td>[donald, trump, appear, view, tomorrow, morn, discuss, celebr, appr, new, book, think, lik, champ]</td>\n",
       "    </tr>\n",
       "    <tr>\n",
       "      <th>2</th>\n",
       "      <td>Donald Trump reads Top Ten Financial Tips on Late Show with David Letterman: http://tinyurl.com/ooafwn - Very funny!</td>\n",
       "      <td>2009-05-08 15:38:08</td>\n",
       "      <td>12</td>\n",
       "      <td>18</td>\n",
       "      <td>positive</td>\n",
       "      <td>2009</td>\n",
       "      <td>5</td>\n",
       "      <td>[donald, trump, reads, top, ten, financial, tips, late, show, david, letterman, funny]</td>\n",
       "      <td>[donald, trump, read, top, ten, financial, tip, late, show, david, letterman, funny]</td>\n",
       "      <td>[donald, trump, read, top, ten, fin, tip, lat, show, david, letterm, funny]</td>\n",
       "    </tr>\n",
       "    <tr>\n",
       "      <th>3</th>\n",
       "      <td>New Blog Post: Celebrity Apprentice Finale and Lessons Learned Along the Way: http://tinyurl.com/qlux5e</td>\n",
       "      <td>2009-05-08 22:40:15</td>\n",
       "      <td>11</td>\n",
       "      <td>24</td>\n",
       "      <td>positive</td>\n",
       "      <td>2009</td>\n",
       "      <td>5</td>\n",
       "      <td>[new, blog, post, celebrity, apprentice, finale, lessons, learned, along, way]</td>\n",
       "      <td>[new, blog, post, celebrity, apprentice, finale, lesson, learned, along, way]</td>\n",
       "      <td>[new, blog, post, celebr, appr, fin, lesson, learn, along, way]</td>\n",
       "    </tr>\n",
       "    <tr>\n",
       "      <th>4</th>\n",
       "      <td>\"My persona will never be that of a wallflower - I’d rather build walls than cling to them\" --Donald J. Trump</td>\n",
       "      <td>2009-05-12 16:07:28</td>\n",
       "      <td>1399</td>\n",
       "      <td>1965</td>\n",
       "      <td>positive</td>\n",
       "      <td>2009</td>\n",
       "      <td>5</td>\n",
       "      <td>[persona, never, wallflower, would, rather, build, walls, cling, donald, j, trump]</td>\n",
       "      <td>[persona, never, wallflower, would, rather, build, wall, cling, donald, j, trump]</td>\n",
       "      <td>[person, nev, wallflow, would, rath, build, wal, cling, donald, j, trump]</td>\n",
       "    </tr>\n",
       "  </tbody>\n",
       "</table>\n",
       "</div>"
      ],
      "text/plain": [
       "                                                                                                                               content  \\\n",
       "0                Be sure to tune in and watch Donald Trump on Late Night with David Letterman as he presents the Top Ten List tonight!   \n",
       "1  Donald Trump will be appearing on The View tomorrow morning to discuss Celebrity Apprentice and his new book Think Like A Champion!   \n",
       "2                 Donald Trump reads Top Ten Financial Tips on Late Show with David Letterman: http://tinyurl.com/ooafwn - Very funny!   \n",
       "3                              New Blog Post: Celebrity Apprentice Finale and Lessons Learned Along the Way: http://tinyurl.com/qlux5e   \n",
       "4                        \"My persona will never be that of a wallflower - I’d rather build walls than cling to them\" --Donald J. Trump   \n",
       "\n",
       "                 date  retweets  favorites Sentiment  TweetYr  TweetMth  \\\n",
       "0 2009-05-04 20:54:25       500        868  positive     2009         5   \n",
       "1 2009-05-05 03:00:10        33        273  positive     2009         5   \n",
       "2 2009-05-08 15:38:08        12         18  positive     2009         5   \n",
       "3 2009-05-08 22:40:15        11         24  positive     2009         5   \n",
       "4 2009-05-12 16:07:28      1399       1965  positive     2009         5   \n",
       "\n",
       "                                                                                                                    text  \\\n",
       "0                   [sure, tune, watch, donald, trump, late, night, david, letterman, presents, top, ten, list, tonight]   \n",
       "1  [donald, trump, appearing, view, tomorrow, morning, discuss, celebrity, apprentice, new, book, think, like, champion]   \n",
       "2                                 [donald, trump, reads, top, ten, financial, tips, late, show, david, letterman, funny]   \n",
       "3                                         [new, blog, post, celebrity, apprentice, finale, lessons, learned, along, way]   \n",
       "4                                     [persona, never, wallflower, would, rather, build, walls, cling, donald, j, trump]   \n",
       "\n",
       "                                                                                                                  lemma  \\\n",
       "0                   [sure, tune, watch, donald, trump, late, night, david, letterman, present, top, ten, list, tonight]   \n",
       "1  [donald, trump, appearing, view, tomorrow, morning, discus, celebrity, apprentice, new, book, think, like, champion]   \n",
       "2                                  [donald, trump, read, top, ten, financial, tip, late, show, david, letterman, funny]   \n",
       "3                                         [new, blog, post, celebrity, apprentice, finale, lesson, learned, along, way]   \n",
       "4                                     [persona, never, wallflower, would, rather, build, wall, cling, donald, j, trump]   \n",
       "\n",
       "                                                                                                 stem  \n",
       "0         [sur, tun, watch, donald, trump, lat, night, david, letterm, pres, top, ten, list, tonight]  \n",
       "1  [donald, trump, appear, view, tomorrow, morn, discuss, celebr, appr, new, book, think, lik, champ]  \n",
       "2                         [donald, trump, read, top, ten, fin, tip, lat, show, david, letterm, funny]  \n",
       "3                                     [new, blog, post, celebr, appr, fin, lesson, learn, along, way]  \n",
       "4                           [person, nev, wallflow, would, rath, build, wal, cling, donald, j, trump]  "
      ]
     },
     "execution_count": 124,
     "metadata": {},
     "output_type": "execute_result"
    }
   ],
   "source": [
    "data['lemma'] = ''\n",
    "data['stem'] = ''\n",
    "\n",
    "for i, row in data.iterrows():\n",
    "    words = data.at[i, 'text']\n",
    "    stems, lemmas = stem_and_lemmatize(words)\n",
    "    data.at[i,'stem'] = stems\n",
    "    data.at[i, 'lemma'] = lemmas\n",
    "data.head()"
   ]
  },
  {
   "cell_type": "markdown",
   "metadata": {
    "colab_type": "text",
    "id": "BHAntwcyHCrp"
   },
   "source": [
    "- As we can see here that, the text column contains tokenized words, lemma contains lemmatized words, and stem column contains the stemmed words.\n",
    "- So, we can use these techniques according to our need of the project as suitable."
   ]
  },
  {
   "cell_type": "code",
   "execution_count": 132,
   "metadata": {},
   "outputs": [
    {
     "data": {
      "text/html": [
       "<div>\n",
       "<style scoped>\n",
       "    .dataframe tbody tr th:only-of-type {\n",
       "        vertical-align: middle;\n",
       "    }\n",
       "\n",
       "    .dataframe tbody tr th {\n",
       "        vertical-align: top;\n",
       "    }\n",
       "\n",
       "    .dataframe thead th {\n",
       "        text-align: right;\n",
       "    }\n",
       "</style>\n",
       "<table border=\"1\" class=\"dataframe\">\n",
       "  <thead>\n",
       "    <tr style=\"text-align: right;\">\n",
       "      <th></th>\n",
       "      <th>content</th>\n",
       "      <th>date</th>\n",
       "      <th>retweets</th>\n",
       "      <th>favorites</th>\n",
       "      <th>Sentiment</th>\n",
       "      <th>TweetYr</th>\n",
       "      <th>TweetMth</th>\n",
       "      <th>text</th>\n",
       "      <th>lemma</th>\n",
       "      <th>stem</th>\n",
       "      <th>Updated</th>\n",
       "    </tr>\n",
       "  </thead>\n",
       "  <tbody>\n",
       "    <tr>\n",
       "      <th>0</th>\n",
       "      <td>Be sure to tune in and watch Donald Trump on Late Night with David Letterman as he presents the Top Ten List tonight!</td>\n",
       "      <td>2009-05-04 20:54:25</td>\n",
       "      <td>500</td>\n",
       "      <td>868</td>\n",
       "      <td>positive</td>\n",
       "      <td>2009</td>\n",
       "      <td>5</td>\n",
       "      <td>[sure, tune, watch, donald, trump, late, night, david, letterman, presents, top, ten, list, tonight]</td>\n",
       "      <td>[sure, tune, watch, donald, trump, late, night, david, letterman, present, top, ten, list, tonight]</td>\n",
       "      <td>[sur, tun, watch, donald, trump, lat, night, david, letterm, pres, top, ten, list, tonight]</td>\n",
       "      <td>sure tune watch donald trump late night david letterman present top ten list tonight</td>\n",
       "    </tr>\n",
       "    <tr>\n",
       "      <th>1</th>\n",
       "      <td>Donald Trump will be appearing on The View tomorrow morning to discuss Celebrity Apprentice and his new book Think Like A Champion!</td>\n",
       "      <td>2009-05-05 03:00:10</td>\n",
       "      <td>33</td>\n",
       "      <td>273</td>\n",
       "      <td>positive</td>\n",
       "      <td>2009</td>\n",
       "      <td>5</td>\n",
       "      <td>[donald, trump, appearing, view, tomorrow, morning, discuss, celebrity, apprentice, new, book, think, like, champion]</td>\n",
       "      <td>[donald, trump, appearing, view, tomorrow, morning, discus, celebrity, apprentice, new, book, think, like, champion]</td>\n",
       "      <td>[donald, trump, appear, view, tomorrow, morn, discuss, celebr, appr, new, book, think, lik, champ]</td>\n",
       "      <td>donald trump appearing view tomorrow morning discus celebrity apprentice new book think like champion</td>\n",
       "    </tr>\n",
       "    <tr>\n",
       "      <th>2</th>\n",
       "      <td>Donald Trump reads Top Ten Financial Tips on Late Show with David Letterman: http://tinyurl.com/ooafwn - Very funny!</td>\n",
       "      <td>2009-05-08 15:38:08</td>\n",
       "      <td>12</td>\n",
       "      <td>18</td>\n",
       "      <td>positive</td>\n",
       "      <td>2009</td>\n",
       "      <td>5</td>\n",
       "      <td>[donald, trump, reads, top, ten, financial, tips, late, show, david, letterman, funny]</td>\n",
       "      <td>[donald, trump, read, top, ten, financial, tip, late, show, david, letterman, funny]</td>\n",
       "      <td>[donald, trump, read, top, ten, fin, tip, lat, show, david, letterm, funny]</td>\n",
       "      <td>donald trump read top ten financial tip late show david letterman funny</td>\n",
       "    </tr>\n",
       "    <tr>\n",
       "      <th>3</th>\n",
       "      <td>New Blog Post: Celebrity Apprentice Finale and Lessons Learned Along the Way: http://tinyurl.com/qlux5e</td>\n",
       "      <td>2009-05-08 22:40:15</td>\n",
       "      <td>11</td>\n",
       "      <td>24</td>\n",
       "      <td>positive</td>\n",
       "      <td>2009</td>\n",
       "      <td>5</td>\n",
       "      <td>[new, blog, post, celebrity, apprentice, finale, lessons, learned, along, way]</td>\n",
       "      <td>[new, blog, post, celebrity, apprentice, finale, lesson, learned, along, way]</td>\n",
       "      <td>[new, blog, post, celebr, appr, fin, lesson, learn, along, way]</td>\n",
       "      <td>new blog post celebrity apprentice finale lesson learned along way</td>\n",
       "    </tr>\n",
       "    <tr>\n",
       "      <th>4</th>\n",
       "      <td>\"My persona will never be that of a wallflower - I’d rather build walls than cling to them\" --Donald J. Trump</td>\n",
       "      <td>2009-05-12 16:07:28</td>\n",
       "      <td>1399</td>\n",
       "      <td>1965</td>\n",
       "      <td>positive</td>\n",
       "      <td>2009</td>\n",
       "      <td>5</td>\n",
       "      <td>[persona, never, wallflower, would, rather, build, walls, cling, donald, j, trump]</td>\n",
       "      <td>[persona, never, wallflower, would, rather, build, wall, cling, donald, j, trump]</td>\n",
       "      <td>[person, nev, wallflow, would, rath, build, wal, cling, donald, j, trump]</td>\n",
       "      <td>persona never wallflower would rather build wall cling donald j trump</td>\n",
       "    </tr>\n",
       "  </tbody>\n",
       "</table>\n",
       "</div>"
      ],
      "text/plain": [
       "                                                                                                                               content  \\\n",
       "0                Be sure to tune in and watch Donald Trump on Late Night with David Letterman as he presents the Top Ten List tonight!   \n",
       "1  Donald Trump will be appearing on The View tomorrow morning to discuss Celebrity Apprentice and his new book Think Like A Champion!   \n",
       "2                 Donald Trump reads Top Ten Financial Tips on Late Show with David Letterman: http://tinyurl.com/ooafwn - Very funny!   \n",
       "3                              New Blog Post: Celebrity Apprentice Finale and Lessons Learned Along the Way: http://tinyurl.com/qlux5e   \n",
       "4                        \"My persona will never be that of a wallflower - I’d rather build walls than cling to them\" --Donald J. Trump   \n",
       "\n",
       "                 date  retweets  favorites Sentiment  TweetYr  TweetMth  \\\n",
       "0 2009-05-04 20:54:25       500        868  positive     2009         5   \n",
       "1 2009-05-05 03:00:10        33        273  positive     2009         5   \n",
       "2 2009-05-08 15:38:08        12         18  positive     2009         5   \n",
       "3 2009-05-08 22:40:15        11         24  positive     2009         5   \n",
       "4 2009-05-12 16:07:28      1399       1965  positive     2009         5   \n",
       "\n",
       "                                                                                                                    text  \\\n",
       "0                   [sure, tune, watch, donald, trump, late, night, david, letterman, presents, top, ten, list, tonight]   \n",
       "1  [donald, trump, appearing, view, tomorrow, morning, discuss, celebrity, apprentice, new, book, think, like, champion]   \n",
       "2                                 [donald, trump, reads, top, ten, financial, tips, late, show, david, letterman, funny]   \n",
       "3                                         [new, blog, post, celebrity, apprentice, finale, lessons, learned, along, way]   \n",
       "4                                     [persona, never, wallflower, would, rather, build, walls, cling, donald, j, trump]   \n",
       "\n",
       "                                                                                                                  lemma  \\\n",
       "0                   [sure, tune, watch, donald, trump, late, night, david, letterman, present, top, ten, list, tonight]   \n",
       "1  [donald, trump, appearing, view, tomorrow, morning, discus, celebrity, apprentice, new, book, think, like, champion]   \n",
       "2                                  [donald, trump, read, top, ten, financial, tip, late, show, david, letterman, funny]   \n",
       "3                                         [new, blog, post, celebrity, apprentice, finale, lesson, learned, along, way]   \n",
       "4                                     [persona, never, wallflower, would, rather, build, wall, cling, donald, j, trump]   \n",
       "\n",
       "                                                                                                 stem  \\\n",
       "0         [sur, tun, watch, donald, trump, lat, night, david, letterm, pres, top, ten, list, tonight]   \n",
       "1  [donald, trump, appear, view, tomorrow, morn, discuss, celebr, appr, new, book, think, lik, champ]   \n",
       "2                         [donald, trump, read, top, ten, fin, tip, lat, show, david, letterm, funny]   \n",
       "3                                     [new, blog, post, celebr, appr, fin, lesson, learn, along, way]   \n",
       "4                           [person, nev, wallflow, would, rath, build, wal, cling, donald, j, trump]   \n",
       "\n",
       "                                                                                                 Updated  \n",
       "0                   sure tune watch donald trump late night david letterman present top ten list tonight  \n",
       "1  donald trump appearing view tomorrow morning discus celebrity apprentice new book think like champion  \n",
       "2                                donald trump read top ten financial tip late show david letterman funny  \n",
       "3                                     new blog post celebrity apprentice finale lesson learned along way  \n",
       "4                                  persona never wallflower would rather build wall cling donald j trump  "
      ]
     },
     "execution_count": 132,
     "metadata": {},
     "output_type": "execute_result"
    }
   ],
   "source": [
    "data[\"Updated\"]=\"\"\n",
    "\n",
    "for i, row in data.iterrows():\n",
    "    \n",
    "    text=\"\"\n",
    "    \n",
    "    lem=data.at[i, 'lemma']\n",
    "    \n",
    "    text=' '.join(lem)\n",
    "    \n",
    "    data.at[i,'Updated']=text\n",
    "\n",
    "data.head()"
   ]
  },
  {
   "cell_type": "code",
   "execution_count": 127,
   "metadata": {},
   "outputs": [],
   "source": [
    "from wordcloud import WordCloud\n",
    "\n",
    "def generate_wordcloud(words, name, max_w=20):\n",
    "    \n",
    "    wc = WordCloud(width=400, height=400, max_font_size=40, min_font_size=6, max_words=max_w, colormap='Set1',collocations=True).generate(words)\n",
    "    plt.figure(figsize=(20,10))\n",
    "    plt.imshow(wc, interpolation=\"bilinear\")\n",
    "    plt.axis(\"off\")\n",
    "    plt.title(\"Most common {} words of {}\".format(max_w,name))\n",
    "    plt.margins(x=0, y=0)\n",
    "    plt.show()"
   ]
  },
  {
   "cell_type": "code",
   "execution_count": 134,
   "metadata": {},
   "outputs": [
    {
     "data": {
      "image/png": "[encoded data removed]",
      "text/plain": [
       "<Figure size 1440x720 with 1 Axes>"
      ]
     },
     "metadata": {
      "needs_background": "light"
     },
     "output_type": "display_data"
    }
   ],
   "source": [
    "from matplotlib import pyplot as plt\n",
    "%matplotlib inline\n",
    "\n",
    "full_text = ' '.join(list(data_interim['text']))\n",
    "\n",
    "generate_wordcloud(full_text, 'the corpus', 50)"
   ]
  },
  {
   "cell_type": "code",
   "execution_count": 135,
   "metadata": {},
   "outputs": [
    {
     "data": {
      "image/png": "[encoded data removed]",
      "text/plain": [
       "<Figure size 1440x720 with 1 Axes>"
      ]
     },
     "metadata": {
      "needs_background": "light"
     },
     "output_type": "display_data"
    }
   ],
   "source": [
    "from matplotlib import pyplot as plt\n",
    "%matplotlib inline\n",
    "\n",
    "full_text = ' '.join(list(data['Updated']))\n",
    "\n",
    "generate_wordcloud(full_text, 'the corpus', 50)"
   ]
  },
  {
   "cell_type": "code",
   "execution_count": null,
   "metadata": {},
   "outputs": [],
   "source": [
    "print(full_text)"
   ]
  },
  {
   "cell_type": "code",
   "execution_count": null,
   "metadata": {},
   "outputs": [],
   "source": [
    "data=['I','am','a','good', 'boy']\n",
    "print(' '.join(data))"
   ]
  },
  {
   "cell_type": "markdown",
   "metadata": {},
   "source": [
    "###  <span style=\"font-family: Calibri; font-size:1.2em;color:#000055\"> Types of Stemmer </span>\n",
    "Porter stemmer: This stemming algorithm is an older one. It’s from the 1980s and its main concern is removing the common endings to words so that they can be resolved to a common form. It’s not too complex and development on it is frozen. Typically, it’s a nice starting basic stemmer, but it’s not really advised to use it for any production/complex application. Instead, it has its place in research as a nice, basic stemming algorithm that can guarantee reproducibility. It also is a very gentle stemming algorithm when compared to others.<br/>\n",
    "\n",
    "Snowball stemmer: This algorithm is also known as the Porter2 stemming algorithm. It is almost universally accepted as better than the Porter stemmer, even being acknowledged as such by the individual who created the Porter stemmer. That being said, it is also more aggressive than the Porter stemmer. A lot of the things added to the Snowball stemmer were because of issues noticed with the Porter stemmer. There is about a 5% difference in the way that Snowball stems versus Porter.<br/>\n",
    "\n",
    "Lancaster stemmer: Just for fun, the Lancaster stemming algorithm is another algorithm that you can use. This one is the most aggressive stemming algorithm of the bunch. However, if you use the stemmer in NLTK, you can add your own custom rules to this algorithm very easily. It’s a good choice for that. One complaint around this stemming algorithm though is that it sometimes is overly aggressive and can really transform words into strange stems. Just make sure it does what you want it to before you go with this option!"
   ]
  },
  {
   "cell_type": "code",
   "execution_count": null,
   "metadata": {},
   "outputs": [],
   "source": [
    "from nltk.stem import PorterStemmer\n",
    "from nltk.stem import SnowballStemmer\n",
    "from nltk.stem import LancasterStemmer"
   ]
  },
  {
   "cell_type": "code",
   "execution_count": null,
   "metadata": {},
   "outputs": [],
   "source": [
    "porter = PorterStemmer()\n",
    "lancaster=LancasterStemmer()\n",
    "snowball=SnowballStemmer(\"english\")\n",
    "#proide a word to be stemmed\n",
    "print(\"Porter Stemmer\")\n",
    "print(porter.stem(\"coronaviruslockdown\"))\n",
    "print(porter.stem(\"trouble\"))\n",
    "print(porter.stem(\"troubling\"))\n",
    "print(porter.stem(\"living\"))\n",
    "\n",
    "print(\"Lancaster Stemmer\")\n",
    "print(lancaster.stem(\"swimming\"))\n",
    "print(lancaster.stem(\"trouble\"))\n",
    "print(lancaster.stem(\"troubling\"))\n",
    "print(lancaster.stem(\"living\"))\n",
    "\n",
    "print(\"Snowball Stemmer\")\n",
    "print(snowball.stem(\"swimming\"))\n",
    "print(snowball.stem(\"trouble\"))\n",
    "print(snowball.stem(\"troubling\"))\n",
    "print(snowball.stem(\"living\"))\n"
   ]
  },
  {
   "cell_type": "markdown",
   "metadata": {},
   "source": [
    "###  <span style=\"font-family: Calibri; font-size:1.2em;color:#000055\"> More about Lemmatisation </span>"
   ]
  },
  {
   "cell_type": "markdown",
   "metadata": {},
   "source": [
    "https://www.machinelearningplus.com/nlp/lemmatization-examples-python/#comparingnltktextblobspacypatternandstanfordcorenlp"
   ]
  }
 ],
 "metadata": {
  "colab": {
   "collapsed_sections": [],
   "name": "NLP-Week-1_MLS.ipynb",
   "provenance": []
  },
  "kernelspec": {
   "display_name": "Python 3",
   "language": "python",
   "name": "python3"
  },
  "language_info": {
   "codemirror_mode": {
    "name": "ipython",
    "version": 3
   },
   "file_extension": ".py",
   "mimetype": "text/x-python",
   "name": "python",
   "nbconvert_exporter": "python",
   "pygments_lexer": "ipython3",
   "version": "3.7.6"
  }
 },
 "nbformat": 4,
 "nbformat_minor": 1
}
