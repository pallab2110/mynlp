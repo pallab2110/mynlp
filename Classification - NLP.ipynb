{
 "cells": [
  {
   "cell_type": "markdown",
   "metadata": {
    "colab_type": "text",
    "id": "IshOqZNB6POh"
   },
   "source": [
    "\n",
    "###  <span style=\"font-family: Calibri; font-size:1.3 em;color:#000055\"> MLS Case Study: Amazon Fine Food Reviews </span>\n"
   ]
  },
  {
   "cell_type": "markdown",
   "metadata": {
    "colab_type": "text",
    "id": "N4Eouxvz5Rb3"
   },
   "source": [
    "###  <span style=\"font-family: Calibri; font-size:1.3 em;color:#000055\"> Context </span>\n",
    "\n",
    "\n",
    "- This dataset consists of reviews of fine foods from amazon.\n",
    "- The data span a period of more than 10 years, including all ~500,000 reviews up to October 2012. Reviews include a plain text review.\n",
    "- It also includes reviews from all other Amazon categories.\n",
    "\n",
    "###  <span style=\"font-family: Calibri; font-size:1.3 em;color:#000055\"> Data includes:</span>\n",
    "\n",
    "1. Reviews from Oct 1999 - Oct 2012\n",
    "2. 568,454 reviews\n",
    "3. 256,059 users\n",
    "4. 74,258 products\n",
    "5. 260 users with > 50 reviews"
   ]
  },
  {
   "cell_type": "markdown",
   "metadata": {
    "colab_type": "text",
    "id": "jaP-CPyF5Ndl"
   },
   "source": [
    "The purpose of this analysis is to make up a prediction model where we will be able to predict whether a recommendation is positive or negative. In this analysis, we will focus the positive/negative sentiment of the recommendation."
   ]
  },
  {
   "cell_type": "code",
   "execution_count": 1,
   "metadata": {
    "colab": {
     "base_uri": "https://localhost:8080/",
     "height": 187
    },
    "colab_type": "code",
    "id": "ZjnXaaLV5Qff",
    "outputId": "9e579875-569a-4234-b1d5-06fb87b2e249"
   },
   "outputs": [],
   "source": [
    "# install and import necessary libraries.\n",
    "\n",
    "# !pip install contractions\n",
    "\n",
    "import re, string, unicodedata                          # Import Regex, string and unicodedata.\n",
    "import contractions                                     # Import contractions library.\n",
    "from bs4 import BeautifulSoup                           # Import BeautifulSoup.\n",
    "\n",
    "import numpy as np                                      # Import numpy.\n",
    "import pandas as pd                                     # Import pandas.\n",
    "import nltk                                             # Import Natural Language Tool-Kit.\n",
    "\n",
    "# nltk.download('stopwords')                              # Download Stopwords.\n",
    "# nltk.download('punkt')\n",
    "# nltk.download('wordnet')\n",
    "\n",
    "from nltk.corpus import stopwords                       # Import stopwords.\n",
    "from nltk.tokenize import word_tokenize, sent_tokenize  # Import Tokenizer.\n",
    "from nltk.stem.wordnet import WordNetLemmatizer         # Import Lemmatizer."
   ]
  },
  {
   "cell_type": "markdown",
   "metadata": {},
   "source": [
    "###  <span style=\"font-family: Calibri; font-size:1.3 em;color:#000055\"> Data Loading </span>"
   ]
  },
  {
   "cell_type": "code",
   "execution_count": 2,
   "metadata": {
    "colab": {},
    "colab_type": "code",
    "id": "iqIcJMJw7MAE"
   },
   "outputs": [],
   "source": [
    "data = pd.read_csv(\"Reviews.csv\")"
   ]
  },
  {
   "cell_type": "code",
   "execution_count": 3,
   "metadata": {
    "colab": {
     "base_uri": "https://localhost:8080/",
     "height": 34
    },
    "colab_type": "code",
    "id": "QAxBWyO29Qb6",
    "outputId": "05f7032b-a75b-4f99-e393-5695c0b9fdd5"
   },
   "outputs": [
    {
     "data": {
      "text/plain": [
       "(568454, 10)"
      ]
     },
     "execution_count": 3,
     "metadata": {},
     "output_type": "execute_result"
    }
   ],
   "source": [
    "data.shape                                               # print shape of data."
   ]
  },
  {
   "cell_type": "code",
   "execution_count": 4,
   "metadata": {
    "colab": {
     "base_uri": "https://localhost:8080/",
     "height": 306
    },
    "colab_type": "code",
    "id": "LAJWb__77ZNu",
    "outputId": "dffaa010-ac70-4345-cc1c-02f56c53f801"
   },
   "outputs": [
    {
     "data": {
      "text/html": [
       "<div>\n",
       "<style scoped>\n",
       "    .dataframe tbody tr th:only-of-type {\n",
       "        vertical-align: middle;\n",
       "    }\n",
       "\n",
       "    .dataframe tbody tr th {\n",
       "        vertical-align: top;\n",
       "    }\n",
       "\n",
       "    .dataframe thead th {\n",
       "        text-align: right;\n",
       "    }\n",
       "</style>\n",
       "<table border=\"1\" class=\"dataframe\">\n",
       "  <thead>\n",
       "    <tr style=\"text-align: right;\">\n",
       "      <th></th>\n",
       "      <th>Id</th>\n",
       "      <th>ProductId</th>\n",
       "      <th>UserId</th>\n",
       "      <th>ProfileName</th>\n",
       "      <th>HelpfulnessNumerator</th>\n",
       "      <th>HelpfulnessDenominator</th>\n",
       "      <th>Score</th>\n",
       "      <th>Time</th>\n",
       "      <th>Summary</th>\n",
       "      <th>Text</th>\n",
       "    </tr>\n",
       "  </thead>\n",
       "  <tbody>\n",
       "    <tr>\n",
       "      <th>0</th>\n",
       "      <td>1</td>\n",
       "      <td>B001E4KFG0</td>\n",
       "      <td>A3SGXH7AUHU8GW</td>\n",
       "      <td>delmartian</td>\n",
       "      <td>1</td>\n",
       "      <td>1</td>\n",
       "      <td>5</td>\n",
       "      <td>1303862400</td>\n",
       "      <td>Good Quality Dog Food</td>\n",
       "      <td>I have bought several of the Vitality canned d...</td>\n",
       "    </tr>\n",
       "    <tr>\n",
       "      <th>1</th>\n",
       "      <td>2</td>\n",
       "      <td>B00813GRG4</td>\n",
       "      <td>A1D87F6ZCVE5NK</td>\n",
       "      <td>dll pa</td>\n",
       "      <td>0</td>\n",
       "      <td>0</td>\n",
       "      <td>1</td>\n",
       "      <td>1346976000</td>\n",
       "      <td>Not as Advertised</td>\n",
       "      <td>Product arrived labeled as Jumbo Salted Peanut...</td>\n",
       "    </tr>\n",
       "    <tr>\n",
       "      <th>2</th>\n",
       "      <td>3</td>\n",
       "      <td>B000LQOCH0</td>\n",
       "      <td>ABXLMWJIXXAIN</td>\n",
       "      <td>Natalia Corres \"Natalia Corres\"</td>\n",
       "      <td>1</td>\n",
       "      <td>1</td>\n",
       "      <td>4</td>\n",
       "      <td>1219017600</td>\n",
       "      <td>\"Delight\" says it all</td>\n",
       "      <td>This is a confection that has been around a fe...</td>\n",
       "    </tr>\n",
       "    <tr>\n",
       "      <th>3</th>\n",
       "      <td>4</td>\n",
       "      <td>B000UA0QIQ</td>\n",
       "      <td>A395BORC6FGVXV</td>\n",
       "      <td>Karl</td>\n",
       "      <td>3</td>\n",
       "      <td>3</td>\n",
       "      <td>2</td>\n",
       "      <td>1307923200</td>\n",
       "      <td>Cough Medicine</td>\n",
       "      <td>If you are looking for the secret ingredient i...</td>\n",
       "    </tr>\n",
       "    <tr>\n",
       "      <th>4</th>\n",
       "      <td>5</td>\n",
       "      <td>B006K2ZZ7K</td>\n",
       "      <td>A1UQRSCLF8GW1T</td>\n",
       "      <td>Michael D. Bigham \"M. Wassir\"</td>\n",
       "      <td>0</td>\n",
       "      <td>0</td>\n",
       "      <td>5</td>\n",
       "      <td>1350777600</td>\n",
       "      <td>Great taffy</td>\n",
       "      <td>Great taffy at a great price.  There was a wid...</td>\n",
       "    </tr>\n",
       "  </tbody>\n",
       "</table>\n",
       "</div>"
      ],
      "text/plain": [
       "   Id   ProductId          UserId                      ProfileName  \\\n",
       "0   1  B001E4KFG0  A3SGXH7AUHU8GW                       delmartian   \n",
       "1   2  B00813GRG4  A1D87F6ZCVE5NK                           dll pa   \n",
       "2   3  B000LQOCH0   ABXLMWJIXXAIN  Natalia Corres \"Natalia Corres\"   \n",
       "3   4  B000UA0QIQ  A395BORC6FGVXV                             Karl   \n",
       "4   5  B006K2ZZ7K  A1UQRSCLF8GW1T    Michael D. Bigham \"M. Wassir\"   \n",
       "\n",
       "   HelpfulnessNumerator  HelpfulnessDenominator  Score        Time  \\\n",
       "0                     1                       1      5  1303862400   \n",
       "1                     0                       0      1  1346976000   \n",
       "2                     1                       1      4  1219017600   \n",
       "3                     3                       3      2  1307923200   \n",
       "4                     0                       0      5  1350777600   \n",
       "\n",
       "                 Summary                                               Text  \n",
       "0  Good Quality Dog Food  I have bought several of the Vitality canned d...  \n",
       "1      Not as Advertised  Product arrived labeled as Jumbo Salted Peanut...  \n",
       "2  \"Delight\" says it all  This is a confection that has been around a fe...  \n",
       "3         Cough Medicine  If you are looking for the secret ingredient i...  \n",
       "4            Great taffy  Great taffy at a great price.  There was a wid...  "
      ]
     },
     "execution_count": 4,
     "metadata": {},
     "output_type": "execute_result"
    }
   ],
   "source": [
    "data.head()                                              # Print first 5 rows of data."
   ]
  },
  {
   "cell_type": "markdown",
   "metadata": {},
   "source": [
    "###  <span style=\"font-family: Calibri; font-size:1.3 em;color:#000055\"> Subsetting Data: # Taking only 10000 entries for demonstration purpose. As full data will take more time to process. # Only keeping score and Text columns from the data, as these are useful for our analysis.\n",
    " </span>"
   ]
  },
  {
   "cell_type": "code",
   "execution_count": 5,
   "metadata": {
    "colab": {},
    "colab_type": "code",
    "id": "4m_zUuoDzu1s"
   },
   "outputs": [],
   "source": [
    "data = data.loc[:10000, ['Score', 'Text']] #-----Extracting 10K records from the data"
   ]
  },
  {
   "cell_type": "code",
   "execution_count": 6,
   "metadata": {
    "colab": {
     "base_uri": "https://localhost:8080/",
     "height": 68
    },
    "colab_type": "code",
    "id": "-Fi1xVk_0g1v",
    "outputId": "4b7f370d-66aa-47fe-cb75-81c2c54d9fce"
   },
   "outputs": [
    {
     "data": {
      "text/plain": [
       "Score    0\n",
       "Text     0\n",
       "dtype: int64"
      ]
     },
     "execution_count": 6,
     "metadata": {},
     "output_type": "execute_result"
    }
   ],
   "source": [
    "data.isnull().sum(axis=0)"
   ]
  },
  {
   "cell_type": "code",
   "execution_count": 7,
   "metadata": {
    "colab": {
     "base_uri": "https://localhost:8080/",
     "height": 289
    },
    "colab_type": "code",
    "id": "YeIScfrX7sCd",
    "outputId": "aab92183-feee-4d04-d2b8-b662c2414140"
   },
   "outputs": [
    {
     "data": {
      "text/html": [
       "<div>\n",
       "<style scoped>\n",
       "    .dataframe tbody tr th:only-of-type {\n",
       "        vertical-align: middle;\n",
       "    }\n",
       "\n",
       "    .dataframe tbody tr th {\n",
       "        vertical-align: top;\n",
       "    }\n",
       "\n",
       "    .dataframe thead th {\n",
       "        text-align: right;\n",
       "    }\n",
       "</style>\n",
       "<table border=\"1\" class=\"dataframe\">\n",
       "  <thead>\n",
       "    <tr style=\"text-align: right;\">\n",
       "      <th></th>\n",
       "      <th>Score</th>\n",
       "      <th>Text</th>\n",
       "    </tr>\n",
       "  </thead>\n",
       "  <tbody>\n",
       "    <tr>\n",
       "      <th>0</th>\n",
       "      <td>5</td>\n",
       "      <td>I have bought several of the Vitality canned dog food products and have found them all to be of good quality. The product looks more like a stew than a processed meat and it smells better. My Labrador is finicky and she appreciates this product better than  most.</td>\n",
       "    </tr>\n",
       "    <tr>\n",
       "      <th>1</th>\n",
       "      <td>1</td>\n",
       "      <td>Product arrived labeled as Jumbo Salted Peanuts...the peanuts were actually small sized unsalted. Not sure if this was an error or if the vendor intended to represent the product as \"Jumbo\".</td>\n",
       "    </tr>\n",
       "    <tr>\n",
       "      <th>2</th>\n",
       "      <td>4</td>\n",
       "      <td>This is a confection that has been around a few centuries.  It is a light, pillowy citrus gelatin with nuts - in this case Filberts. And it is cut into tiny squares and then liberally coated with powdered sugar.  And it is a tiny mouthful of heaven.  Not too chewy, and very flavorful.  I highly recommend this yummy treat.  If you are familiar with the story of C.S. Lewis' \"The Lion, The Witch, and The Wardrobe\" - this is the treat that seduces Edmund into selling out his Brother and Sisters to the Witch.</td>\n",
       "    </tr>\n",
       "    <tr>\n",
       "      <th>3</th>\n",
       "      <td>2</td>\n",
       "      <td>If you are looking for the secret ingredient in Robitussin I believe I have found it.  I got this in addition to the Root Beer Extract I ordered (which was good) and made some cherry soda.  The flavor is very medicinal.</td>\n",
       "    </tr>\n",
       "    <tr>\n",
       "      <th>4</th>\n",
       "      <td>5</td>\n",
       "      <td>Great taffy at a great price.  There was a wide assortment of yummy taffy.  Delivery was very quick.  If your a taffy lover, this is a deal.</td>\n",
       "    </tr>\n",
       "  </tbody>\n",
       "</table>\n",
       "</div>"
      ],
      "text/plain": [
       "   Score  \\\n",
       "0      5   \n",
       "1      1   \n",
       "2      4   \n",
       "3      2   \n",
       "4      5   \n",
       "\n",
       "                                                                                                                                                                                                                                                                                                                                                                                                                                                                                                                            Text  \n",
       "0                                                                                                                                                                                                                                                        I have bought several of the Vitality canned dog food products and have found them all to be of good quality. The product looks more like a stew than a processed meat and it smells better. My Labrador is finicky and she appreciates this product better than  most.  \n",
       "1                                                                                                                                                                                                                                                                                                                                 Product arrived labeled as Jumbo Salted Peanuts...the peanuts were actually small sized unsalted. Not sure if this was an error or if the vendor intended to represent the product as \"Jumbo\".  \n",
       "2  This is a confection that has been around a few centuries.  It is a light, pillowy citrus gelatin with nuts - in this case Filberts. And it is cut into tiny squares and then liberally coated with powdered sugar.  And it is a tiny mouthful of heaven.  Not too chewy, and very flavorful.  I highly recommend this yummy treat.  If you are familiar with the story of C.S. Lewis' \"The Lion, The Witch, and The Wardrobe\" - this is the treat that seduces Edmund into selling out his Brother and Sisters to the Witch.  \n",
       "3                                                                                                                                                                                                                                                                                                    If you are looking for the secret ingredient in Robitussin I believe I have found it.  I got this in addition to the Root Beer Extract I ordered (which was good) and made some cherry soda.  The flavor is very medicinal.  \n",
       "4                                                                                                                                                                                                                                                                                                                                                                                   Great taffy at a great price.  There was a wide assortment of yummy taffy.  Delivery was very quick.  If your a taffy lover, this is a deal.  "
      ]
     },
     "execution_count": 7,
     "metadata": {},
     "output_type": "execute_result"
    }
   ],
   "source": [
    "pd.set_option('display.max_colwidth', None)\n",
    "data.head()"
   ]
  },
  {
   "cell_type": "code",
   "execution_count": 8,
   "metadata": {
    "colab": {
     "base_uri": "https://localhost:8080/",
     "height": 34
    },
    "colab_type": "code",
    "id": "qtWdbYiL79M6",
    "outputId": "0f205f29-b8a0-4816-f4b2-f8bf8eee84af"
   },
   "outputs": [
    {
     "data": {
      "text/plain": [
       "(10001, 2)"
      ]
     },
     "execution_count": 8,
     "metadata": {},
     "output_type": "execute_result"
    }
   ],
   "source": [
    "data.shape                                # Shape of data"
   ]
  },
  {
   "cell_type": "markdown",
   "metadata": {},
   "source": [
    "###  <span style=\"font-family: Calibri; font-size:1.3 em;color:#000055\"> Class Balance </span>"
   ]
  },
  {
   "cell_type": "code",
   "execution_count": 9,
   "metadata": {},
   "outputs": [
    {
     "data": {
      "text/plain": [
       "5    6184\n",
       "4    1433\n",
       "1     932\n",
       "3     862\n",
       "2     590\n",
       "Name: Score, dtype: int64"
      ]
     },
     "execution_count": 9,
     "metadata": {},
     "output_type": "execute_result"
    }
   ],
   "source": [
    "data['Score'].value_counts()"
   ]
  },
  {
   "cell_type": "markdown",
   "metadata": {
    "colab_type": "text",
    "id": "377IfFic-Ihk"
   },
   "source": [
    "###  <span style=\"font-family: Calibri; font-size:1.3 em;color:#000055\"> Data Pre-processing </span>\n",
    "\n",
    "\n",
    "- Remove html tags.\n",
    "- language check\n",
    "- Replace contractions in string. (e.g. replace I'm --> I am) and so on.\\\n",
    "- Remove numbers\n",
    "- Remove proper nouns\n",
    "- Tokenization\n",
    "- To remove Stopwords.\n",
    "- Lemmatized data\n",
    "\n",
    "We have used NLTK library to tokenize words , remove stopwords and lemmatize the remaining words."
   ]
  },
  {
   "cell_type": "markdown",
   "metadata": {},
   "source": [
    "###  <span style=\"font-family: Calibri; font-size:1.3 em;color:#000055\"> Language Check </span>"
   ]
  },
  {
   "cell_type": "code",
   "execution_count": 10,
   "metadata": {},
   "outputs": [],
   "source": [
    "# from langdetect import detect\n",
    "\n",
    "# data['Language'] = \"\"\n",
    "\n",
    "# for i, desc in enumerate(data['Text']):\n",
    "#     try:\n",
    "#         data['Language'][i] = detect(desc)\n",
    "#     except:\n",
    "#         data['Language'][i] = 'unknown'"
   ]
  },
  {
   "cell_type": "code",
   "execution_count": 11,
   "metadata": {},
   "outputs": [],
   "source": [
    "# data.head()"
   ]
  },
  {
   "cell_type": "code",
   "execution_count": 12,
   "metadata": {},
   "outputs": [],
   "source": [
    "# data['Language'].value_counts()"
   ]
  },
  {
   "cell_type": "code",
   "execution_count": 13,
   "metadata": {},
   "outputs": [],
   "source": [
    "# data=data[data['Language']=='en']"
   ]
  },
  {
   "cell_type": "markdown",
   "metadata": {},
   "source": [
    "###  <span style=\"font-family: Calibri; font-size:1.3 em;color:#000055\"> HTTP/HyperLink Removal </span>"
   ]
  },
  {
   "cell_type": "code",
   "execution_count": 14,
   "metadata": {},
   "outputs": [
    {
     "data": {
      "text/html": [
       "<div>\n",
       "<style scoped>\n",
       "    .dataframe tbody tr th:only-of-type {\n",
       "        vertical-align: middle;\n",
       "    }\n",
       "\n",
       "    .dataframe tbody tr th {\n",
       "        vertical-align: top;\n",
       "    }\n",
       "\n",
       "    .dataframe thead th {\n",
       "        text-align: right;\n",
       "    }\n",
       "</style>\n",
       "<table border=\"1\" class=\"dataframe\">\n",
       "  <thead>\n",
       "    <tr style=\"text-align: right;\">\n",
       "      <th></th>\n",
       "      <th>Score</th>\n",
       "      <th>Text</th>\n",
       "    </tr>\n",
       "  </thead>\n",
       "  <tbody>\n",
       "    <tr>\n",
       "      <th>0</th>\n",
       "      <td>5</td>\n",
       "      <td>I have bought several of the Vitality canned dog food products and have found them all to be of good quality. The product looks more like a stew than a processed meat and it smells better. My Labrador is finicky and she appreciates this product better than  most.</td>\n",
       "    </tr>\n",
       "    <tr>\n",
       "      <th>1</th>\n",
       "      <td>1</td>\n",
       "      <td>Product arrived labeled as Jumbo Salted Peanuts...the peanuts were actually small sized unsalted. Not sure if this was an error or if the vendor intended to represent the product as \"Jumbo\".</td>\n",
       "    </tr>\n",
       "    <tr>\n",
       "      <th>2</th>\n",
       "      <td>4</td>\n",
       "      <td>This is a confection that has been around a few centuries.  It is a light, pillowy citrus gelatin with nuts - in this case Filberts. And it is cut into tiny squares and then liberally coated with powdered sugar.  And it is a tiny mouthful of heaven.  Not too chewy, and very flavorful.  I highly recommend this yummy treat.  If you are familiar with the story of C.S. Lewis' \"The Lion, The Witch, and The Wardrobe\" - this is the treat that seduces Edmund into selling out his Brother and Sisters to the Witch.</td>\n",
       "    </tr>\n",
       "    <tr>\n",
       "      <th>3</th>\n",
       "      <td>2</td>\n",
       "      <td>If you are looking for the secret ingredient in Robitussin I believe I have found it.  I got this in addition to the Root Beer Extract I ordered (which was good) and made some cherry soda.  The flavor is very medicinal.</td>\n",
       "    </tr>\n",
       "    <tr>\n",
       "      <th>4</th>\n",
       "      <td>5</td>\n",
       "      <td>Great taffy at a great price.  There was a wide assortment of yummy taffy.  Delivery was very quick.  If your a taffy lover, this is a deal.</td>\n",
       "    </tr>\n",
       "  </tbody>\n",
       "</table>\n",
       "</div>"
      ],
      "text/plain": [
       "   Score  \\\n",
       "0      5   \n",
       "1      1   \n",
       "2      4   \n",
       "3      2   \n",
       "4      5   \n",
       "\n",
       "                                                                                                                                                                                                                                                                                                                                                                                                                                                                                                                            Text  \n",
       "0                                                                                                                                                                                                                                                        I have bought several of the Vitality canned dog food products and have found them all to be of good quality. The product looks more like a stew than a processed meat and it smells better. My Labrador is finicky and she appreciates this product better than  most.  \n",
       "1                                                                                                                                                                                                                                                                                                                                 Product arrived labeled as Jumbo Salted Peanuts...the peanuts were actually small sized unsalted. Not sure if this was an error or if the vendor intended to represent the product as \"Jumbo\".  \n",
       "2  This is a confection that has been around a few centuries.  It is a light, pillowy citrus gelatin with nuts - in this case Filberts. And it is cut into tiny squares and then liberally coated with powdered sugar.  And it is a tiny mouthful of heaven.  Not too chewy, and very flavorful.  I highly recommend this yummy treat.  If you are familiar with the story of C.S. Lewis' \"The Lion, The Witch, and The Wardrobe\" - this is the treat that seduces Edmund into selling out his Brother and Sisters to the Witch.  \n",
       "3                                                                                                                                                                                                                                                                                                    If you are looking for the secret ingredient in Robitussin I believe I have found it.  I got this in addition to the Root Beer Extract I ordered (which was good) and made some cherry soda.  The flavor is very medicinal.  \n",
       "4                                                                                                                                                                                                                                                                                                                                                                                   Great taffy at a great price.  There was a wide assortment of yummy taffy.  Delivery was very quick.  If your a taffy lover, this is a deal.  "
      ]
     },
     "execution_count": 14,
     "metadata": {},
     "output_type": "execute_result"
    }
   ],
   "source": [
    "# Removal of the http link using Regular Expression.\n",
    "\n",
    "for i, row in data.iterrows():\n",
    "\n",
    "    #     print(i,row)\n",
    "    \n",
    "    clean_text = re.sub(r\"http\\S+\", \"\", data.at[i, 'Text']) #--Extracting anything that follows http till a space is encountered\n",
    "    \n",
    "    data.at[i,'Text'] = clean_text #---Puts the cleaned text back to the data frame\n",
    "    \n",
    "data.head()"
   ]
  },
  {
   "cell_type": "markdown",
   "metadata": {},
   "source": [
    "###  <span style=\"font-family: Calibri; font-size:1.3 em;color:#000055\"> HTML Removal </span>"
   ]
  },
  {
   "cell_type": "code",
   "execution_count": 15,
   "metadata": {
    "colab": {
     "base_uri": "https://localhost:8080/",
     "height": 289
    },
    "colab_type": "code",
    "id": "vf3kMpGN7Lp9",
    "outputId": "67ce1a80-e9df-46c4-e0e2-d455a24f0e31"
   },
   "outputs": [
    {
     "data": {
      "text/html": [
       "<div>\n",
       "<style scoped>\n",
       "    .dataframe tbody tr th:only-of-type {\n",
       "        vertical-align: middle;\n",
       "    }\n",
       "\n",
       "    .dataframe tbody tr th {\n",
       "        vertical-align: top;\n",
       "    }\n",
       "\n",
       "    .dataframe thead th {\n",
       "        text-align: right;\n",
       "    }\n",
       "</style>\n",
       "<table border=\"1\" class=\"dataframe\">\n",
       "  <thead>\n",
       "    <tr style=\"text-align: right;\">\n",
       "      <th></th>\n",
       "      <th>Score</th>\n",
       "      <th>Text</th>\n",
       "    </tr>\n",
       "  </thead>\n",
       "  <tbody>\n",
       "    <tr>\n",
       "      <th>0</th>\n",
       "      <td>5</td>\n",
       "      <td>I have bought several of the Vitality canned dog food products and have found them all to be of good quality. The product looks more like a stew than a processed meat and it smells better. My Labrador is finicky and she appreciates this product better than  most.</td>\n",
       "    </tr>\n",
       "    <tr>\n",
       "      <th>1</th>\n",
       "      <td>1</td>\n",
       "      <td>Product arrived labeled as Jumbo Salted Peanuts...the peanuts were actually small sized unsalted. Not sure if this was an error or if the vendor intended to represent the product as \"Jumbo\".</td>\n",
       "    </tr>\n",
       "    <tr>\n",
       "      <th>2</th>\n",
       "      <td>4</td>\n",
       "      <td>This is a confection that has been around a few centuries.  It is a light, pillowy citrus gelatin with nuts - in this case Filberts. And it is cut into tiny squares and then liberally coated with powdered sugar.  And it is a tiny mouthful of heaven.  Not too chewy, and very flavorful.  I highly recommend this yummy treat.  If you are familiar with the story of C.S. Lewis' \"The Lion, The Witch, and The Wardrobe\" - this is the treat that seduces Edmund into selling out his Brother and Sisters to the Witch.</td>\n",
       "    </tr>\n",
       "    <tr>\n",
       "      <th>3</th>\n",
       "      <td>2</td>\n",
       "      <td>If you are looking for the secret ingredient in Robitussin I believe I have found it.  I got this in addition to the Root Beer Extract I ordered (which was good) and made some cherry soda.  The flavor is very medicinal.</td>\n",
       "    </tr>\n",
       "    <tr>\n",
       "      <th>4</th>\n",
       "      <td>5</td>\n",
       "      <td>Great taffy at a great price.  There was a wide assortment of yummy taffy.  Delivery was very quick.  If your a taffy lover, this is a deal.</td>\n",
       "    </tr>\n",
       "  </tbody>\n",
       "</table>\n",
       "</div>"
      ],
      "text/plain": [
       "   Score  \\\n",
       "0      5   \n",
       "1      1   \n",
       "2      4   \n",
       "3      2   \n",
       "4      5   \n",
       "\n",
       "                                                                                                                                                                                                                                                                                                                                                                                                                                                                                                                            Text  \n",
       "0                                                                                                                                                                                                                                                        I have bought several of the Vitality canned dog food products and have found them all to be of good quality. The product looks more like a stew than a processed meat and it smells better. My Labrador is finicky and she appreciates this product better than  most.  \n",
       "1                                                                                                                                                                                                                                                                                                                                 Product arrived labeled as Jumbo Salted Peanuts...the peanuts were actually small sized unsalted. Not sure if this was an error or if the vendor intended to represent the product as \"Jumbo\".  \n",
       "2  This is a confection that has been around a few centuries.  It is a light, pillowy citrus gelatin with nuts - in this case Filberts. And it is cut into tiny squares and then liberally coated with powdered sugar.  And it is a tiny mouthful of heaven.  Not too chewy, and very flavorful.  I highly recommend this yummy treat.  If you are familiar with the story of C.S. Lewis' \"The Lion, The Witch, and The Wardrobe\" - this is the treat that seduces Edmund into selling out his Brother and Sisters to the Witch.  \n",
       "3                                                                                                                                                                                                                                                                                                    If you are looking for the secret ingredient in Robitussin I believe I have found it.  I got this in addition to the Root Beer Extract I ordered (which was good) and made some cherry soda.  The flavor is very medicinal.  \n",
       "4                                                                                                                                                                                                                                                                                                                                                                                   Great taffy at a great price.  There was a wide assortment of yummy taffy.  Delivery was very quick.  If your a taffy lover, this is a deal.  "
      ]
     },
     "execution_count": 15,
     "metadata": {},
     "output_type": "execute_result"
    }
   ],
   "source": [
    "def strip_html(text):\n",
    "    soup = BeautifulSoup(text, \"html.parser\")\n",
    "    return soup.get_text()\n",
    "\n",
    "data['Text'] = data['Text'].apply(lambda x: strip_html(x))\n",
    "data.head()"
   ]
  },
  {
   "cell_type": "markdown",
   "metadata": {},
   "source": [
    "###  <span style=\"font-family: Calibri; font-size:1.3 em;color:#000055\"> Contraction </span>"
   ]
  },
  {
   "cell_type": "code",
   "execution_count": 16,
   "metadata": {
    "colab": {
     "base_uri": "https://localhost:8080/",
     "height": 289
    },
    "colab_type": "code",
    "id": "f7NgnYq77Puy",
    "outputId": "e309f12d-b78d-4e2a-d0f5-d1cc50311ee7"
   },
   "outputs": [
    {
     "data": {
      "text/html": [
       "<div>\n",
       "<style scoped>\n",
       "    .dataframe tbody tr th:only-of-type {\n",
       "        vertical-align: middle;\n",
       "    }\n",
       "\n",
       "    .dataframe tbody tr th {\n",
       "        vertical-align: top;\n",
       "    }\n",
       "\n",
       "    .dataframe thead th {\n",
       "        text-align: right;\n",
       "    }\n",
       "</style>\n",
       "<table border=\"1\" class=\"dataframe\">\n",
       "  <thead>\n",
       "    <tr style=\"text-align: right;\">\n",
       "      <th></th>\n",
       "      <th>Score</th>\n",
       "      <th>Text</th>\n",
       "    </tr>\n",
       "  </thead>\n",
       "  <tbody>\n",
       "    <tr>\n",
       "      <th>0</th>\n",
       "      <td>5</td>\n",
       "      <td>I have bought several of the Vitality canned dog food products and have found them all to be of good quality. The product looks more like a stew than a processed meat and it smells better. My Labrador is finicky and she appreciates this product better than  most.</td>\n",
       "    </tr>\n",
       "    <tr>\n",
       "      <th>1</th>\n",
       "      <td>1</td>\n",
       "      <td>Product arrived labeled as Jumbo Salted Peanuts...the peanuts were actually small sized unsalted. Not sure if this was an error or if the vendor intended to represent the product as \"Jumbo\".</td>\n",
       "    </tr>\n",
       "    <tr>\n",
       "      <th>2</th>\n",
       "      <td>4</td>\n",
       "      <td>This is a confection that has been around a few centuries.  It is a light, pillowy citrus gelatin with nuts - in this case Filberts. And it is cut into tiny squares and then liberally coated with powdered sugar.  And it is a tiny mouthful of heaven.  Not too chewy, and very flavorful.  I highly recommend this yummy treat.  If you are familiar with the story of C.S. Lewis' \"The Lion, The Witch, and The Wardrobe\" - this is the treat that seduces Edmund into selling out his Brother and Sisters to the Witch.</td>\n",
       "    </tr>\n",
       "    <tr>\n",
       "      <th>3</th>\n",
       "      <td>2</td>\n",
       "      <td>If you are looking for the secret ingredient in Robitussin I believe I have found it.  I got this in addition to the Root Beer Extract I ordered (which was good) and made some cherry soda.  The flavor is very medicinal.</td>\n",
       "    </tr>\n",
       "    <tr>\n",
       "      <th>4</th>\n",
       "      <td>5</td>\n",
       "      <td>Great taffy at a great price.  There was a wide assortment of yummy taffy.  Delivery was very quick.  If your a taffy lover, this is a deal.</td>\n",
       "    </tr>\n",
       "  </tbody>\n",
       "</table>\n",
       "</div>"
      ],
      "text/plain": [
       "   Score  \\\n",
       "0      5   \n",
       "1      1   \n",
       "2      4   \n",
       "3      2   \n",
       "4      5   \n",
       "\n",
       "                                                                                                                                                                                                                                                                                                                                                                                                                                                                                                                            Text  \n",
       "0                                                                                                                                                                                                                                                        I have bought several of the Vitality canned dog food products and have found them all to be of good quality. The product looks more like a stew than a processed meat and it smells better. My Labrador is finicky and she appreciates this product better than  most.  \n",
       "1                                                                                                                                                                                                                                                                                                                                 Product arrived labeled as Jumbo Salted Peanuts...the peanuts were actually small sized unsalted. Not sure if this was an error or if the vendor intended to represent the product as \"Jumbo\".  \n",
       "2  This is a confection that has been around a few centuries.  It is a light, pillowy citrus gelatin with nuts - in this case Filberts. And it is cut into tiny squares and then liberally coated with powdered sugar.  And it is a tiny mouthful of heaven.  Not too chewy, and very flavorful.  I highly recommend this yummy treat.  If you are familiar with the story of C.S. Lewis' \"The Lion, The Witch, and The Wardrobe\" - this is the treat that seduces Edmund into selling out his Brother and Sisters to the Witch.  \n",
       "3                                                                                                                                                                                                                                                                                                    If you are looking for the secret ingredient in Robitussin I believe I have found it.  I got this in addition to the Root Beer Extract I ordered (which was good) and made some cherry soda.  The flavor is very medicinal.  \n",
       "4                                                                                                                                                                                                                                                                                                                                                                                   Great taffy at a great price.  There was a wide assortment of yummy taffy.  Delivery was very quick.  If your a taffy lover, this is a deal.  "
      ]
     },
     "execution_count": 16,
     "metadata": {},
     "output_type": "execute_result"
    }
   ],
   "source": [
    "def replace_contractions(text):\n",
    "    \"\"\"Replace contractions in string of text\"\"\"\n",
    "    return contractions.fix(text)\n",
    "\n",
    "data['Text'] = data['Text'].apply(lambda x: replace_contractions(x))\n",
    "data.head()"
   ]
  },
  {
   "cell_type": "markdown",
   "metadata": {},
   "source": [
    "###  <span style=\"font-family: Calibri; font-size:1.3 em;color:#000055\"> Numbers Removal </span>"
   ]
  },
  {
   "cell_type": "code",
   "execution_count": 17,
   "metadata": {
    "colab": {
     "base_uri": "https://localhost:8080/",
     "height": 289
    },
    "colab_type": "code",
    "id": "ga8ArYYxAB_1",
    "outputId": "40f66f54-174a-426a-b727-5e9ec89dccd8"
   },
   "outputs": [
    {
     "data": {
      "text/html": [
       "<div>\n",
       "<style scoped>\n",
       "    .dataframe tbody tr th:only-of-type {\n",
       "        vertical-align: middle;\n",
       "    }\n",
       "\n",
       "    .dataframe tbody tr th {\n",
       "        vertical-align: top;\n",
       "    }\n",
       "\n",
       "    .dataframe thead th {\n",
       "        text-align: right;\n",
       "    }\n",
       "</style>\n",
       "<table border=\"1\" class=\"dataframe\">\n",
       "  <thead>\n",
       "    <tr style=\"text-align: right;\">\n",
       "      <th></th>\n",
       "      <th>Score</th>\n",
       "      <th>Text</th>\n",
       "    </tr>\n",
       "  </thead>\n",
       "  <tbody>\n",
       "    <tr>\n",
       "      <th>0</th>\n",
       "      <td>5</td>\n",
       "      <td>I have bought several of the Vitality canned dog food products and have found them all to be of good quality. The product looks more like a stew than a processed meat and it smells better. My Labrador is finicky and she appreciates this product better than  most.</td>\n",
       "    </tr>\n",
       "    <tr>\n",
       "      <th>1</th>\n",
       "      <td>1</td>\n",
       "      <td>Product arrived labeled as Jumbo Salted Peanuts...the peanuts were actually small sized unsalted. Not sure if this was an error or if the vendor intended to represent the product as \"Jumbo\".</td>\n",
       "    </tr>\n",
       "    <tr>\n",
       "      <th>2</th>\n",
       "      <td>4</td>\n",
       "      <td>This is a confection that has been around a few centuries.  It is a light, pillowy citrus gelatin with nuts - in this case Filberts. And it is cut into tiny squares and then liberally coated with powdered sugar.  And it is a tiny mouthful of heaven.  Not too chewy, and very flavorful.  I highly recommend this yummy treat.  If you are familiar with the story of C.S. Lewis' \"The Lion, The Witch, and The Wardrobe\" - this is the treat that seduces Edmund into selling out his Brother and Sisters to the Witch.</td>\n",
       "    </tr>\n",
       "    <tr>\n",
       "      <th>3</th>\n",
       "      <td>2</td>\n",
       "      <td>If you are looking for the secret ingredient in Robitussin I believe I have found it.  I got this in addition to the Root Beer Extract I ordered (which was good) and made some cherry soda.  The flavor is very medicinal.</td>\n",
       "    </tr>\n",
       "    <tr>\n",
       "      <th>4</th>\n",
       "      <td>5</td>\n",
       "      <td>Great taffy at a great price.  There was a wide assortment of yummy taffy.  Delivery was very quick.  If your a taffy lover, this is a deal.</td>\n",
       "    </tr>\n",
       "  </tbody>\n",
       "</table>\n",
       "</div>"
      ],
      "text/plain": [
       "   Score  \\\n",
       "0      5   \n",
       "1      1   \n",
       "2      4   \n",
       "3      2   \n",
       "4      5   \n",
       "\n",
       "                                                                                                                                                                                                                                                                                                                                                                                                                                                                                                                            Text  \n",
       "0                                                                                                                                                                                                                                                        I have bought several of the Vitality canned dog food products and have found them all to be of good quality. The product looks more like a stew than a processed meat and it smells better. My Labrador is finicky and she appreciates this product better than  most.  \n",
       "1                                                                                                                                                                                                                                                                                                                                 Product arrived labeled as Jumbo Salted Peanuts...the peanuts were actually small sized unsalted. Not sure if this was an error or if the vendor intended to represent the product as \"Jumbo\".  \n",
       "2  This is a confection that has been around a few centuries.  It is a light, pillowy citrus gelatin with nuts - in this case Filberts. And it is cut into tiny squares and then liberally coated with powdered sugar.  And it is a tiny mouthful of heaven.  Not too chewy, and very flavorful.  I highly recommend this yummy treat.  If you are familiar with the story of C.S. Lewis' \"The Lion, The Witch, and The Wardrobe\" - this is the treat that seduces Edmund into selling out his Brother and Sisters to the Witch.  \n",
       "3                                                                                                                                                                                                                                                                                                    If you are looking for the secret ingredient in Robitussin I believe I have found it.  I got this in addition to the Root Beer Extract I ordered (which was good) and made some cherry soda.  The flavor is very medicinal.  \n",
       "4                                                                                                                                                                                                                                                                                                                                                                                   Great taffy at a great price.  There was a wide assortment of yummy taffy.  Delivery was very quick.  If your a taffy lover, this is a deal.  "
      ]
     },
     "execution_count": 17,
     "metadata": {},
     "output_type": "execute_result"
    }
   ],
   "source": [
    "def remove_numbers(text):\n",
    "    text = re.sub(r'\\d+', '', text)\n",
    "    return text\n",
    "\n",
    "data['Text'] = data['Text'].apply(lambda x: remove_numbers(x))\n",
    "data.head()"
   ]
  },
  {
   "cell_type": "markdown",
   "metadata": {},
   "source": [
    "###  <span style=\"font-family: Calibri; font-size:1.3 em;color:#000055\"> Removing Proper Noun </span>\n",
    "https://www.ling.upenn.edu/courses/Fall_2003/ling001/penn_treebank_pos.html"
   ]
  },
  {
   "cell_type": "code",
   "execution_count": 18,
   "metadata": {},
   "outputs": [
    {
     "name": "stderr",
     "output_type": "stream",
     "text": [
      "[nltk_data] Downloading package averaged_perceptron_tagger to\n",
      "[nltk_data]     C:\\Users\\91905\\AppData\\Roaming\\nltk_data...\n",
      "[nltk_data]   Package averaged_perceptron_tagger is already up-to-\n",
      "[nltk_data]       date!\n"
     ]
    },
    {
     "data": {
      "text/plain": [
       "True"
      ]
     },
     "execution_count": 18,
     "metadata": {},
     "output_type": "execute_result"
    }
   ],
   "source": [
    "import nltk\n",
    "nltk.download('averaged_perceptron_tagger')"
   ]
  },
  {
   "cell_type": "code",
   "execution_count": 19,
   "metadata": {},
   "outputs": [
    {
     "data": {
      "text/plain": [
       "['Great',\n",
       " 'taffy',\n",
       " 'at',\n",
       " 'a',\n",
       " 'great',\n",
       " 'price.',\n",
       " 'There',\n",
       " 'was',\n",
       " 'a',\n",
       " 'wide',\n",
       " 'assortment',\n",
       " 'of',\n",
       " 'yummy',\n",
       " 'taffy.',\n",
       " 'Delivery',\n",
       " 'was',\n",
       " 'very',\n",
       " 'quick.',\n",
       " 'If',\n",
       " 'your',\n",
       " 'a',\n",
       " 'taffy',\n",
       " 'lover,',\n",
       " 'this',\n",
       " 'is',\n",
       " 'a',\n",
       " 'deal.']"
      ]
     },
     "execution_count": 19,
     "metadata": {},
     "output_type": "execute_result"
    }
   ],
   "source": [
    "sentence=\"Great taffy at a great price. There was a wide assortment of yummy taffy. Delivery was very quick. If your a taffy lover, this is a deal.\"\n",
    "\n",
    "sentence.split()"
   ]
  },
  {
   "cell_type": "code",
   "execution_count": 20,
   "metadata": {},
   "outputs": [
    {
     "data": {
      "text/html": [
       "<div>\n",
       "<style scoped>\n",
       "    .dataframe tbody tr th:only-of-type {\n",
       "        vertical-align: middle;\n",
       "    }\n",
       "\n",
       "    .dataframe tbody tr th {\n",
       "        vertical-align: top;\n",
       "    }\n",
       "\n",
       "    .dataframe thead th {\n",
       "        text-align: right;\n",
       "    }\n",
       "</style>\n",
       "<table border=\"1\" class=\"dataframe\">\n",
       "  <thead>\n",
       "    <tr style=\"text-align: right;\">\n",
       "      <th></th>\n",
       "      <th>Score</th>\n",
       "      <th>Text</th>\n",
       "    </tr>\n",
       "  </thead>\n",
       "  <tbody>\n",
       "    <tr>\n",
       "      <th>0</th>\n",
       "      <td>5</td>\n",
       "      <td>I have bought several of the canned dog food products and have found them all to be of good quality. The product looks more like a stew than a processed meat and it smells better. is finicky and she appreciates this product better than most.</td>\n",
       "    </tr>\n",
       "    <tr>\n",
       "      <th>1</th>\n",
       "      <td>1</td>\n",
       "      <td>arrived labeled as Salted peanuts were actually small sized unsalted. Not sure if this was an error or if the vendor intended to represent the product as \"Jumbo\".</td>\n",
       "    </tr>\n",
       "    <tr>\n",
       "      <th>2</th>\n",
       "      <td>4</td>\n",
       "      <td>This is a confection that has been around a few centuries. It is a light, pillowy citrus gelatin with nuts - in this case And it is cut into tiny squares and then liberally coated with powdered sugar. And it is a tiny mouthful of heaven. Not too chewy, and very flavorful. I highly recommend this yummy treat. If you are familiar with the story of The and The - this is the treat that seduces into selling out his Brother and to the</td>\n",
       "    </tr>\n",
       "    <tr>\n",
       "      <th>3</th>\n",
       "      <td>2</td>\n",
       "      <td>If you are looking for the secret ingredient in I believe I have found it. I got this in addition to the I ordered was good) and made some cherry soda. The flavor is very medicinal.</td>\n",
       "    </tr>\n",
       "    <tr>\n",
       "      <th>4</th>\n",
       "      <td>5</td>\n",
       "      <td>taffy at a great price. There was a wide assortment of yummy taffy. was very quick. If your a taffy lover, this is a deal.</td>\n",
       "    </tr>\n",
       "  </tbody>\n",
       "</table>\n",
       "</div>"
      ],
      "text/plain": [
       "   Score  \\\n",
       "0      5   \n",
       "1      1   \n",
       "2      4   \n",
       "3      2   \n",
       "4      5   \n",
       "\n",
       "                                                                                                                                                                                                                                                                                                                                                                                                                                               Text  \n",
       "0                                                                                                                                                                                                 I have bought several of the canned dog food products and have found them all to be of good quality. The product looks more like a stew than a processed meat and it smells better. is finicky and she appreciates this product better than most.  \n",
       "1                                                                                                                                                                                                                                                                                arrived labeled as Salted peanuts were actually small sized unsalted. Not sure if this was an error or if the vendor intended to represent the product as \"Jumbo\".  \n",
       "2  This is a confection that has been around a few centuries. It is a light, pillowy citrus gelatin with nuts - in this case And it is cut into tiny squares and then liberally coated with powdered sugar. And it is a tiny mouthful of heaven. Not too chewy, and very flavorful. I highly recommend this yummy treat. If you are familiar with the story of The and The - this is the treat that seduces into selling out his Brother and to the  \n",
       "3                                                                                                                                                                                                                                                             If you are looking for the secret ingredient in I believe I have found it. I got this in addition to the I ordered was good) and made some cherry soda. The flavor is very medicinal.  \n",
       "4                                                                                                                                                                                                                                                                                                                        taffy at a great price. There was a wide assortment of yummy taffy. was very quick. If your a taffy lover, this is a deal.  "
      ]
     },
     "execution_count": 20,
     "metadata": {},
     "output_type": "execute_result"
    }
   ],
   "source": [
    "for i, row in data.iterrows():\n",
    "    \n",
    "    sentence=data.at[i,'Text']\n",
    "    \n",
    "    tagged_sentence = nltk.tag.pos_tag(sentence.split())\n",
    "    \n",
    "    edited_sentence = [word for word,tag in tagged_sentence if tag != 'NNP' and tag != 'NNPS']\n",
    "    \n",
    "    data.at[i,'Text']=(' '.join(edited_sentence))\n",
    "    \n",
    "data.head()"
   ]
  },
  {
   "cell_type": "markdown",
   "metadata": {},
   "source": [
    "###  <span style=\"font-family: Calibri; font-size:1.3 em;color:#000055\"> Tokenization </span>"
   ]
  },
  {
   "cell_type": "code",
   "execution_count": 21,
   "metadata": {
    "colab": {},
    "colab_type": "code",
    "id": "q0-yYsx68DxT"
   },
   "outputs": [],
   "source": [
    "data['Text'] = data.apply(lambda row: nltk.word_tokenize(row['Text']), axis=1) # Tokenization of data"
   ]
  },
  {
   "cell_type": "code",
   "execution_count": 22,
   "metadata": {
    "colab": {
     "base_uri": "https://localhost:8080/",
     "height": 289
    },
    "colab_type": "code",
    "id": "EcHbJJFfAlM2",
    "outputId": "1cfef041-55ed-4f03-b7f0-6eba67f2f02b"
   },
   "outputs": [
    {
     "data": {
      "text/html": [
       "<div>\n",
       "<style scoped>\n",
       "    .dataframe tbody tr th:only-of-type {\n",
       "        vertical-align: middle;\n",
       "    }\n",
       "\n",
       "    .dataframe tbody tr th {\n",
       "        vertical-align: top;\n",
       "    }\n",
       "\n",
       "    .dataframe thead th {\n",
       "        text-align: right;\n",
       "    }\n",
       "</style>\n",
       "<table border=\"1\" class=\"dataframe\">\n",
       "  <thead>\n",
       "    <tr style=\"text-align: right;\">\n",
       "      <th></th>\n",
       "      <th>Score</th>\n",
       "      <th>Text</th>\n",
       "    </tr>\n",
       "  </thead>\n",
       "  <tbody>\n",
       "    <tr>\n",
       "      <th>0</th>\n",
       "      <td>5</td>\n",
       "      <td>[I, have, bought, several, of, the, canned, dog, food, products, and, have, found, them, all, to, be, of, good, quality, ., The, product, looks, more, like, a, stew, than, a, processed, meat, and, it, smells, better, ., is, finicky, and, she, appreciates, this, product, better, than, most, .]</td>\n",
       "    </tr>\n",
       "    <tr>\n",
       "      <th>1</th>\n",
       "      <td>1</td>\n",
       "      <td>[arrived, labeled, as, Salted, peanuts, were, actually, small, sized, unsalted, ., Not, sure, if, this, was, an, error, or, if, the, vendor, intended, to, represent, the, product, as, ``, Jumbo, '', .]</td>\n",
       "    </tr>\n",
       "    <tr>\n",
       "      <th>2</th>\n",
       "      <td>4</td>\n",
       "      <td>[This, is, a, confection, that, has, been, around, a, few, centuries, ., It, is, a, light, ,, pillowy, citrus, gelatin, with, nuts, -, in, this, case, And, it, is, cut, into, tiny, squares, and, then, liberally, coated, with, powdered, sugar, ., And, it, is, a, tiny, mouthful, of, heaven, ., Not, too, chewy, ,, and, very, flavorful, ., I, highly, recommend, this, yummy, treat, ., If, you, are, familiar, with, the, story, of, The, and, The, -, this, is, the, treat, that, seduces, into, selling, out, his, Brother, and, to, the]</td>\n",
       "    </tr>\n",
       "    <tr>\n",
       "      <th>3</th>\n",
       "      <td>2</td>\n",
       "      <td>[If, you, are, looking, for, the, secret, ingredient, in, I, believe, I, have, found, it, ., I, got, this, in, addition, to, the, I, ordered, was, good, ), and, made, some, cherry, soda, ., The, flavor, is, very, medicinal, .]</td>\n",
       "    </tr>\n",
       "    <tr>\n",
       "      <th>4</th>\n",
       "      <td>5</td>\n",
       "      <td>[taffy, at, a, great, price, ., There, was, a, wide, assortment, of, yummy, taffy, ., was, very, quick, ., If, your, a, taffy, lover, ,, this, is, a, deal, .]</td>\n",
       "    </tr>\n",
       "  </tbody>\n",
       "</table>\n",
       "</div>"
      ],
      "text/plain": [
       "   Score  \\\n",
       "0      5   \n",
       "1      1   \n",
       "2      4   \n",
       "3      2   \n",
       "4      5   \n",
       "\n",
       "                                                                                                                                                                                                                                                                                                                                                                                                                                                                                                                                                  Text  \n",
       "0                                                                                                                                                                                                                                                [I, have, bought, several, of, the, canned, dog, food, products, and, have, found, them, all, to, be, of, good, quality, ., The, product, looks, more, like, a, stew, than, a, processed, meat, and, it, smells, better, ., is, finicky, and, she, appreciates, this, product, better, than, most, .]  \n",
       "1                                                                                                                                                                                                                                                                                                                                            [arrived, labeled, as, Salted, peanuts, were, actually, small, sized, unsalted, ., Not, sure, if, this, was, an, error, or, if, the, vendor, intended, to, represent, the, product, as, ``, Jumbo, '', .]  \n",
       "2  [This, is, a, confection, that, has, been, around, a, few, centuries, ., It, is, a, light, ,, pillowy, citrus, gelatin, with, nuts, -, in, this, case, And, it, is, cut, into, tiny, squares, and, then, liberally, coated, with, powdered, sugar, ., And, it, is, a, tiny, mouthful, of, heaven, ., Not, too, chewy, ,, and, very, flavorful, ., I, highly, recommend, this, yummy, treat, ., If, you, are, familiar, with, the, story, of, The, and, The, -, this, is, the, treat, that, seduces, into, selling, out, his, Brother, and, to, the]  \n",
       "3                                                                                                                                                                                                                                                                                                                   [If, you, are, looking, for, the, secret, ingredient, in, I, believe, I, have, found, it, ., I, got, this, in, addition, to, the, I, ordered, was, good, ), and, made, some, cherry, soda, ., The, flavor, is, very, medicinal, .]  \n",
       "4                                                                                                                                                                                                                                                                                                                                                                                       [taffy, at, a, great, price, ., There, was, a, wide, assortment, of, yummy, taffy, ., was, very, quick, ., If, your, a, taffy, lover, ,, this, is, a, deal, .]  "
      ]
     },
     "execution_count": 22,
     "metadata": {},
     "output_type": "execute_result"
    }
   ],
   "source": [
    "data.head()                                                                    # Look at how tokenized data looks."
   ]
  },
  {
   "cell_type": "markdown",
   "metadata": {},
   "source": [
    "###  <span style=\"font-family: Calibri; font-size:1.3 em;color:#000055\"> Stopwords Removal </span>"
   ]
  },
  {
   "cell_type": "code",
   "execution_count": 23,
   "metadata": {
    "colab": {},
    "colab_type": "code",
    "id": "zWZwuXaC-4qy"
   },
   "outputs": [],
   "source": [
    "stopwords = stopwords.words('english')\n",
    "\n",
    "customlist = ['not', \"couldn't\", 'didn', \"didn't\", 'doesn', \"doesn't\", 'hadn', \"hadn't\", 'hasn',\n",
    "        \"hasn't\", 'haven', \"haven't\", 'isn', \"isn't\", 'ma', 'mightn', \"mightn't\", 'mustn',\n",
    "        \"mustn't\", 'needn', \"needn't\", 'shan', \"shan't\", 'shouldn', \"shouldn't\", 'wasn',\n",
    "        \"wasn't\", 'weren', \"weren't\", 'won', \"won't\", 'wouldn', \"wouldn't\"]\n",
    "\n",
    "# Set custom stop-word's list as not, couldn't etc. words matter in Sentiment, so not removing them from original data.\n",
    "\n",
    "stopwords = list(set(stopwords) - set(customlist))                              "
   ]
  },
  {
   "cell_type": "code",
   "execution_count": 24,
   "metadata": {},
   "outputs": [
    {
     "name": "stdout",
     "output_type": "stream",
     "text": [
      "['did', 'be', 'now', 'through', 'am', 'm', 'hers', 'but', 'are', 'any', 'that', 'as', 'than', 'of', \"don't\", 'while', 'were', 'out', 'what', \"you're\", 'o', 'most', \"she's\", 'by', 've', 'only', 'when', 'no', 'me', 'because', 'other', 'you', 'doing', 'these', 'whom', 'both', 'very', 'why', 'been', 'just', 'ours', 'how', 'own', 's', 'our', 'at', 'themselves', 're', 'we', 'was', 'in', 'same', 'an', 'y', 'being', 'where', \"you'd\", 'there', 'don', 'after', 'has', 'to', 'this', 'with', 'aren', 'those', 'or', 'then', 'theirs', 'more', 'will', 'her', 'which', 'such', 'it', 'before', 'about', 'all', \"should've\", 'himself', 'too', 'off', 'yours', 'if', 'should', 'each', 'and', 'under', 'between', 'had', 'do', 'below', 'the', 'above', 'his', 'again', 'they', 'my', \"you've\", 'who', 'nor', 'further', 'here', 'yourselves', 'he', 'have', 'yourself', 'against', \"you'll\", 'its', \"it's\", 'myself', \"that'll\", 'd', 'i', 'once', 'is', 'from', 'couldn', 'ourselves', 'their', 'so', 'during', 'him', 'down', 'can', 'some', 'll', \"aren't\", 'into', 'your', 'itself', 'for', 'ain', 'on', 'few', 'over', 't', 'she', 'them', 'until', 'having', 'herself', 'up', 'does', 'a']\n"
     ]
    }
   ],
   "source": [
    "print(stopwords)"
   ]
  },
  {
   "cell_type": "markdown",
   "metadata": {},
   "source": [
    "###  <span style=\"font-family: Calibri; font-size:1.3 em;color:#000055\"> Normalize Text </span>"
   ]
  },
  {
   "cell_type": "code",
   "execution_count": 25,
   "metadata": {
    "colab": {
     "base_uri": "https://localhost:8080/",
     "height": 221
    },
    "colab_type": "code",
    "id": "JZjCxefg7Et3",
    "outputId": "3290db44-96e0-476e-a547-9e64f2dd98a5"
   },
   "outputs": [
    {
     "data": {
      "text/html": [
       "<div>\n",
       "<style scoped>\n",
       "    .dataframe tbody tr th:only-of-type {\n",
       "        vertical-align: middle;\n",
       "    }\n",
       "\n",
       "    .dataframe tbody tr th {\n",
       "        vertical-align: top;\n",
       "    }\n",
       "\n",
       "    .dataframe thead th {\n",
       "        text-align: right;\n",
       "    }\n",
       "</style>\n",
       "<table border=\"1\" class=\"dataframe\">\n",
       "  <thead>\n",
       "    <tr style=\"text-align: right;\">\n",
       "      <th></th>\n",
       "      <th>Score</th>\n",
       "      <th>Text</th>\n",
       "    </tr>\n",
       "  </thead>\n",
       "  <tbody>\n",
       "    <tr>\n",
       "      <th>0</th>\n",
       "      <td>5</td>\n",
       "      <td>buy several can dog food products find good quality product look like stew process meat smell better finicky appreciate product better</td>\n",
       "    </tr>\n",
       "    <tr>\n",
       "      <th>1</th>\n",
       "      <td>1</td>\n",
       "      <td>arrive label salt peanuts actually small size unsalted not sure error vendor intend represent product jumbo</td>\n",
       "    </tr>\n",
       "    <tr>\n",
       "      <th>2</th>\n",
       "      <td>4</td>\n",
       "      <td>confection around centuries light pillowy citrus gelatin nut case cut tiny square liberally coat powder sugar tiny mouthful heaven not chewy flavorful highly recommend yummy treat familiar story treat seduce sell brother</td>\n",
       "    </tr>\n",
       "    <tr>\n",
       "      <th>3</th>\n",
       "      <td>2</td>\n",
       "      <td>look secret ingredient believe find get addition order good make cherry soda flavor medicinal</td>\n",
       "    </tr>\n",
       "    <tr>\n",
       "      <th>4</th>\n",
       "      <td>5</td>\n",
       "      <td>taffy great price wide assortment yummy taffy quick taffy lover deal</td>\n",
       "    </tr>\n",
       "  </tbody>\n",
       "</table>\n",
       "</div>"
      ],
      "text/plain": [
       "   Score  \\\n",
       "0      5   \n",
       "1      1   \n",
       "2      4   \n",
       "3      2   \n",
       "4      5   \n",
       "\n",
       "                                                                                                                                                                                                                           Text  \n",
       "0                                                                                        buy several can dog food products find good quality product look like stew process meat smell better finicky appreciate product better  \n",
       "1                                                                                                                   arrive label salt peanuts actually small size unsalted not sure error vendor intend represent product jumbo  \n",
       "2  confection around centuries light pillowy citrus gelatin nut case cut tiny square liberally coat powder sugar tiny mouthful heaven not chewy flavorful highly recommend yummy treat familiar story treat seduce sell brother  \n",
       "3                                                                                                                                 look secret ingredient believe find get addition order good make cherry soda flavor medicinal  \n",
       "4                                                                                                                                                          taffy great price wide assortment yummy taffy quick taffy lover deal  "
      ]
     },
     "execution_count": 25,
     "metadata": {},
     "output_type": "execute_result"
    }
   ],
   "source": [
    "lemmatizer = WordNetLemmatizer()\n",
    "\n",
    "def remove_non_ascii(words):\n",
    "    \"\"\"Remove non-ASCII characters from list of tokenized words\"\"\"\n",
    "    new_words = []\n",
    "    for word in words:\n",
    "        new_word = unicodedata.normalize('NFKD', word).encode('ascii', 'ignore').decode('utf-8', 'ignore')\n",
    "        new_words.append(new_word)\n",
    "    return new_words\n",
    "\n",
    "def to_lowercase(words):\n",
    "    \"\"\"Convert all characters to lowercase from list of tokenized words\"\"\"\n",
    "    new_words = []\n",
    "    for word in words:\n",
    "        new_word = word.lower()\n",
    "        new_words.append(new_word)\n",
    "    return new_words\n",
    "\n",
    "def remove_punctuation(words):\n",
    "    \"\"\"Remove punctuation from list of tokenized words\"\"\"\n",
    "    new_words = []\n",
    "    for word in words:\n",
    "        new_word = re.sub(r'[^\\w\\s]', '', word)\n",
    "        if new_word != '':\n",
    "            new_words.append(new_word)\n",
    "    return new_words\n",
    "\n",
    "def remove_stopwords(words):\n",
    "    \"\"\"Remove stop words from list of tokenized words\"\"\"\n",
    "    new_words = []\n",
    "    for word in words:\n",
    "        if word not in stopwords:\n",
    "            new_words.append(word)\n",
    "    return new_words\n",
    "\n",
    "def lemmatize_list(words):\n",
    "    new_words = []\n",
    "    for word in words:\n",
    "      new_words.append(lemmatizer.lemmatize(word, pos='v'))\n",
    "    return new_words\n",
    "\n",
    "def normalize(words):\n",
    "    words = remove_non_ascii(words)\n",
    "    words = to_lowercase(words)\n",
    "    words = remove_punctuation(words)\n",
    "    words = remove_stopwords(words)\n",
    "    words = lemmatize_list(words)\n",
    "    return ' '.join(words)\n",
    "\n",
    "data['Text'] = data.apply(lambda row: normalize(row['Text']), axis=1)\n",
    "data.head()"
   ]
  },
  {
   "cell_type": "markdown",
   "metadata": {},
   "source": [
    "###  <span style=\"font-family: Calibri; font-size:1.3 em;color:#000055\"> Model Development: Count Vectorize </span>\n",
    "\n",
    "Count vectorize uses an array of texts. Note that the text above is present in form of a string and not tokens. When such texts are passed to the data, the text has to be tokenized. Hence one can use the ``tokenizer`` option or the ``token_pattern`` option to tokenize the text. The deafault token pattern removes and extracts words based on white space and punctuations.\n",
    "\n",
    "``Max Features:`` If not None, build a vocabulary that only consider the top max_features ordered by term frequency across the corpus."
   ]
  },
  {
   "cell_type": "code",
   "execution_count": 26,
   "metadata": {
    "colab": {},
    "colab_type": "code",
    "id": "9JqH_4JWOurH"
   },
   "outputs": [],
   "source": [
    "# Vectorization (Convert text data to numbers).\n",
    "from sklearn.feature_extraction.text import CountVectorizer\n",
    "\n",
    "vectorizer = CountVectorizer(max_features=2000, ngram_range=(1,2))                # Keep only 1000 features as number of features will increase the processing time.\n",
    "\n",
    "data_features = vectorizer.fit_transform(data['Text'])\n",
    "\n",
    "data_feature = data_features.toarray()                        # Convert the data features to array."
   ]
  },
  {
   "cell_type": "code",
   "execution_count": 27,
   "metadata": {},
   "outputs": [
    {
     "data": {
      "text/plain": [
       "array([[0, 0, 0, ..., 0, 0, 0],\n",
       "       [0, 0, 0, ..., 0, 0, 0],\n",
       "       [0, 0, 0, ..., 0, 1, 0],\n",
       "       ...,\n",
       "       [0, 0, 0, ..., 0, 0, 0],\n",
       "       [0, 0, 0, ..., 0, 0, 0],\n",
       "       [0, 0, 0, ..., 0, 0, 0]], dtype=int64)"
      ]
     },
     "execution_count": 27,
     "metadata": {},
     "output_type": "execute_result"
    }
   ],
   "source": [
    "data_feature"
   ]
  },
  {
   "cell_type": "code",
   "execution_count": 28,
   "metadata": {},
   "outputs": [
    {
     "name": "stdout",
     "output_type": "stream",
     "text": [
      "{'buy': 198, 'several': 1552, 'can': 217, 'dog': 465, 'food': 641, 'products': 1384, 'find': 596, 'good': 710, 'quality': 1400, 'product': 1376, 'look': 977, 'like': 934, 'process': 1374, 'meat': 1039, 'smell': 1591, 'better': 139, 'appreciate': 79, 'dog food': 466, 'find good': 597, 'good quality': 719, 'quality product': 1401, 'look like': 979, 'arrive': 83, 'label': 899, 'salt': 1509, 'peanuts': 1288, 'actually': 10, 'small': 1587, 'size': 1579, 'not': 1121, 'sure': 1704, 'vendor': 1887, 'not sure': 1177, 'around': 82, 'light': 931, 'citrus': 285, 'nut': 1194, 'case': 235, 'cut': 395, 'tiny': 1794, 'square': 1640, 'coat': 293, 'powder': 1348, 'sugar': 1688, 'chewy': 262, 'flavorful': 630, 'highly': 800, 'recommend': 1446, 'yummy': 1998, 'treat': 1820, 'sell': 1540, 'brother': 186, 'highly recommend': 801, 'ingredient': 854, 'believe': 130, 'get': 685, 'addition': 16, 'order': 1241, 'make': 1010, 'cherry': 260, 'soda': 1601, 'flavor': 619, 'great': 737, 'price': 1365, 'quick': 1404, 'lover': 998, 'deal': 409, 'great price': 742, 'hair': 763, 'five': 616, 'pound': 1346, 'bag': 104, 'enjoyable': 520, 'many': 1024, 'beer': 128, 'peppermint': 1292, 'grape': 732, 'etc': 526, 'complaint': 326, 'bite': 149, 'much': 1084, 'piece': 1309, 'particular': 1277, 'favorites': 580, 'kid': 889, 'husband': 833, 'last': 903, 'two': 1848, 'weeks': 1923, 'would': 1963, 'brand': 176, 'delightful': 426, 'would recommend': 1979, 'soft': 1604, 'candy': 220, 'individually': 851, 'wrap': 1983, 'well': 1926, 'none': 1116, 'stick': 1655, 'together': 1800, 'happen': 768, 'expensive': 550, 'version': 1888, 'serve': 1547, 'party': 1279, 'everyone': 539, 'love': 984, 'great flavor': 740, 'amaze': 57, 'definitely': 419, 'satisfy': 1517, 'would definitely': 1965, 'definitely recommend': 422, 'right': 1487, 'mostly': 1080, 'cat': 236, 'eat': 499, 'grass': 734, 'healthy': 784, 'also': 43, 'require': 1470, 'amount': 61, 'every': 534, 'feed': 583, 'know': 896, 'unique': 1855, 'combination': 313, 'ingredients': 856, 'flavour': 631, 'hot': 817, 'sauce': 1518, 'one': 1217, 'kind': 892, 'pick': 1304, 'bottle': 171, 'trip': 1823, 'bring': 185, 'back': 101, 'home': 807, 'us': 1862, 'totally': 1809, 'blow': 159, 'away': 96, 'realize': 1425, 'simply': 1570, 'could': 358, 'anywhere': 72, 'internet': 865, 'mean': 1037, 'really': 1426, 'want': 1903, 'burn': 195, 'grab': 727, 'taste': 1731, 'never': 1105, 'use': 1863, 'personal': 1300, 'incredible': 847, 'service': 1549, 'not know': 1151, 'hot sauce': 820, 'make one': 1015, 'could not': 361, 'not find': 1145, 'really love': 1431, 'not want': 1186, 'need': 1103, 'lose': 982, 'weight': 1924, 'put': 1399, 'floor': 633, 'guy': 761, 'higher': 799, 'sit': 1576, 'go': 703, 'stale': 1643, 'ounce': 1250, 'week': 1922, 'years': 1989, 'new': 1109, 'shape': 1555, 'different': 443, 'try': 1830, 'first': 608, 'bowl': 173, 'full': 671, 'touch': 1810, 'notice': 1192, 'similar': 1568, 'review': 1477, 'formula': 649, 'change': 251, 'past': 1281, 'come': 315, 'pack': 1262, 'fresh': 658, 'delicious': 423, 'good flavor': 715, 'son': 1613, 'daughter': 405, 'shipment': 1560, 'six': 1578, 'hit': 803, 'spot': 1636, 'exactly': 543, 'expect': 548, 'package': 1263, 'strawberry': 1669, 'daughter love': 406, 'would expect': 1967, 'watch': 1911, 'sweet': 1708, 'stay': 1651, 'take': 1725, 'time': 1785, 'not sweet': 1178, 'purchase': 1395, 'share': 1556, 'others': 1248, 'enjoy': 519, 'favorite': 577, 'firm': 607, 'company': 321, 'keep': 884, 'dry': 489, 'cool': 352, 'place': 1312, 'fridge': 660, 'accord': 5, 'ever': 530, 'measure': 1038, 'become': 125, 'also make': 47, 'not recommend': 1171, 'deliver': 427, 'fast': 572, 'reasonable': 1436, 'unable': 1852, 'store': 1664, 'perfect': 1296, 'reasonable price': 1437, 'addict': 15, 'live': 968, 'always': 56, 'tasty': 1746, 'timely': 1792, 'not get': 1146, 'currently': 390, 'apparently': 74, 'worth': 1959, 'href': 827, 'well worth': 1928, 'worth price': 1961, 'href ounce': 828, 'ounce pack': 1251, 'remember': 1463, 'drop': 488, 'still': 1657, 'disappoint': 453, 'product not': 1381, 'not disappoint': 1137, 'crave': 370, 'miss': 1065, 'visit': 1892, 'someone': 1607, 'stock': 1661, 'say': 1523, 'often': 1207, 'able': 0, 'go back': 704, 'receive': 1441, 'advertise': 22, 'red': 1452, 'plan': 1314, 'would never': 1974, 'never buy': 1106, 'glad': 697, 'carry': 234, 'hard': 771, 'elsewhere': 512, 'door': 472, 'hard time': 773, 'time find': 1786, 'intake': 862, 'father': 575, 'choose': 280, 'limit': 959, 'tooth': 1805, 'guess': 757, 'sugarfree': 1692, 'pretty': 1359, 'free': 652, 'impress': 842, 'dark': 400, 'chocolate': 272, 'office': 1206, 'instead': 860, 'snack': 1597, 'sugary': 1693, 'pretty much': 1361, 'dark chocolate': 401, 'huge': 829, 'coffee': 297, 'fan': 568, 'mother': 1081, 'little': 966, 'machine': 1005, 'talk': 1726, 'usually': 1871, 'drinker': 484, 'super': 1696, 'easy': 496, 'prepare': 1353, 'less': 921, 'minute': 1063, 'water': 1912, 'heat': 789, 'anyone': 67, 'one like': 1223, 'easy use': 498, 'really good': 1428, 'recommend anyone': 1447, 'good price': 717, 'get one': 688, 'offer': 1205, 'thank': 1764, 'price great': 1366, 'great taste': 745, 'must': 1093, 'oatmeal': 1199, 'three': 1778, 'minutes': 1064, 'fact': 561, 'however': 826, 'even': 527, 'best': 133, 'instant': 858, 'near': 1101, 'organic': 1245, 'varieties': 1878, 'variety': 1879, 'microwave': 1052, 'add': 12, 'boil': 163, 'convenient': 348, 'actual': 9, 'cane': 221, 'high': 796, 'fructose': 665, 'corn': 353, 'syrup': 1718, 'help': 791, 'decide': 414, 'stuff': 1678, 'thing': 1768, 'though': 1776, 'plus': 1325, 'creamy': 374, 'without': 1947, 'gum': 759, 'convenience': 347, 'maybe': 1034, 'thick': 1765, 'even better': 528, 'brand try': 178, 'variety pack': 1880, 'taste good': 1736, 'high fructose': 797, 'fructose corn': 666, 'corn syrup': 354, 'buy product': 207, 'taste better': 1732, 'better not': 140, 'one thing': 1225, 'thing not': 1769, 'not like': 1154, 'sweetness': 1715, 'doctor': 464, 'form': 648, 'cold': 311, 'morning': 1078, 'apple': 77, 'cinnamon': 284, 'brown': 187, 'regular': 1459, 'tell': 1754, 'apart': 73, 'time make': 1787, 'brown sugar': 189, 'hold': 804, 'texture': 1762, 'excellent': 545, 'meal': 1035, 'may': 1032, 'longer': 976, 'close': 292, 'second': 1534, 'flavor good': 622, 'oats': 1200, 'think': 1772, 'give': 693, 'folks': 638, 'easily': 495, 'fiber': 590, 'think would': 1774, 'would give': 1969, 'try find': 1833, 'not make': 1156, 'celiac': 242, 'disease': 457, 'almost': 38, 'half': 764, 'grocery': 752, 'health': 780, 'health food': 782, 'food store': 644, 'else': 511, 'cup': 385, 'milk': 1057, 'something': 1608, 'chance': 250, 'end': 515, 'wife': 1939, 'happy': 769, 'every morning': 536, 'like flavor': 940, 'cents': 244, 'per': 1293, 'understand': 1853, 'earth': 493, 'terrific': 1760, 'follow': 639, 'tire': 1796, 'pot': 1340, 'empty': 514, 'packet': 1265, 'pour': 1347, 'extremely': 557, 'cheap': 253, 'taste great': 1737, 'not buy': 1133, 'taste really': 1743, 'whether': 1933, 'raw': 1418, 'state': 1650, 'cook': 349, 'hour': 822, 'do': 463, 'available': 92, 'allow': 36, 'experience': 551, 'difference': 442, 'personally': 1301, 'thicker': 1766, 'body': 162, 'top': 1806, 'tend': 1756, 'experiment': 552, 'handle': 766, 'bad': 103, 'consider': 334, 'lot': 983, 'box': 174, 'whole': 1937, 'family': 566, 'single': 1573, 'person': 1299, 'alone': 39, 'different flavor': 445, 'whole family': 1938, 'save': 1520, 'great product': 743, 'product taste': 1382, 'choice': 277, 'overly': 1257, 'breakfast': 181, 'regularly': 1460, 'really like': 1430, 'find not': 600, 'taste much': 1740, 'much better': 1085, 'grocery store': 753, 'good thing': 722, 'seem': 1537, 'supermarket': 1698, 'somewhat': 1612, 'quite': 1407, 'either': 510, 'pass': 1280, 'probably': 1370, 'not quite': 1169, 'probably not': 1371, 'directions': 451, 'since': 1571, 'would not': 1975, 'see': 1535, 'good not': 716, 'not see': 1173, 'fine': 604, 'sugar add': 1689, 'quick easy': 1405, 'brand not': 177, 'big': 143, 'nothing': 1191, 'carbs': 228, 'money': 1073, 'least': 916, 'way': 1916, 'not good': 1149, 'mix': 1067, 'seller': 1541, 'yet': 1994, 'mouth': 1082, 'forever': 646, 'nice': 1113, 'well not': 1927, 'along': 40, 'staple': 1646, 'beverage': 141, 'glass': 699, 'nose': 1120, 'run': 1500, 'already': 42, 'work': 1952, 'people': 1290, 'especially': 524, 'content': 343, 'shake': 1554, 'spice': 1629, 'important': 840, 'wash': 1908, 'hand': 765, 'spicy': 1630, 'foods': 645, 'doubt': 474, 'roast': 1492, 'popcorn': 1332, 'popper': 1333, 'outside': 1253, 'course': 364, 'bean': 121, 'distinct': 462, 'medium': 1041, 'slightly': 1584, 'result': 1475, 'aroma': 81, 'strong': 1672, 'smooth': 1595, 'every time': 537, 'large': 901, 'iron': 867, 'pan': 1269, 'grill': 749, 'wonderful': 1949, 'bitter': 151, 'aftertaste': 27, 'occasion': 1202, 'send': 1542, 'friends': 662, 'like much': 946, 'awesome': 97, 'indicate': 849, 'enough': 521, 'trick': 1822, 'local': 970, 'much less': 1087, 'less expensive': 922, 'local store': 972, 'everything': 540, 'family love': 567, 'chocolates': 276, 'plenty': 1323, 'ship': 1558, 'online': 1230, 'cheaper': 254, 'days': 408, 'not eat': 1139, 'rid': 1486, 'effective': 508, 'world': 1955, 'tablets': 1723, 'drink': 478, 'rather': 1415, 'salty': 1512, 'refresh': 1454, 'tablet': 1722, 'whenever': 1932, 'not overly': 1165, 'never get': 1107, 'product great': 1379, 'recommend product': 1448, 'source': 1622, 'long': 974, 'grapefruit': 733, 'slight': 1583, 'line': 960, 'try flavor': 1834, 'flavor really': 627, 'prevent': 1362, 'middle': 1053, 'set': 1550, 'low': 1000, 'carb': 224, 'diet': 441, 'ago': 29, 'start': 1648, 'heart': 788, 'plain': 1313, 'research': 1471, 'might': 1054, 'issue': 868, 'option': 1235, 'load': 969, 'alternative': 51, 'zero': 1999, 'day': 407, 'across': 8, 'shop': 1562, 'problem': 1372, 'problems': 1373, 'years ago': 1990, 'many years': 1026, 'drink not': 481, 'hint': 802, 'unfortunately': 1854, 'licorice': 927, 'consume': 338, 'various': 1881, 'nutrition': 1196, 'appeal': 75, 'terrible': 1759, 'sip': 1575, 'flavor not': 625, 'not take': 1179, 'like taste': 955, 'flavor one': 626, 'taste not': 1741, 'ok': 1211, 'wrong': 1986, 'baby': 99, 'complaints': 327, 'gain': 677, 'bear': 122, 'face': 560, 'type': 1849, 'ball': 109, 'whatever': 1930, 'far': 570, 'concern': 332, 'deep': 417, 'things': 1770, 'high quality': 798, 'gummy': 760, 'area': 80, 'lbs': 911, 'bigger': 145, 'sour': 1620, 'kick': 888, 'another': 64, 'opinion': 1233, 'freeze': 654, 'hard find': 772, 'little bite': 967, 'pretty good': 1360, 'raspberry': 1412, 'directly': 452, 'website': 1920, 'dinner': 449, 'later': 906, 'guests': 758, 'best ever': 135, 'ever taste': 532, 'good taste': 721, 'sweetener': 1712, 'short': 1563, 'digest': 447, 'gas': 681, 'learn': 915, 'fell': 587, 'side': 1566, 'effect': 507, 'unlike': 1857, 'anything': 68, 'felt': 588, 'unpleasant': 1858, 'calorie': 214, 'stop': 1663, 'year': 1987, 'market': 1029, 'wonder': 1948, 'next': 1111, 'bottom': 172, 'read': 1421, 'goodness': 724, 'reaction': 1420, 'low calorie': 1001, 'would eat': 1966, 'like not': 947, 'okay': 1212, 'not go': 1148, 'tea': 1747, 'waste': 1909, 'buck': 191, 'solid': 1605, 'melt': 1045, 'leave': 917, 'pantry': 1273, 'open': 1231, 'room': 1497, 'break': 180, 'ever since': 531, 'not order': 1164, 'agree': 30, 'reviewer': 1479, 'summer': 1695, 'ice': 834, 'warm': 1906, 'items': 871, 'different brand': 444, 'berry': 132, 'winter': 1942, 'crisp': 377, 'know not': 897, 'sweet taste': 1710, 'fun': 674, 'girl': 692, 'gift': 690, 'age': 28, 'love much': 990, 'let': 923, 'kinds': 893, 'fat': 574, 'honestly': 810, 'hate': 777, 'manufacture': 1022, 'cream': 372, 'idea': 837, 'creamer': 373, 'sweeter': 1714, 'dissolve': 461, 'play': 1318, 'heavy': 790, 'rich': 1484, 'cocoa': 294, 'vanilla': 1874, 'batch': 118, 'fake': 564, 'jelly': 874, 'jar': 873, 'blend': 157, 'settle': 1551, 'oil': 1209, 'mention': 1046, 'main': 1007, 'reason': 1435, 'use make': 1866, 'really not': 1432, 'not think': 1182, 'think good': 1773, 'water not': 1913, 'not problem': 1167, 'vanilla bean': 1875, 'small amount': 1588, 'also use': 50, 'sugar not': 1691, 'get good': 687, 'not use': 1184, 'not add': 1123, 'flavor would': 629, 'would make': 1973, 'make great': 1014, 'work great': 1953, 'increase': 846, 'rice': 1482, 'potato': 1342, 'natural': 1097, 'bed': 126, 'night': 1115, 'scratch': 1528, 'soon': 1615, 'choices': 278, 'pet': 1302, 'allergies': 34, 'tummy': 1843, 'dog love': 468, 'love food': 988, 'food allergies': 642, 'free ship': 653, 'test': 1761, 'allergic': 33, 'finally': 594, 'pain': 1268, 'finally find': 595, 'vet': 1889, 'awful': 98, 'allergy': 35, 'hope': 814, 'normally': 1119, 'stomach': 1662, 'could find': 359, 'seem like': 1538, 'like better': 935, 'real': 1424, 'consistency': 335, 'mom': 1072, 'ask': 88, 'good product': 718, 'standard': 1645, 'switch': 1717, 'due': 490, 'couple': 363, 'balance': 108, 'fee': 582, 'old': 1213, 'puppy': 1394, 'hardly': 775, 'sick': 1565, 'year old': 1988, 'picky': 1306, 'meet': 1043, 'multiple': 1092, 'wet': 1929, 'figure': 591, 'fish': 613, 'surprise': 1706, 'pet store': 1303, 'please': 1322, 'grain': 728, 'possible': 1338, 'helpful': 792, 'kibble': 887, 'dog foods': 467, 'healthier': 783, 'earlier': 491, 'despite': 436, 'cost': 357, 'normal': 1118, 'serve size': 1548, 'since not': 1572, 'last long': 904, 'crazy': 371, 'preservatives': 1355, 'reduce': 1453, 'food not': 643, 'skin': 1580, 'previous': 1363, 'sensitive': 1544, 'additives': 18, 'commercial': 319, 'chicken': 265, 'beef': 127, 'hat': 776, 'count': 362, 'ways': 1918, 'item': 870, 'ship cost': 1559, 'parent': 1275, 'refund': 1456, 'crust': 383, 'fill': 592, 'love not': 991, 'absolutely': 3, 'customer': 392, 'pie': 1308, 'slice': 1582, 'also love': 46, 'sprinkle': 1639, 'term': 1758, 'delivery': 428, 'not expect': 1142, 'pickle': 1305, 'saw': 1522, 'discount': 455, 'clean': 289, 'ones': 1228, 'fantastic': 569, 'bonus': 167, 'garlic': 680, 'household': 825, 'one not': 1224, 'recently': 1443, 'friend': 661, 'introduce': 866, 'exact': 542, 'not believe': 1128, 'calories': 215, 'discover': 456, 'anyway': 71, 'recall': 1440, 'forward': 650, 'front': 663, 'look forward': 978, 'eat not': 500, 'calories per': 216, 'throughout': 1780, 'drink tea': 483, 'long time': 975, 'time use': 1791, 'not available': 1125, 'drink coffee': 479, 'coffee taste': 308, 'improve': 843, 'replace': 1467, 'habit': 762, 'green': 747, 'benefit': 131, 'teas': 1751, 'beautiful': 124, 'color': 312, 'although': 53, 'show': 1564, 'page': 1267, 'naturally': 1099, 'sometimes': 1611, 'rip': 1490, 'tea bag': 1748, 'every day': 535, 'coffee not': 307, 'try many': 1837, 'green tea': 748, 'tea not': 1749, 'health benefit': 781, 'one best': 1219, 'best taste': 137, 'hot water': 821, 'charge': 252, 'depend': 430, 'fix': 617, 'everyday': 538, 'love love': 989, 'love tea': 995, 'italian': 869, 'cookies': 351, 'espresso': 525, 'use buy': 1864, 'spend': 1628, 'simple': 1569, 'recent': 1442, 'dip': 450, 'delicious not': 424, 'open bag': 1232, 'hear': 787, 'older': 1214, 'junk': 881, 'refuse': 1457, 'alternatives': 52, 'vegetarian': 1885, 'update': 1859, 'months': 1076, 'star': 1647, 'right away': 1489, 'cat food': 237, 'cat not': 239, 'let us': 924, 'garbage': 679, 'love taste': 994, 'step': 1653, 'immediately': 839, 'best thing': 138, 'cat love': 238, 'trouble': 1824, 'loose': 981, 'sorry': 1616, 'control': 346, 'worse': 1957, 'solution': 1606, 'wish': 1943, 'premium': 1352, 'manufacturer': 1023, 'begin': 129, 'replacement': 1468, 'sample': 1513, 'usual': 1870, 'wish would': 1945, 'can food': 218, 'recommend try': 1449, 'prefer': 1350, 'part': 1276, 'eye': 558, 'clear': 290, 'find store': 603, 'teeth': 1753, 'throw': 1781, 'fit': 614, 'book': 168, 'love product': 992, 'noodles': 1117, 'hours': 823, 'amazon': 58, 'decent': 413, 'soup': 1619, 'imagine': 838, 'typically': 1851, 'kill': 891, 'bother': 170, 'not enough': 1140, 'sale': 1506, 'rarely': 1411, 'crunch': 380, 'local grocery': 971, 'great snack': 744, 'one favorite': 1221, 'favorite flavor': 579, 'one favorites': 1222, 'anymore': 66, 'bland': 156, 'comparison': 324, 'pay': 1284, 'love flavor': 987, 'not bad': 1126, 'ginger': 691, 'like real': 951, 'compare': 323, 'travel': 1819, 'moist': 1070, 'try brand': 1831, 'worth money': 1960, 'acid': 6, 'eat one': 501, 'easier': 494, 'entire': 522, 'one bag': 1218, 'black': 154, 'barely': 112, 'subscribe': 1680, 'subscribe save': 1681, 'messy': 1048, 'children': 267, 'chew': 261, 'sticky': 1656, 'gross': 754, 'car': 222, 'mistake': 1066, 'appear': 76, 'certain': 246, 'match': 1030, 'get better': 686, 'salsa': 1508, 'comparable': 322, 'mild': 1055, 'reach': 1419, 'computer': 330, 'not worth': 1189, 'remind': 1464, 'pumpkin': 1392, 'outstanding': 1254, 'fry': 670, 'fabulous': 559, 'marinade': 1027, 'bake': 107, 'oven': 1255, 'rave': 1417, 'love use': 996, 'pork': 1335, 'bulk': 193, 'easy make': 497, 'make taste': 1018, 'buy bulk': 200, 'decide try': 416, 'try one': 1839, 'actually taste': 11, 'taste pretty': 1742, 'truly': 1828, 'good buy': 711, 'healthy alternative': 785, 'still taste': 1659, 'purchase product': 1396, 'tomato': 1802, 'recipe': 1444, 'town': 1812, 'taste like': 1738, 'sea': 1529, 'raise': 1409, 'blood': 158, 'pressure': 1358, 'sea salt': 1530, 'table': 1720, 'expiration': 553, 'date': 404, 'tuna': 1844, 'reorder': 1466, 'month': 1074, 'job': 876, 'expiration date': 554, 'not look': 1155, 'typical': 1850, 'pouch': 1345, 'season': 1533, 'pleasant': 1319, 'would try': 1981, 'shoot': 1561, 'punch': 1393, 'hop': 813, 'like good': 942, 'dress': 477, 'power': 1349, 'seriously': 1546, 'tasteless': 1745, 'special': 1627, 'bar': 111, 'cookie': 350, 'combine': 314, 'something else': 1609, 'molasses': 1071, 'forget': 647, 'dessert': 437, 'try not': 1838, 'try make': 1836, 'recipes': 1445, 'soak': 1600, 'orange': 1237, 'shelf': 1557, 'damage': 399, 'sign': 1567, 'return': 1476, 'not even': 1141, 'throw away': 1782, 'smaller': 1589, 'banana': 110, 'good stuff': 720, 'alot': 41, 'package not': 1264, 'not great': 1150, 'larger': 902, 'caffeine': 209, 'french': 656, 'hide': 795, 'check': 255, 'love stuff': 993, 'instant coffee': 859, 'wait': 1899, 'egg': 509, 'fair': 562, 'cake': 210, 'condition': 333, 'white': 1936, 'die': 440, 'inside': 857, 'not wait': 1185, 'sour cream': 1621, 'grow': 756, 'lemon': 918, 'juice': 877, 'feel': 584, 'stronger': 1677, 'name': 1095, 'unless': 1856, 'feel like': 586, 'like product': 950, 'not strong': 1176, 'supplement': 1700, 'kitchen': 895, 'continue': 344, 'continue buy': 345, 'dish': 459, 'nearly': 1102, 'not need': 1160, 'concentrate': 331, 'handy': 767, 'squeeze': 1641, 'lemons': 920, 'juice concentrate': 878, 'odd': 1204, 'perhaps': 1298, 'wish could': 1944, 'relax': 1461, 'ready': 1423, 'drive': 487, 'dollar': 470, 'buy case': 201, 'great not': 741, 'buy not': 204, 'describe': 431, 'sleep': 1581, 'fall': 565, 'wake': 1900, 'deserve': 433, 'layer': 908, 'bubble': 190, 'extra': 555, 'move': 1083, 'would probably': 1977, 'product arrive': 1377, 'chip': 269, 'glutenfree': 702, 'flour': 634, 'protein': 1388, 'level': 925, 'chocolate chip': 273, 'bread': 179, 'locally': 973, 'find locally': 599, 'style': 1679, 'fruit': 667, 'base': 114, 'packets': 1266, 'tart': 1730, 'admit': 19, 'remove': 1465, 'thin': 1767, 'muffin': 1089, 'tin': 1793, 'pop': 1330, 'creme': 376, 'tofu': 1799, 'work well': 1954, 'within': 1946, 'strong not': 1676, 'buy coffee': 202, 'much cheaper': 1086, 'overwhelm': 1259, 'pricey': 1369, 'try something': 1842, 'worry': 1956, 'coffee great': 304, 'coffees': 310, 'pure': 1397, 'try different': 1832, 'want try': 1905, 'energy': 516, 'sort': 1617, 'plastic': 1316, 'container': 341, 'salads': 1505, 'lunch': 1004, 'breath': 182, 'value': 1873, 'mint': 1062, 'sugar free': 1690, 'would highly': 1970, 'mine': 1060, 'dollars': 471, 'right amount': 1488, 'box not': 175, 'like regular': 952, 'careful': 231, 'chemicals': 259, 'pocket': 1326, 'supply': 1701, 'buy one': 205, 'containers': 342, 'contain': 340, 'cereal': 245, 'honest': 809, 'could get': 360, 'come back': 317, 'like say': 953, 'not able': 1122, 'still not': 1658, 'write': 1984, 'blue': 160, 'write review': 1985, 'scent': 1526, 'favor': 576, 'common': 320, 'turn': 1846, 'pull': 1391, 'cute': 396, 'four': 651, 'point': 1328, 'lower': 1002, 'speak': 1626, 'consistent': 336, 'ten': 1755, 'lay': 907, 'fairly': 563, 'early': 492, 'certainly': 247, 'life': 930, 'give try': 696, 'slowly': 1586, 'mess': 1047, 'upset': 1861, 'customers': 394, 'suffer': 1687, 'affect': 23, 'animal': 63, 'care': 230, 'horrible': 815, 'not care': 1134, 'olive': 1215, 'order case': 1242, 'first time': 611, 'try several': 1841, 'subtle': 1684, 'cheese': 257, 'description': 432, 'grams': 729, 'ounces': 1252, 'edible': 506, 'milder': 1056, 'mind': 1059, 'vary': 1882, 'veggies': 1886, 'vegetable': 1883, 'strip': 1671, 'stir': 1660, 'onion': 1229, 'chop': 281, 'would buy': 1964, 'plastic bag': 1317, 'olive oil': 1216, 'next time': 1112, 'lb': 909, 'rest': 1473, 'current': 389, 'afternoon': 26, 'months ago': 1077, 'store buy': 1665, 'black tea': 155, 'note': 1190, 'search': 1532, 'bill': 146, 'vs': 1897, 'full body': 672, 'not bitter': 1131, 'fit bill': 615, 'herbal': 793, 'affordable': 24, 'particularly': 1278, 'overpower': 1258, 'complete': 328, 'finish': 606, 'interest': 864, 'oz': 1260, 'mug': 1091, 'steep': 1652, 'come across': 316, 'good cup': 713, 'literally': 965, 'instructions': 861, 'peas': 1289, 'carrots': 233, 'pepper': 1291, 'like little': 943, 'worst': 1958, 'one time': 1226, 'rock': 1495, 'hook': 812, 'one two': 1227, 'get use': 689, 'chunk': 283, 'matter': 1031, 'include': 845, 'mg': 1050, 'like one': 948, 'not overpower': 1166, 'cheddar': 256, 'flat': 618, 'cracker': 368, 'except': 546, 'disappointment': 454, 'crackers': 369, 'buy store': 208, 'nutrients': 1195, 'oppose': 1234, 'train': 1815, 'recommendation': 1450, 'head': 779, 'consistently': 337, 'not say': 1172, 'lb bag': 910, 'would like': 1971, 'remain': 1462, 'happy find': 770, 'pudding': 1390, 'great way': 746, 'way get': 1917, 'negative': 1104, 'list': 963, 'equal': 523, 'mornings': 1079, 'press': 1357, 'ice tea': 836, 'robust': 1494, 'brew': 183, 'weak': 1919, 'not seem': 1174, 'bag not': 106, 'not much': 1159, 'range': 1410, 'answer': 65, 'question': 1403, 'via': 1890, 'email': 513, 'toss': 1807, 'sampler': 1514, 'daily': 397, 'basis': 117, 'wow': 1982, 'blueberry': 161, 'smoothies': 1596, 'juices': 880, 'economical': 504, 'excite': 547, 'drink taste': 482, 'chemical': 258, 'boost': 169, 'nasty': 1096, 'use product': 1869, 'not leave': 1153, 'cup coffee': 386, 'save money': 1521, 'yes': 1993, 'avoid': 94, 'bc': 120, 'andor': 62, 'bunch': 194, 'energy drink': 517, 'make feel': 1012, 'peanut': 1286, 'butter': 197, 'definately': 418, 'although not': 54, 'peanut butter': 1287, 'lid': 928, 'call': 213, 'report': 1469, 'lack': 900, 'read review': 1422, 'customer service': 393, 'coconut': 295, 'purpose': 1398, 'upon': 1860, 'iti': 872, 'grind': 750, 'crispy': 378, 'wheat': 1931, 'product good': 1378, 'good value': 723, 'adore': 20, 'beat': 123, 'really enjoy': 1427, 'lighter': 932, 'enhance': 518, 'complain': 325, 'claim': 286, 'number': 1193, 'smoke': 1594, 'individual': 850, 'caramel': 223, 'suppose': 1703, 'difficult': 446, 'product would': 1383, 'good coffee': 712, 'paper': 1274, 'tear': 1750, 'spill': 1631, 'not tell': 1181, 'would order': 1976, 'faster': 573, 'comment': 318, 'flower': 635, 'gluten': 700, 'brown rice': 188, 'gluten free': 701, 'far best': 571, 'twice': 1847, 'not taste': 1180, 'first try': 612, 'chip not': 271, 'not big': 1130, 'eat whole': 502, 'today': 1798, 'list ingredients': 964, 'weird': 1925, 'chili': 268, 'liquid': 961, 'things like': 1771, 'attention': 91, 'rate': 1414, 'tomatoes': 1803, 'record': 1451, 'stand': 1644, 'sucralose': 1686, 'substitute': 1683, 'preference': 1351, 'create': 375, 'not drink': 1138, 'strength': 1670, 'not give': 1147, 'not mind': 1158, 'feel good': 585, 'not work': 1187, 'definitely not': 421, 'split': 1633, 'provide': 1389, 'desire': 435, 'late': 905, 'beverages': 142, 'glad find': 698, 'artificial': 84, 'sweeteners': 1713, 'artificial sweeteners': 86, 'fruity': 669, 'honey': 811, 'slow': 1585, 'cause': 241, 'intense': 863, 'thrill': 1779, 'find local': 598, 'even though': 529, 'everywhere': 541, 'portion': 1336, 'use not': 1867, 'try product': 1840, 'birthday': 147, 'use one': 1868, 'not last': 1152, 'price not': 1367, 'salad': 1503, 'bud': 192, 'give one': 694, 'taste bud': 1733, 'herbs': 794, 'full flavor': 673, 'luck': 1003, 'pasta': 1282, 'cover': 365, 'house': 824, 'coffee like': 305, 'big fan': 144, 'flavor coffee': 620, 'flavor coffees': 621, 'smell taste': 1593, 'not not': 1161, 'not one': 1163, 'manage': 1021, 'love coffee': 986, 'time not': 1788, 'rich flavor': 1485, 'example': 544, 'good deal': 714, 'swiss': 1716, 'asian': 87, 'traditional': 1814, 'quickly': 1406, 'major': 1009, 'cancel': 219, 'positive': 1337, 'leak': 914, 'completely': 329, 'options': 1236, 'cardboard': 229, 'mini': 1061, 'would get': 1968, 'spring': 1638, 'delight': 425, 'school': 1527, 'th': 1763, 'perfectly': 1297, 'gallon': 678, 'like lot': 944, 'not beat': 1127, 'potatoes': 1344, 'restaurant': 1474, 'choke': 279, 'picture': 1307, 'start use': 1649, 'impossible': 841, 'suggest': 1694, 'bits': 150, 'not worry': 1188, 'suck': 1685, 'wed': 1921, 'popchips': 1331, 'crunchy': 381, 'pancake': 1270, 'pancake mix': 1271, 'seed': 1536, 'sweet not': 1709, 'yum': 1997, 'extract': 556, 'wine': 1941, 'original': 1246, 'win': 1940, 'lick': 926, 'finger': 605, 'not try': 1183, 'find one': 601, 'taste little': 1739, 'correct': 356, 'ahead': 31, 'corner': 355, 'average': 93, 'make sure': 1017, 'best coffee': 134, 'bitter taste': 152, 'taste coffee': 1734, 'american': 59, 'french roast': 657, 'like eat': 938, 'granola': 731, 'time order': 1789, 'generally': 684, 'make good': 1013, 'pod': 1327, 'produce': 1375, 'never try': 1108, 'coffee try': 309, 'favorite coffee': 578, 'strong enough': 1674, 'vegetables': 1884, 'oh': 1208, 'gourmet': 726, 'ever try': 533, 'likely': 957, 'like get': 941, 'double': 473, 'freezer': 655, 'great deal': 739, 'seal': 1531, 'tape': 1729, 'oz bag': 1261, 'freshness': 659, 'walk': 1901, 'would rather': 1978, 'order not': 1243, 'pancakes': 1272, 'fluffy': 636, 'also great': 44, 'make pancakes': 1016, 'waffle': 1898, 'mix make': 1068, 'ice cream': 835, 'vinegar': 1891, 'potato chip': 1343, 'flavor like': 624, 'use coffee': 1865, 'diagnose': 439, 'salmon': 1507, 'dent': 429, 'order product': 1244, 'cup not': 387, 'find product': 602, 'bargain': 113, 'salt pepper': 1510, 'trade': 1813, 'straight': 1667, 'much like': 1088, 'kettle': 886, 'air': 32, 'single serve': 1574, 'sandwich': 1515, 'otherwise': 1249, 'may not': 1033, 'bacon': 102, 'trust': 1829, 'absolutely love': 4, 'love chip': 985, 'buy pack': 206, 'reviewers': 1480, 'potassium': 1341, 'salt vinegar': 1511, 'quite good': 1408, 'per serve': 1295, 'dairy': 398, 'really taste': 1433, 'eater': 503, 'rat': 1413, 'greasy': 736, 'also try': 49, 'new favorite': 1110, 'trans': 1816, 'info': 852, 'true': 1825, 'trans fat': 1817, 'tangy': 1728, 'flavor taste': 628, 'ruin': 1499, 'bag chip': 105, 'flavor great': 623, 'st': 1642, 'buy local': 203, 'taste flavor': 1735, 'absolute': 2, 'strong flavor': 1675, 'per bag': 1294, 'oily': 1210, 'harder': 774, 'not best': 1129, 'business': 196, 'not stop': 1175, 'chip ever': 270, 'anything else': 69, 'carrot': 232, 'certify': 249, 'nicely': 1114, 'lime': 958, 'artificial flavor': 85, 'mustard': 1094, 'yogurt': 1995, 'crush': 382, 'price right': 1368, 'spread': 1637, 'sense': 1543, 'tender': 1757, 'not feel': 1144, 'vitamin': 1893, 'obviously': 1201, 'go wrong': 705, 'give star': 695, 'also like': 45, 'like drink': 937, 'basically': 116, 'contact': 339, 'hole': 805, 'time try': 1790, 'preserve': 1356, 'like make': 945, 'crumble': 379, 'strange': 1668, 'lightly': 933, 'would say': 1980, 'yellow': 1992, 'lovely': 997, 'sound': 1618, 'wonderfully': 1950, 'quantity': 1402, 'total': 1808, 'originally': 1247, 'lovers': 999, 'edge': 505, 'hurt': 832, 'lead': 912, 'lemonade': 919, 'meals': 1036, 'tongue': 1804, 'buy brand': 199, 'post': 1339, 'drip': 486, 'expectations': 549, 'waste money': 1910, 'able find': 1, 'yeast': 1991, 'ingredient list': 855, 'disgust': 458, 'not mention': 1157, 'site': 1577, 'regret': 1458, 'third': 1775, 'among': 60, 'word': 1951, 'store not': 1666, 'decide give': 415, 'catch': 240, 'also not': 48, 'sodium': 1603, 'try love': 1835, 'healthy snack': 786, 'goods': 725, 'mark': 1028, 'say not': 1524, 'warn': 1907, 'thus': 1783, 'adult': 21, 'system': 1719, 'additional': 17, 'future': 676, 'present': 1354, 'not really': 1170, 'homemade': 808, 'snack not': 1598, 'assume': 89, 'natural flavor': 1098, 'not notice': 1162, 'mellow': 1044, 'pleasantly': 1320, 'pleasantly surprise': 1321, 'definitely buy': 420, 'general': 683, 'nutritional': 1197, 'hungry': 831, 'information': 853, 'certainly not': 248, 'tough': 1811, 'soy': 1623, 'like would': 956, 'teaspoon': 1752, 'taste would': 1744, 'metal': 1049, 'biscuits': 148, 'tablespoon': 1721, 'whip': 1935, 'almond': 37, 'carbonation': 227, 'anytime': 70, 'grams sugar': 730, 'sweeten': 1711, 'great coffee': 738, 'subscription': 1682, 'salad dress': 1504, 'supermarkets': 1699, 'tad': 1724, 'downside': 476, 'overall': 1256, 'not always': 1124, 'not come': 1135, 'best price': 136, 'incredibly': 848, 'safe': 1502, 'popular': 1334, 'pineapple': 1310, 'man': 1020, 'want something': 1904, 'previously': 1364, 'feature': 581, 'frost': 664, 'splash': 1632, 'spoil': 1634, 'cake mix': 211, 'sausage': 1519, 'turkey': 1845, 'meats': 1040, 'nutritious': 1198, 'maintain': 1008, 'support': 1702, 'whey': 1934, 'product make': 1380, 'not contain': 1136, 'watery': 1915, 'round': 1498, 'develop': 438, 'add little': 13, 'bold': 164, 'brewer': 184, 'aware': 95, 'coffee good': 303, 'cow': 366, 'basic': 115, 'though not': 1777, 'say taste': 1525, 'gel': 682, 'rise': 1491, 'tip': 1795, 'holiday': 806, 'kit': 894, 'really great': 1429, 'horse': 816, 'attempt': 90, 'really want': 1434, 'know would': 898, 'not purchase': 1168, 'liquor': 962, 'aluminum': 55, 'occasionally': 1203, 'design': 434, 'ratio': 1416, 'many different': 1025, 'roll': 1496, 'like coffee': 936, 'refrigerator': 1455, 'child': 266, 'stevia': 1654, 'reasonably': 1438, 'reasonably price': 1439, 'walnut': 1902, 'sure not': 1705, 'funny': 675, 'properly': 1387, 'chocolate not': 275, 'milk chocolate': 1058, 'young': 1996, 'chocolate flavor': 274, 'kernels': 885, 'son love': 1614, 'trash': 1818, 'coffee ever': 301, 'leaf': 913, 'smell like': 1592, 'calcium': 212, 'separate': 1545, 'month old': 1075, 'like fact': 939, 'baby food': 100, 'runny': 1501, 'spoon': 1635, 'digestive': 448, 'would love': 1972, 'mixture': 1069, 'nd': 1100, 'not fan': 1143, 'poor': 1329, 'tree': 1821, 'paste': 1283, 'gravy': 735, 'maker': 1019, 'coffee maker': 306, 'make cup': 1011, 'superior': 1697, 'truffles': 1827, 'truffle': 1826, 'jerky': 875, 'afraid': 25, 'toast': 1797, 'add sugar': 14, 'center': 243, 'vitamins': 1894, 'response': 1472, 'mail': 1006, 'cub': 384, 'darker': 403, 'inch': 844, 'worth try': 1962, 'tolerate': 1801, 'first sip': 610, 'bitterness': 153, 'something would': 1610, 'look something': 980, 'vanilla extract': 1876, 'vanilla flavor': 1877, 'promise': 1386, 'clearly': 291, 'kid love': 890, 'program': 1385, 'surprisingly': 1707, 'vacuum': 1872, 'plant': 1315, 'reward': 1481, 'dog not': 469, 'hot cocoa': 819, 'snap': 1599, 'like orange': 949, 'flax': 632, 'muffins': 1090, 'drink lot': 480, 'sodas': 1602, 'dark roast': 402, 'roast coffee': 1493, 'decaf': 410, 'vodka': 1895, 'pizza': 1311, 'bone': 166, 'sardines': 1516, 'coffee flavor': 302, 'one cup': 1220, 'curry': 391, 'drinkers': 485, 'selection': 1539, 'rice cake': 1483, 'several time': 1553, 'fence': 589, 'bolder': 165, 'plug': 1324, 'tight': 1784, 'fruit juice': 668, 'peach': 1285, 'review not': 1478, 'batter': 119, 'kcups': 883, 'decaf coffee': 411, 'dough': 475, 'fly': 637, 'like strong': 954, 'orange juice': 1238, 'vomit': 1896, 'acidic': 7, 'goat': 706, 'goat milk': 707, 'hazelnut': 778, 'decaffeinate': 412, 'ground': 755, 'coffee drinker': 300, 'coffee coffee': 298, 'kcup': 882, 'strong coffee': 1673, 'not bold': 1132, 'medium roast': 1042, 'cup set': 388, 'coffee cup': 299, 'coconut water': 296, 'water taste': 1914, 'juice drink': 879, 'disposable': 460, 'filter': 593, 'grind coffee': 751, 'chia': 263, 'chia seed': 264, 'clam': 287, 'hull': 830, 'smallest': 1590, 'chowder': 282, 'clam chowder': 288, 'lids': 929, 'tangerine': 1727, 'first cup': 609, 'goats': 708, 'hot chocolate': 818, 'sparkle': 1624, 'mic': 1051, 'carbonate': 225, 'cow milk': 367, 'fondant': 640, 'orange soda': 1239, 'sparkle water': 1625, 'apple grape': 78, 'carbonate juice': 226, 'orange tangerine': 1240, 'goats milk': 709}\n"
     ]
    }
   ],
   "source": [
    "print(vectorizer.vocabulary_) #--------------Top features (identified from the data)"
   ]
  },
  {
   "cell_type": "code",
   "execution_count": 29,
   "metadata": {},
   "outputs": [
    {
     "data": {
      "text/html": [
       "<div>\n",
       "<style scoped>\n",
       "    .dataframe tbody tr th:only-of-type {\n",
       "        vertical-align: middle;\n",
       "    }\n",
       "\n",
       "    .dataframe tbody tr th {\n",
       "        vertical-align: top;\n",
       "    }\n",
       "\n",
       "    .dataframe thead th {\n",
       "        text-align: right;\n",
       "    }\n",
       "</style>\n",
       "<table border=\"1\" class=\"dataframe\">\n",
       "  <thead>\n",
       "    <tr style=\"text-align: right;\">\n",
       "      <th></th>\n",
       "      <th>able</th>\n",
       "      <th>able find</th>\n",
       "      <th>absolute</th>\n",
       "      <th>absolutely</th>\n",
       "      <th>absolutely love</th>\n",
       "      <th>accord</th>\n",
       "      <th>acid</th>\n",
       "      <th>acidic</th>\n",
       "      <th>across</th>\n",
       "      <th>actual</th>\n",
       "      <th>...</th>\n",
       "      <th>years ago</th>\n",
       "      <th>yeast</th>\n",
       "      <th>yellow</th>\n",
       "      <th>yes</th>\n",
       "      <th>yet</th>\n",
       "      <th>yogurt</th>\n",
       "      <th>young</th>\n",
       "      <th>yum</th>\n",
       "      <th>yummy</th>\n",
       "      <th>zero</th>\n",
       "    </tr>\n",
       "  </thead>\n",
       "  <tbody>\n",
       "    <tr>\n",
       "      <th>0</th>\n",
       "      <td>0</td>\n",
       "      <td>0</td>\n",
       "      <td>0</td>\n",
       "      <td>0</td>\n",
       "      <td>0</td>\n",
       "      <td>0</td>\n",
       "      <td>0</td>\n",
       "      <td>0</td>\n",
       "      <td>0</td>\n",
       "      <td>0</td>\n",
       "      <td>...</td>\n",
       "      <td>0</td>\n",
       "      <td>0</td>\n",
       "      <td>0</td>\n",
       "      <td>0</td>\n",
       "      <td>0</td>\n",
       "      <td>0</td>\n",
       "      <td>0</td>\n",
       "      <td>0</td>\n",
       "      <td>0</td>\n",
       "      <td>0</td>\n",
       "    </tr>\n",
       "    <tr>\n",
       "      <th>1</th>\n",
       "      <td>0</td>\n",
       "      <td>0</td>\n",
       "      <td>0</td>\n",
       "      <td>0</td>\n",
       "      <td>0</td>\n",
       "      <td>0</td>\n",
       "      <td>0</td>\n",
       "      <td>0</td>\n",
       "      <td>0</td>\n",
       "      <td>0</td>\n",
       "      <td>...</td>\n",
       "      <td>0</td>\n",
       "      <td>0</td>\n",
       "      <td>0</td>\n",
       "      <td>0</td>\n",
       "      <td>0</td>\n",
       "      <td>0</td>\n",
       "      <td>0</td>\n",
       "      <td>0</td>\n",
       "      <td>0</td>\n",
       "      <td>0</td>\n",
       "    </tr>\n",
       "    <tr>\n",
       "      <th>2</th>\n",
       "      <td>0</td>\n",
       "      <td>0</td>\n",
       "      <td>0</td>\n",
       "      <td>0</td>\n",
       "      <td>0</td>\n",
       "      <td>0</td>\n",
       "      <td>0</td>\n",
       "      <td>0</td>\n",
       "      <td>0</td>\n",
       "      <td>0</td>\n",
       "      <td>...</td>\n",
       "      <td>0</td>\n",
       "      <td>0</td>\n",
       "      <td>0</td>\n",
       "      <td>0</td>\n",
       "      <td>0</td>\n",
       "      <td>0</td>\n",
       "      <td>0</td>\n",
       "      <td>0</td>\n",
       "      <td>1</td>\n",
       "      <td>0</td>\n",
       "    </tr>\n",
       "    <tr>\n",
       "      <th>3</th>\n",
       "      <td>0</td>\n",
       "      <td>0</td>\n",
       "      <td>0</td>\n",
       "      <td>0</td>\n",
       "      <td>0</td>\n",
       "      <td>0</td>\n",
       "      <td>0</td>\n",
       "      <td>0</td>\n",
       "      <td>0</td>\n",
       "      <td>0</td>\n",
       "      <td>...</td>\n",
       "      <td>0</td>\n",
       "      <td>0</td>\n",
       "      <td>0</td>\n",
       "      <td>0</td>\n",
       "      <td>0</td>\n",
       "      <td>0</td>\n",
       "      <td>0</td>\n",
       "      <td>0</td>\n",
       "      <td>0</td>\n",
       "      <td>0</td>\n",
       "    </tr>\n",
       "    <tr>\n",
       "      <th>4</th>\n",
       "      <td>0</td>\n",
       "      <td>0</td>\n",
       "      <td>0</td>\n",
       "      <td>0</td>\n",
       "      <td>0</td>\n",
       "      <td>0</td>\n",
       "      <td>0</td>\n",
       "      <td>0</td>\n",
       "      <td>0</td>\n",
       "      <td>0</td>\n",
       "      <td>...</td>\n",
       "      <td>0</td>\n",
       "      <td>0</td>\n",
       "      <td>0</td>\n",
       "      <td>0</td>\n",
       "      <td>0</td>\n",
       "      <td>0</td>\n",
       "      <td>0</td>\n",
       "      <td>0</td>\n",
       "      <td>1</td>\n",
       "      <td>0</td>\n",
       "    </tr>\n",
       "  </tbody>\n",
       "</table>\n",
       "<p>5 rows × 2000 columns</p>\n",
       "</div>"
      ],
      "text/plain": [
       "   able  able find  absolute  absolutely  absolutely love  accord  acid  \\\n",
       "0     0          0         0           0                0       0     0   \n",
       "1     0          0         0           0                0       0     0   \n",
       "2     0          0         0           0                0       0     0   \n",
       "3     0          0         0           0                0       0     0   \n",
       "4     0          0         0           0                0       0     0   \n",
       "\n",
       "   acidic  across  actual  ...  years ago  yeast  yellow  yes  yet  yogurt  \\\n",
       "0       0       0       0  ...          0      0       0    0    0       0   \n",
       "1       0       0       0  ...          0      0       0    0    0       0   \n",
       "2       0       0       0  ...          0      0       0    0    0       0   \n",
       "3       0       0       0  ...          0      0       0    0    0       0   \n",
       "4       0       0       0  ...          0      0       0    0    0       0   \n",
       "\n",
       "   young  yum  yummy  zero  \n",
       "0      0    0      0     0  \n",
       "1      0    0      0     0  \n",
       "2      0    0      1     0  \n",
       "3      0    0      0     0  \n",
       "4      0    0      1     0  \n",
       "\n",
       "[5 rows x 2000 columns]"
      ]
     },
     "execution_count": 29,
     "metadata": {},
     "output_type": "execute_result"
    }
   ],
   "source": [
    "count_vect_df = pd.DataFrame(data_features.todense(), columns=vectorizer.get_feature_names())\n",
    "count_vect_df.head()"
   ]
  },
  {
   "cell_type": "code",
   "execution_count": 30,
   "metadata": {},
   "outputs": [
    {
     "name": "stdout",
     "output_type": "stream",
     "text": [
      "[('Monish', 'cooked'), ('cooked', 'fish'), ('fish', 'today')]\n"
     ]
    }
   ],
   "source": [
    "from nltk import word_tokenize \n",
    "from nltk.util import ngrams\n",
    "\n",
    "\n",
    "text = ['Monish cooked fish today']\n",
    "for line in text:\n",
    "    token = nltk.word_tokenize(line)\n",
    "    bigram = list(ngrams(token, 2)) \n",
    "\n",
    "    print(bigram)"
   ]
  },
  {
   "cell_type": "code",
   "execution_count": 31,
   "metadata": {
    "colab": {
     "base_uri": "https://localhost:8080/",
     "height": 34
    },
    "colab_type": "code",
    "id": "R-xSq6Y-YN3f",
    "outputId": "821183b8-ca95-488e-d96f-538ebee253e2"
   },
   "outputs": [
    {
     "data": {
      "text/plain": [
       "(10001, 2000)"
      ]
     },
     "execution_count": 31,
     "metadata": {},
     "output_type": "execute_result"
    }
   ],
   "source": [
    "data_features.shape"
   ]
  },
  {
   "cell_type": "code",
   "execution_count": 32,
   "metadata": {},
   "outputs": [],
   "source": [
    "# print(data_feature[3])"
   ]
  },
  {
   "cell_type": "code",
   "execution_count": 33,
   "metadata": {
    "colab": {},
    "colab_type": "code",
    "id": "rt_rjzW51fx8"
   },
   "outputs": [],
   "source": [
    "labels = data['Score']\n",
    "labels = labels.astype('int')"
   ]
  },
  {
   "cell_type": "code",
   "execution_count": 34,
   "metadata": {
    "colab": {},
    "colab_type": "code",
    "id": "nuBWTlx_ZlRo"
   },
   "outputs": [],
   "source": [
    "# Split data into training and testing set.\n",
    "\n",
    "from sklearn.model_selection import train_test_split\n",
    "\n",
    "X_train, X_test, y_train, y_test = train_test_split(data_feature, labels, test_size=0.3, random_state=42)"
   ]
  },
  {
   "cell_type": "code",
   "execution_count": 35,
   "metadata": {
    "colab": {
     "base_uri": "https://localhost:8080/",
     "height": 170
    },
    "colab_type": "code",
    "id": "LrRKfuzXXyPS",
    "outputId": "9ee4cf08-1e1b-4551-b668-1564342a3ccf"
   },
   "outputs": [
    {
     "name": "stdout",
     "output_type": "stream",
     "text": [
      "RandomForestClassifier(class_weight='balanced', n_estimators=10, n_jobs=4,\n",
      "                       random_state=7)\n",
      "0.6597390609390609\n"
     ]
    }
   ],
   "source": [
    "# Using Random Forest to build model for the classification of reviews.\n",
    "# Also calculating the cross validation score.\n",
    "\n",
    "from sklearn.ensemble import RandomForestClassifier\n",
    "from sklearn.model_selection import cross_val_score\n",
    "\n",
    "forest = RandomForestClassifier(n_estimators=10, n_jobs=4, class_weight='balanced', random_state=7)\n",
    "\n",
    "forest = forest.fit(X_train, y_train)\n",
    "\n",
    "print(forest)\n",
    "\n",
    "print(np.mean(cross_val_score(forest, data_features, labels, cv=10)))"
   ]
  },
  {
   "cell_type": "code",
   "execution_count": 36,
   "metadata": {
    "colab": {},
    "colab_type": "code",
    "id": "zuwujDwkZIW7"
   },
   "outputs": [],
   "source": [
    "# Predict the result for test data using the model built above.\n",
    "\n",
    "result = forest.predict(X_test)"
   ]
  },
  {
   "cell_type": "code",
   "execution_count": 37,
   "metadata": {
    "colab": {
     "base_uri": "https://localhost:8080/",
     "height": 584
    },
    "colab_type": "code",
    "id": "vLRfUCOlaaHH",
    "outputId": "0e8b42f9-cf77-4116-af56-5a64ea6cb98e"
   },
   "outputs": [
    {
     "name": "stdout",
     "output_type": "stream",
     "text": [
      "[[ 110    9    6    9  180]\n",
      " [  24   26    5    6  106]\n",
      " [  20    6   44   18  147]\n",
      " [  13    5   15   61  316]\n",
      " [  43   15   16   50 1751]]\n"
     ]
    },
    {
     "data": {
      "text/plain": [
       "<matplotlib.axes._subplots.AxesSubplot at 0x1e6cf9caa08>"
      ]
     },
     "execution_count": 37,
     "metadata": {},
     "output_type": "execute_result"
    },
    {
     "data": {
      "image/png": "[encoded data removed]",
      "text/plain": [
       "<Figure size 720x504 with 2 Axes>"
      ]
     },
     "metadata": {
      "needs_background": "light"
     },
     "output_type": "display_data"
    }
   ],
   "source": [
    "# Print and plot Confusion matirx to get an idea of how the distribution of the prediction is, among all the classes.\n",
    "\n",
    "import matplotlib.pyplot as plt\n",
    "import seaborn as sns\n",
    "from sklearn.metrics import confusion_matrix\n",
    "\n",
    "%matplotlib inline\n",
    "\n",
    "conf_mat = confusion_matrix(y_test, result)\n",
    "\n",
    "print(conf_mat)\n",
    "\n",
    "df_cm = pd.DataFrame(conf_mat, index = [i for i in \"12345\"],\n",
    "                  columns = [i for i in \"12345\"])\n",
    "plt.figure(figsize = (10,7))\n",
    "sns.heatmap(df_cm, annot=True, fmt='g')\n",
    "\n"
   ]
  },
  {
   "cell_type": "code",
   "execution_count": 38,
   "metadata": {},
   "outputs": [
    {
     "name": "stdout",
     "output_type": "stream",
     "text": [
      " \n",
      " \n"
     ]
    },
    {
     "data": {
      "image/png": "[encoded data removed]",
      "text/plain": [
       "<Figure size 1440x1080 with 1 Axes>"
      ]
     },
     "metadata": {
      "needs_background": "light"
     },
     "output_type": "display_data"
    }
   ],
   "source": [
    "all_features = vectorizer.get_feature_names()              #Instantiate the feature from the vectorizer\n",
    "\n",
    "top_features=''                                            # Addition of top 40 feature into top_feature after training the model\n",
    "\n",
    "feat=forest.feature_importances_\n",
    "\n",
    "features=np.argsort(feat)[::-1]\n",
    "\n",
    "for i in features[0:60]:\n",
    "    \n",
    "    top_features+=all_features[i]\n",
    "    \n",
    "    top_features+=','\n",
    "    \n",
    "# print(top_features)  \n",
    "\n",
    "print(\" \") \n",
    "\n",
    "print(\" \")     \n",
    "\n",
    "from wordcloud import WordCloud\n",
    "\n",
    "wordcloud = WordCloud(background_color=\"white\",colormap='viridis',width=2000, \n",
    "                          height=1000, random_state=7).generate(top_features)\n",
    "\n",
    "# Display the generated image:\n",
    "\n",
    "plt.figure(figsize=(20, 15))\n",
    "\n",
    "plt.imshow(wordcloud, interpolation='bilinear')\n",
    "\n",
    "plt.title('Top 60 features WordCloud', fontsize=20)\n",
    "\n",
    "plt.axis(\"off\")\n",
    "\n",
    "plt.show()"
   ]
  },
  {
   "cell_type": "markdown",
   "metadata": {},
   "source": [
    "###  <span style=\"font-family: Calibri; font-size:1.3 em;color:#000055\"> Model Development: TF*IDF </span>"
   ]
  },
  {
   "cell_type": "code",
   "execution_count": 39,
   "metadata": {
    "colab": {
     "base_uri": "https://localhost:8080/",
     "height": 34
    },
    "colab_type": "code",
    "id": "JyWqFm4Bu8gX",
    "outputId": "da3dca6e-84cc-4d85-8fe0-9de211c4d34e"
   },
   "outputs": [
    {
     "data": {
      "text/plain": [
       "(10001, 2000)"
      ]
     },
     "execution_count": 39,
     "metadata": {},
     "output_type": "execute_result"
    }
   ],
   "source": [
    "# Using TfidfVectorizer to convert text data to numbers.\n",
    "\n",
    "from sklearn.feature_extraction.text import TfidfVectorizer\n",
    "\n",
    "vectorizer = TfidfVectorizer(max_features=2000, ngram_range=(1,2))\n",
    "\n",
    "data_features = vectorizer.fit_transform(data['Text'])\n",
    "\n",
    "data_feature = data_features.toarray()\n",
    "\n",
    "data_feature.shape"
   ]
  },
  {
   "cell_type": "code",
   "execution_count": 40,
   "metadata": {},
   "outputs": [
    {
     "data": {
      "text/plain": [
       "array([[0.        , 0.        , 0.        , ..., 0.        , 0.        ,\n",
       "        0.        ],\n",
       "       [0.        , 0.        , 0.        , ..., 0.        , 0.        ,\n",
       "        0.        ],\n",
       "       [0.        , 0.        , 0.        , ..., 0.        , 0.20406516,\n",
       "        0.        ],\n",
       "       ...,\n",
       "       [0.        , 0.        , 0.        , ..., 0.        , 0.        ,\n",
       "        0.        ],\n",
       "       [0.        , 0.        , 0.        , ..., 0.        , 0.        ,\n",
       "        0.        ],\n",
       "       [0.        , 0.        , 0.        , ..., 0.        , 0.        ,\n",
       "        0.        ]])"
      ]
     },
     "execution_count": 40,
     "metadata": {},
     "output_type": "execute_result"
    }
   ],
   "source": [
    "data_feature"
   ]
  },
  {
   "cell_type": "code",
   "execution_count": 41,
   "metadata": {},
   "outputs": [
    {
     "data": {
      "text/html": [
       "<div>\n",
       "<style scoped>\n",
       "    .dataframe tbody tr th:only-of-type {\n",
       "        vertical-align: middle;\n",
       "    }\n",
       "\n",
       "    .dataframe tbody tr th {\n",
       "        vertical-align: top;\n",
       "    }\n",
       "\n",
       "    .dataframe thead th {\n",
       "        text-align: right;\n",
       "    }\n",
       "</style>\n",
       "<table border=\"1\" class=\"dataframe\">\n",
       "  <thead>\n",
       "    <tr style=\"text-align: right;\">\n",
       "      <th></th>\n",
       "      <th>able</th>\n",
       "      <th>able find</th>\n",
       "      <th>absolute</th>\n",
       "      <th>absolutely</th>\n",
       "      <th>absolutely love</th>\n",
       "      <th>accord</th>\n",
       "      <th>acid</th>\n",
       "      <th>acidic</th>\n",
       "      <th>across</th>\n",
       "      <th>actual</th>\n",
       "      <th>...</th>\n",
       "      <th>years ago</th>\n",
       "      <th>yeast</th>\n",
       "      <th>yellow</th>\n",
       "      <th>yes</th>\n",
       "      <th>yet</th>\n",
       "      <th>yogurt</th>\n",
       "      <th>young</th>\n",
       "      <th>yum</th>\n",
       "      <th>yummy</th>\n",
       "      <th>zero</th>\n",
       "    </tr>\n",
       "  </thead>\n",
       "  <tbody>\n",
       "    <tr>\n",
       "      <th>0</th>\n",
       "      <td>0.0</td>\n",
       "      <td>0.0</td>\n",
       "      <td>0.0</td>\n",
       "      <td>0.0</td>\n",
       "      <td>0.0</td>\n",
       "      <td>0.0</td>\n",
       "      <td>0.0</td>\n",
       "      <td>0.0</td>\n",
       "      <td>0.0</td>\n",
       "      <td>0.0</td>\n",
       "      <td>...</td>\n",
       "      <td>0.0</td>\n",
       "      <td>0.0</td>\n",
       "      <td>0.0</td>\n",
       "      <td>0.0</td>\n",
       "      <td>0.0</td>\n",
       "      <td>0.0</td>\n",
       "      <td>0.0</td>\n",
       "      <td>0.0</td>\n",
       "      <td>0.000000</td>\n",
       "      <td>0.0</td>\n",
       "    </tr>\n",
       "    <tr>\n",
       "      <th>1</th>\n",
       "      <td>0.0</td>\n",
       "      <td>0.0</td>\n",
       "      <td>0.0</td>\n",
       "      <td>0.0</td>\n",
       "      <td>0.0</td>\n",
       "      <td>0.0</td>\n",
       "      <td>0.0</td>\n",
       "      <td>0.0</td>\n",
       "      <td>0.0</td>\n",
       "      <td>0.0</td>\n",
       "      <td>...</td>\n",
       "      <td>0.0</td>\n",
       "      <td>0.0</td>\n",
       "      <td>0.0</td>\n",
       "      <td>0.0</td>\n",
       "      <td>0.0</td>\n",
       "      <td>0.0</td>\n",
       "      <td>0.0</td>\n",
       "      <td>0.0</td>\n",
       "      <td>0.000000</td>\n",
       "      <td>0.0</td>\n",
       "    </tr>\n",
       "    <tr>\n",
       "      <th>2</th>\n",
       "      <td>0.0</td>\n",
       "      <td>0.0</td>\n",
       "      <td>0.0</td>\n",
       "      <td>0.0</td>\n",
       "      <td>0.0</td>\n",
       "      <td>0.0</td>\n",
       "      <td>0.0</td>\n",
       "      <td>0.0</td>\n",
       "      <td>0.0</td>\n",
       "      <td>0.0</td>\n",
       "      <td>...</td>\n",
       "      <td>0.0</td>\n",
       "      <td>0.0</td>\n",
       "      <td>0.0</td>\n",
       "      <td>0.0</td>\n",
       "      <td>0.0</td>\n",
       "      <td>0.0</td>\n",
       "      <td>0.0</td>\n",
       "      <td>0.0</td>\n",
       "      <td>0.204065</td>\n",
       "      <td>0.0</td>\n",
       "    </tr>\n",
       "    <tr>\n",
       "      <th>3</th>\n",
       "      <td>0.0</td>\n",
       "      <td>0.0</td>\n",
       "      <td>0.0</td>\n",
       "      <td>0.0</td>\n",
       "      <td>0.0</td>\n",
       "      <td>0.0</td>\n",
       "      <td>0.0</td>\n",
       "      <td>0.0</td>\n",
       "      <td>0.0</td>\n",
       "      <td>0.0</td>\n",
       "      <td>...</td>\n",
       "      <td>0.0</td>\n",
       "      <td>0.0</td>\n",
       "      <td>0.0</td>\n",
       "      <td>0.0</td>\n",
       "      <td>0.0</td>\n",
       "      <td>0.0</td>\n",
       "      <td>0.0</td>\n",
       "      <td>0.0</td>\n",
       "      <td>0.000000</td>\n",
       "      <td>0.0</td>\n",
       "    </tr>\n",
       "    <tr>\n",
       "      <th>4</th>\n",
       "      <td>0.0</td>\n",
       "      <td>0.0</td>\n",
       "      <td>0.0</td>\n",
       "      <td>0.0</td>\n",
       "      <td>0.0</td>\n",
       "      <td>0.0</td>\n",
       "      <td>0.0</td>\n",
       "      <td>0.0</td>\n",
       "      <td>0.0</td>\n",
       "      <td>0.0</td>\n",
       "      <td>...</td>\n",
       "      <td>0.0</td>\n",
       "      <td>0.0</td>\n",
       "      <td>0.0</td>\n",
       "      <td>0.0</td>\n",
       "      <td>0.0</td>\n",
       "      <td>0.0</td>\n",
       "      <td>0.0</td>\n",
       "      <td>0.0</td>\n",
       "      <td>0.415900</td>\n",
       "      <td>0.0</td>\n",
       "    </tr>\n",
       "  </tbody>\n",
       "</table>\n",
       "<p>5 rows × 2000 columns</p>\n",
       "</div>"
      ],
      "text/plain": [
       "   able  able find  absolute  absolutely  absolutely love  accord  acid  \\\n",
       "0   0.0        0.0       0.0         0.0              0.0     0.0   0.0   \n",
       "1   0.0        0.0       0.0         0.0              0.0     0.0   0.0   \n",
       "2   0.0        0.0       0.0         0.0              0.0     0.0   0.0   \n",
       "3   0.0        0.0       0.0         0.0              0.0     0.0   0.0   \n",
       "4   0.0        0.0       0.0         0.0              0.0     0.0   0.0   \n",
       "\n",
       "   acidic  across  actual  ...  years ago  yeast  yellow  yes  yet  yogurt  \\\n",
       "0     0.0     0.0     0.0  ...        0.0    0.0     0.0  0.0  0.0     0.0   \n",
       "1     0.0     0.0     0.0  ...        0.0    0.0     0.0  0.0  0.0     0.0   \n",
       "2     0.0     0.0     0.0  ...        0.0    0.0     0.0  0.0  0.0     0.0   \n",
       "3     0.0     0.0     0.0  ...        0.0    0.0     0.0  0.0  0.0     0.0   \n",
       "4     0.0     0.0     0.0  ...        0.0    0.0     0.0  0.0  0.0     0.0   \n",
       "\n",
       "   young  yum     yummy  zero  \n",
       "0    0.0  0.0  0.000000   0.0  \n",
       "1    0.0  0.0  0.000000   0.0  \n",
       "2    0.0  0.0  0.204065   0.0  \n",
       "3    0.0  0.0  0.000000   0.0  \n",
       "4    0.0  0.0  0.415900   0.0  \n",
       "\n",
       "[5 rows x 2000 columns]"
      ]
     },
     "execution_count": 41,
     "metadata": {},
     "output_type": "execute_result"
    }
   ],
   "source": [
    "count_vect_df = pd.DataFrame(data_features.todense(), columns=vectorizer.get_feature_names())\n",
    "count_vect_df.head()"
   ]
  },
  {
   "cell_type": "code",
   "execution_count": 42,
   "metadata": {},
   "outputs": [],
   "source": [
    "X_train, X_test, y_train, y_test = train_test_split(data_feature, labels, test_size=0.3, random_state=42)"
   ]
  },
  {
   "cell_type": "code",
   "execution_count": 43,
   "metadata": {
    "colab": {
     "base_uri": "https://localhost:8080/",
     "height": 170
    },
    "colab_type": "code",
    "id": "7223wy58vjJn",
    "outputId": "90a04ffe-b0b9-45e1-bc61-d200f9e46579"
   },
   "outputs": [
    {
     "name": "stdout",
     "output_type": "stream",
     "text": [
      "RandomForestClassifier(n_estimators=10, n_jobs=4)\n",
      "0.6688378621378621\n"
     ]
    }
   ],
   "source": [
    "# Using Random Forest to build model for the classification of reviews.\n",
    "# Also calculating the cross validation score.\n",
    "\n",
    "from sklearn.ensemble import RandomForestClassifier\n",
    "from sklearn.model_selection import cross_val_score\n",
    "\n",
    "import numpy as np\n",
    "\n",
    "forest = RandomForestClassifier(n_estimators=10, n_jobs=4)\n",
    "\n",
    "forest = forest.fit(X_train, y_train)\n",
    "\n",
    "print(forest)\n",
    "\n",
    "print(np.mean(cross_val_score(forest, data_feature, labels, cv=10)))"
   ]
  },
  {
   "cell_type": "code",
   "execution_count": 44,
   "metadata": {
    "colab": {},
    "colab_type": "code",
    "id": "vxMaBRnLvl_A"
   },
   "outputs": [],
   "source": [
    "result = forest.predict(X_test)"
   ]
  },
  {
   "cell_type": "code",
   "execution_count": 45,
   "metadata": {
    "colab": {
     "base_uri": "https://localhost:8080/",
     "height": 445
    },
    "colab_type": "code",
    "id": "qFkEFqU3vnbw",
    "outputId": "b1f73057-58bf-41b7-c028-b360553ddc28"
   },
   "outputs": [
    {
     "data": {
      "text/plain": [
       "<matplotlib.axes._subplots.AxesSubplot at 0x1e6d0b5cb48>"
      ]
     },
     "execution_count": 45,
     "metadata": {},
     "output_type": "execute_result"
    },
    {
     "data": {
      "image/png": "[encoded data removed]",
      "text/plain": [
       "<Figure size 720x504 with 2 Axes>"
      ]
     },
     "metadata": {
      "needs_background": "light"
     },
     "output_type": "display_data"
    }
   ],
   "source": [
    "import matplotlib.pyplot as plt\n",
    "import seaborn as sns\n",
    "from sklearn.metrics import confusion_matrix\n",
    "\n",
    "conf_mat = confusion_matrix(y_test, result)\n",
    "\n",
    "df_cm = pd.DataFrame(conf_mat, index = [i for i in \"12345\"],\n",
    "                  columns = [i for i in \"12345\"])\n",
    "plt.figure(figsize = (10,7))\n",
    "sns.heatmap(df_cm, annot=True, fmt='g')"
   ]
  },
  {
   "cell_type": "markdown",
   "metadata": {},
   "source": [
    "###  <span style=\"font-family: Calibri; font-size:1.2em;color:#000055\"> Using Word Embeddings from Pretrained Model - GLOVE</span>\n",
    "\n",
    "The are multiple pre trained models present in the link below. We utilize \"glove-twitter-25\" since we are dealing with tweets here. https://github.com/RaRe-Technologies/gensim-data"
   ]
  },
  {
   "cell_type": "code",
   "execution_count": 46,
   "metadata": {},
   "outputs": [
    {
     "name": "stderr",
     "output_type": "stream",
     "text": [
      "C:\\Users\\91905\\anaconda3\\lib\\site-packages\\gensim\\similarities\\__init__.py:15: UserWarning: The gensim.similarities.levenshtein submodule is disabled, because the optional Levenshtein package <https://pypi.org/project/python-Levenshtein/> is unavailable. Install Levenhstein (e.g. `pip install python-Levenshtein`) to suppress this warning.\n",
      "  warnings.warn(msg)\n"
     ]
    },
    {
     "name": "stdout",
     "output_type": "stream",
     "text": [
      "C:\\Users\\91905/gensim-data\\glove-twitter-50\\glove-twitter-50.gz\n"
     ]
    }
   ],
   "source": [
    "# !pip install gensim\n",
    "\n",
    "import gensim\n",
    "\n",
    "import gensim.downloader as api\n",
    "\n",
    "print(api.load(\"glove-twitter-50\", return_path=True))"
   ]
  },
  {
   "cell_type": "code",
   "execution_count": 47,
   "metadata": {},
   "outputs": [
    {
     "data": {
      "text/plain": [
       "50"
      ]
     },
     "execution_count": 47,
     "metadata": {},
     "output_type": "execute_result"
    }
   ],
   "source": [
    "#----------------------------Load word2vec model (trained on an enormous Twitter corpus)\n",
    "\n",
    "model = gensim.models.KeyedVectors.load_word2vec_format('C:\\\\Users\\\\91905\\\\gensim-data\\\\glove-twitter-50\\\\glove-twitter-50.gz')\n",
    "\n",
    "#----------------------------Check dimension of word vectors------------\n",
    "\n",
    "model.vector_size"
   ]
  },
  {
   "cell_type": "code",
   "execution_count": 53,
   "metadata": {},
   "outputs": [
    {
     "name": "stdout",
     "output_type": "stream",
     "text": [
      "----------------------------------------------------------------------\n",
      "Generating Word Embeddings for 'airlines'\n",
      "----------------------------------------------------------------------\n",
      "Vectors:\n",
      "\n",
      "[-0.62772   1.1525   -0.89168  -0.14048  -1.0866    0.15556  -0.35658\n",
      " -0.65174   1.4524   -0.87372  -0.27778  -0.44685  -2.121     0.88973\n",
      "  1.568    -0.23613  -0.79586   0.25713   0.82242  -0.31703  -0.16962\n",
      " -1.2239   -0.31986  -0.97578  -0.34564   0.173    -0.67145  -0.5614\n",
      "  0.3857   -0.4394   -0.16914  -0.54917   0.82243  -0.2417    1.2237\n",
      "  0.51122  -0.092987  0.25243  -0.060347 -0.38518  -0.18553   0.094037\n",
      " -0.19202  -0.5617   -0.35862   0.49092  -0.32825  -0.44347   0.52119\n",
      "  1.0414  ]\n",
      "----------------------------------------------------------------------\n",
      "Length: 50\n"
     ]
    }
   ],
   "source": [
    "print(\"-\"*70)\n",
    "print(\"Generating Word Embeddings for 'airlines'\")\n",
    "print(\"-\"*70)\n",
    "\n",
    "word_vec = model['airlines'] #-------------Vectors are word embeddings here\n",
    "\n",
    "print(\"Vectors:\")\n",
    "print()\n",
    "print(word_vec)\n",
    "print(\"-\"*70)\n",
    "\n",
    "print(\"Length:\", len(word_vec))"
   ]
  },
  {
   "cell_type": "code",
   "execution_count": 54,
   "metadata": {},
   "outputs": [],
   "source": [
    "def document_vector(word2vec_model, doc):\n",
    "    \n",
    "    #-------------------------remove out-of-vocabulary words-------------------------\n",
    "    \n",
    "    doc = [word for word in doc if word in model.key_to_index]\n",
    "    \n",
    "    return np.mean(model[doc], axis=0)\n",
    "\n",
    "\n",
    "def has_vector_representation(word2vec_model, doc):\n",
    "    \n",
    "    \"\"\"\n",
    "    Check if at least one word of the document is in the word2vec dictionary. function allows us to drop documents without\n",
    "    any word in word2vector.\n",
    "    \"\"\"\n",
    "    return not all(word not in word2vec_model.key_to_index for word in doc)\n",
    "\n",
    "\n",
    "def filter_docs(corpus, texts, condition_on_doc):\n",
    "    \"\"\"\n",
    "    Filter corpus and texts given the function condition_on_doc which takes a doc. The document doc is kept if condition_on_doc(doc) is true.\n",
    "    \"\"\"\n",
    "    number_of_docs = len(corpus)\n",
    "\n",
    "    if texts is not None:\n",
    "        texts = [text for (text, doc) in zip(texts, corpus)\n",
    "                 if condition_on_doc(doc)]\n",
    "\n",
    "    corpus = [doc for doc in corpus if condition_on_doc(doc)]\n",
    "\n",
    "    print(\"{} docs removed\".format(number_of_docs - len(corpus)))\n",
    "\n",
    "    return (corpus, texts)"
   ]
  },
  {
   "cell_type": "code",
   "execution_count": 55,
   "metadata": {},
   "outputs": [
    {
     "data": {
      "text/html": [
       "<div>\n",
       "<style scoped>\n",
       "    .dataframe tbody tr th:only-of-type {\n",
       "        vertical-align: middle;\n",
       "    }\n",
       "\n",
       "    .dataframe tbody tr th {\n",
       "        vertical-align: top;\n",
       "    }\n",
       "\n",
       "    .dataframe thead th {\n",
       "        text-align: right;\n",
       "    }\n",
       "</style>\n",
       "<table border=\"1\" class=\"dataframe\">\n",
       "  <thead>\n",
       "    <tr style=\"text-align: right;\">\n",
       "      <th></th>\n",
       "      <th>Score</th>\n",
       "      <th>Text</th>\n",
       "    </tr>\n",
       "  </thead>\n",
       "  <tbody>\n",
       "    <tr>\n",
       "      <th>0</th>\n",
       "      <td>5</td>\n",
       "      <td>buy several can dog food products find good quality product look like stew process meat smell better finicky appreciate product better</td>\n",
       "    </tr>\n",
       "    <tr>\n",
       "      <th>1</th>\n",
       "      <td>1</td>\n",
       "      <td>arrive label salt peanuts actually small size unsalted not sure error vendor intend represent product jumbo</td>\n",
       "    </tr>\n",
       "    <tr>\n",
       "      <th>2</th>\n",
       "      <td>4</td>\n",
       "      <td>confection around centuries light pillowy citrus gelatin nut case cut tiny square liberally coat powder sugar tiny mouthful heaven not chewy flavorful highly recommend yummy treat familiar story treat seduce sell brother</td>\n",
       "    </tr>\n",
       "    <tr>\n",
       "      <th>3</th>\n",
       "      <td>2</td>\n",
       "      <td>look secret ingredient believe find get addition order good make cherry soda flavor medicinal</td>\n",
       "    </tr>\n",
       "    <tr>\n",
       "      <th>4</th>\n",
       "      <td>5</td>\n",
       "      <td>taffy great price wide assortment yummy taffy quick taffy lover deal</td>\n",
       "    </tr>\n",
       "  </tbody>\n",
       "</table>\n",
       "</div>"
      ],
      "text/plain": [
       "   Score  \\\n",
       "0      5   \n",
       "1      1   \n",
       "2      4   \n",
       "3      2   \n",
       "4      5   \n",
       "\n",
       "                                                                                                                                                                                                                           Text  \n",
       "0                                                                                        buy several can dog food products find good quality product look like stew process meat smell better finicky appreciate product better  \n",
       "1                                                                                                                   arrive label salt peanuts actually small size unsalted not sure error vendor intend represent product jumbo  \n",
       "2  confection around centuries light pillowy citrus gelatin nut case cut tiny square liberally coat powder sugar tiny mouthful heaven not chewy flavorful highly recommend yummy treat familiar story treat seduce sell brother  \n",
       "3                                                                                                                                 look secret ingredient believe find get addition order good make cherry soda flavor medicinal  \n",
       "4                                                                                                                                                          taffy great price wide assortment yummy taffy quick taffy lover deal  "
      ]
     },
     "execution_count": 55,
     "metadata": {},
     "output_type": "execute_result"
    }
   ],
   "source": [
    "data.head()"
   ]
  },
  {
   "cell_type": "code",
   "execution_count": 56,
   "metadata": {},
   "outputs": [
    {
     "name": "stdout",
     "output_type": "stream",
     "text": [
      "['buy several can dog food products find good quality product look like stew process meat smell better finicky appreciate product better', 'arrive label salt peanuts actually small size unsalted not sure error vendor intend represent product jumbo', 'confection around centuries light pillowy citrus gelatin nut case cut tiny square liberally coat powder sugar tiny mouthful heaven not chewy flavorful highly recommend yummy treat familiar story treat seduce sell brother', 'look secret ingredient believe find get addition order good make cherry soda flavor medicinal', 'taffy great price wide assortment yummy taffy quick taffy lover deal']\n"
     ]
    }
   ],
   "source": [
    "corpus = list(data['Text'])\n",
    "\n",
    "Score=list(data['Score'])\n",
    "\n",
    "print(corpus[:5])"
   ]
  },
  {
   "cell_type": "code",
   "execution_count": 57,
   "metadata": {},
   "outputs": [
    {
     "name": "stdout",
     "output_type": "stream",
     "text": [
      "8 docs removed\n",
      "0 docs removed\n"
     ]
    }
   ],
   "source": [
    "#----------------------Remove tweets that don't include any words in W2V's vocab\n",
    "\n",
    "corpus, titles_list = filter_docs(corpus, Score, lambda doc: has_vector_representation(model, doc))\n",
    "\n",
    "#----------------------Filter Tweets without a single word in the model--------------------------\n",
    "\n",
    "corpus, titles_list = filter_docs(corpus, Score, lambda doc: (len(doc) != 0))\n",
    "\n",
    "x = []\n",
    "\n",
    "for doc in corpus: # append the vector for each document\n",
    "    x.append(document_vector(model, doc))\n",
    "    \n",
    "X = np.array(x) # list to array"
   ]
  },
  {
   "cell_type": "code",
   "execution_count": 58,
   "metadata": {},
   "outputs": [
    {
     "data": {
      "text/plain": [
       "(9993, 50)"
      ]
     },
     "execution_count": 58,
     "metadata": {},
     "output_type": "execute_result"
    }
   ],
   "source": [
    "embeddings=pd.DataFrame(X)\n",
    "embeddings.shape"
   ]
  },
  {
   "cell_type": "code",
   "execution_count": 59,
   "metadata": {},
   "outputs": [
    {
     "data": {
      "text/html": [
       "<div>\n",
       "<style scoped>\n",
       "    .dataframe tbody tr th:only-of-type {\n",
       "        vertical-align: middle;\n",
       "    }\n",
       "\n",
       "    .dataframe tbody tr th {\n",
       "        vertical-align: top;\n",
       "    }\n",
       "\n",
       "    .dataframe thead th {\n",
       "        text-align: right;\n",
       "    }\n",
       "</style>\n",
       "<table border=\"1\" class=\"dataframe\">\n",
       "  <thead>\n",
       "    <tr style=\"text-align: right;\">\n",
       "      <th></th>\n",
       "      <th>0</th>\n",
       "      <th>1</th>\n",
       "      <th>2</th>\n",
       "      <th>3</th>\n",
       "      <th>4</th>\n",
       "      <th>5</th>\n",
       "      <th>6</th>\n",
       "      <th>7</th>\n",
       "      <th>8</th>\n",
       "      <th>9</th>\n",
       "      <th>...</th>\n",
       "      <th>40</th>\n",
       "      <th>41</th>\n",
       "      <th>42</th>\n",
       "      <th>43</th>\n",
       "      <th>44</th>\n",
       "      <th>45</th>\n",
       "      <th>46</th>\n",
       "      <th>47</th>\n",
       "      <th>48</th>\n",
       "      <th>49</th>\n",
       "    </tr>\n",
       "  </thead>\n",
       "  <tbody>\n",
       "    <tr>\n",
       "      <th>0</th>\n",
       "      <td>0.271695</td>\n",
       "      <td>0.121688</td>\n",
       "      <td>0.153235</td>\n",
       "      <td>-0.120249</td>\n",
       "      <td>-0.121117</td>\n",
       "      <td>-0.024753</td>\n",
       "      <td>-0.620186</td>\n",
       "      <td>0.114176</td>\n",
       "      <td>0.078808</td>\n",
       "      <td>0.408421</td>\n",
       "      <td>...</td>\n",
       "      <td>-2.710075</td>\n",
       "      <td>0.309478</td>\n",
       "      <td>0.291156</td>\n",
       "      <td>-0.289676</td>\n",
       "      <td>-0.162212</td>\n",
       "      <td>-0.029988</td>\n",
       "      <td>0.066481</td>\n",
       "      <td>-0.463742</td>\n",
       "      <td>0.141831</td>\n",
       "      <td>-0.777831</td>\n",
       "    </tr>\n",
       "    <tr>\n",
       "      <th>1</th>\n",
       "      <td>0.248648</td>\n",
       "      <td>0.066332</td>\n",
       "      <td>0.185096</td>\n",
       "      <td>-0.082939</td>\n",
       "      <td>-0.071746</td>\n",
       "      <td>-0.008843</td>\n",
       "      <td>-0.634377</td>\n",
       "      <td>0.137475</td>\n",
       "      <td>0.047880</td>\n",
       "      <td>0.430548</td>\n",
       "      <td>...</td>\n",
       "      <td>-2.719522</td>\n",
       "      <td>0.259567</td>\n",
       "      <td>0.311071</td>\n",
       "      <td>-0.267861</td>\n",
       "      <td>-0.089546</td>\n",
       "      <td>-0.073599</td>\n",
       "      <td>0.146019</td>\n",
       "      <td>-0.537743</td>\n",
       "      <td>0.135133</td>\n",
       "      <td>-0.736322</td>\n",
       "    </tr>\n",
       "    <tr>\n",
       "      <th>2</th>\n",
       "      <td>0.224556</td>\n",
       "      <td>0.119204</td>\n",
       "      <td>0.082838</td>\n",
       "      <td>-0.088997</td>\n",
       "      <td>-0.114143</td>\n",
       "      <td>0.007341</td>\n",
       "      <td>-0.622505</td>\n",
       "      <td>0.124935</td>\n",
       "      <td>0.023886</td>\n",
       "      <td>0.461362</td>\n",
       "      <td>...</td>\n",
       "      <td>-2.628224</td>\n",
       "      <td>0.252563</td>\n",
       "      <td>0.364561</td>\n",
       "      <td>-0.205367</td>\n",
       "      <td>-0.062308</td>\n",
       "      <td>-0.083623</td>\n",
       "      <td>0.143902</td>\n",
       "      <td>-0.493947</td>\n",
       "      <td>0.128731</td>\n",
       "      <td>-0.743500</td>\n",
       "    </tr>\n",
       "    <tr>\n",
       "      <th>3</th>\n",
       "      <td>0.240568</td>\n",
       "      <td>0.088263</td>\n",
       "      <td>0.252549</td>\n",
       "      <td>-0.131268</td>\n",
       "      <td>-0.066481</td>\n",
       "      <td>-0.075213</td>\n",
       "      <td>-0.559964</td>\n",
       "      <td>0.039681</td>\n",
       "      <td>0.104086</td>\n",
       "      <td>0.511832</td>\n",
       "      <td>...</td>\n",
       "      <td>-2.716069</td>\n",
       "      <td>0.342346</td>\n",
       "      <td>0.227051</td>\n",
       "      <td>-0.275182</td>\n",
       "      <td>-0.165214</td>\n",
       "      <td>-0.012083</td>\n",
       "      <td>0.138616</td>\n",
       "      <td>-0.476662</td>\n",
       "      <td>0.021724</td>\n",
       "      <td>-0.772534</td>\n",
       "    </tr>\n",
       "    <tr>\n",
       "      <th>4</th>\n",
       "      <td>0.169556</td>\n",
       "      <td>0.210470</td>\n",
       "      <td>0.035334</td>\n",
       "      <td>-0.112154</td>\n",
       "      <td>-0.139233</td>\n",
       "      <td>0.029059</td>\n",
       "      <td>-0.670162</td>\n",
       "      <td>0.116563</td>\n",
       "      <td>-0.004911</td>\n",
       "      <td>0.312476</td>\n",
       "      <td>...</td>\n",
       "      <td>-2.633452</td>\n",
       "      <td>0.208066</td>\n",
       "      <td>0.407766</td>\n",
       "      <td>-0.239112</td>\n",
       "      <td>-0.055195</td>\n",
       "      <td>-0.036531</td>\n",
       "      <td>0.101874</td>\n",
       "      <td>-0.374032</td>\n",
       "      <td>0.135588</td>\n",
       "      <td>-0.828508</td>\n",
       "    </tr>\n",
       "  </tbody>\n",
       "</table>\n",
       "<p>5 rows × 50 columns</p>\n",
       "</div>"
      ],
      "text/plain": [
       "         0         1         2         3         4         5         6   \\\n",
       "0  0.271695  0.121688  0.153235 -0.120249 -0.121117 -0.024753 -0.620186   \n",
       "1  0.248648  0.066332  0.185096 -0.082939 -0.071746 -0.008843 -0.634377   \n",
       "2  0.224556  0.119204  0.082838 -0.088997 -0.114143  0.007341 -0.622505   \n",
       "3  0.240568  0.088263  0.252549 -0.131268 -0.066481 -0.075213 -0.559964   \n",
       "4  0.169556  0.210470  0.035334 -0.112154 -0.139233  0.029059 -0.670162   \n",
       "\n",
       "         7         8         9   ...        40        41        42        43  \\\n",
       "0  0.114176  0.078808  0.408421  ... -2.710075  0.309478  0.291156 -0.289676   \n",
       "1  0.137475  0.047880  0.430548  ... -2.719522  0.259567  0.311071 -0.267861   \n",
       "2  0.124935  0.023886  0.461362  ... -2.628224  0.252563  0.364561 -0.205367   \n",
       "3  0.039681  0.104086  0.511832  ... -2.716069  0.342346  0.227051 -0.275182   \n",
       "4  0.116563 -0.004911  0.312476  ... -2.633452  0.208066  0.407766 -0.239112   \n",
       "\n",
       "         44        45        46        47        48        49  \n",
       "0 -0.162212 -0.029988  0.066481 -0.463742  0.141831 -0.777831  \n",
       "1 -0.089546 -0.073599  0.146019 -0.537743  0.135133 -0.736322  \n",
       "2 -0.062308 -0.083623  0.143902 -0.493947  0.128731 -0.743500  \n",
       "3 -0.165214 -0.012083  0.138616 -0.476662  0.021724 -0.772534  \n",
       "4 -0.055195 -0.036531  0.101874 -0.374032  0.135588 -0.828508  \n",
       "\n",
       "[5 rows x 50 columns]"
      ]
     },
     "execution_count": 59,
     "metadata": {},
     "output_type": "execute_result"
    }
   ],
   "source": [
    "embeddings.head()"
   ]
  },
  {
   "cell_type": "code",
   "execution_count": 60,
   "metadata": {},
   "outputs": [],
   "source": [
    "# print(titles_list)"
   ]
  },
  {
   "cell_type": "code",
   "execution_count": 61,
   "metadata": {},
   "outputs": [],
   "source": [
    "from sklearn.model_selection import train_test_split\n",
    "\n",
    "X_train, X_test, y_train, y_test = train_test_split(embeddings, titles_list, test_size=0.3, random_state=42)"
   ]
  },
  {
   "cell_type": "code",
   "execution_count": 62,
   "metadata": {},
   "outputs": [
    {
     "data": {
      "text/plain": [
       "RandomForestClassifier(max_samples=0.8, random_state=42)"
      ]
     },
     "execution_count": 62,
     "metadata": {},
     "output_type": "execute_result"
    }
   ],
   "source": [
    "model_rf = RandomForestClassifier(max_samples=0.8, random_state=42)\n",
    "\n",
    "model_rf.fit(X_train, y_train)"
   ]
  },
  {
   "cell_type": "code",
   "execution_count": 63,
   "metadata": {},
   "outputs": [
    {
     "data": {
      "text/plain": [
       "0.6574382921947965"
      ]
     },
     "execution_count": 63,
     "metadata": {},
     "output_type": "execute_result"
    }
   ],
   "source": [
    "model_rf.score(X_test,y_test)"
   ]
  },
  {
   "cell_type": "markdown",
   "metadata": {},
   "source": [
    "###  <span style=\"font-family: Calibri; font-size:1.3 em;color:#000055\"> Optional </span>"
   ]
  },
  {
   "cell_type": "markdown",
   "metadata": {},
   "source": [
    "###  <span style=\"font-family: Calibri; font-size:1.3 em;color:#000055\"> Working With RNN (Recurring Neural Network)</span>"
   ]
  },
  {
   "cell_type": "code",
   "execution_count": null,
   "metadata": {},
   "outputs": [],
   "source": [
    "data.head()"
   ]
  },
  {
   "cell_type": "markdown",
   "metadata": {},
   "source": [
    "###  <span style=\"font-family: Calibri; font-size:1.3 em;color:#000055\"> Methdology </span>\n",
    "\n",
    "1. For RNN we don't use a CountVectorize() or a TF-IDF Matrix, we work with the original text\n",
    "2. Text is tokenized and converted into sequences\n",
    "3. The sequences needs to be padded to ensure that the tensor is of same size\n",
    "4. Embedding and LSTM(Long Short Term Memory) layers are added\n",
    "5. Model is compiled"
   ]
  },
  {
   "cell_type": "markdown",
   "metadata": {},
   "source": [
    "https://medium.com/@hemantranvir/spam-detection-using-rnn-simplernn-lstm-with-step-by-step-explanation-530367608071"
   ]
  },
  {
   "cell_type": "code",
   "execution_count": null,
   "metadata": {},
   "outputs": [],
   "source": [
    "import numpy as np\n",
    "from tensorflow.keras.preprocessing.text import Tokenizer\n",
    "from tensorflow.keras.preprocessing.sequence import pad_sequences\n",
    "from tensorflow.keras.layers import Dense, Input, LSTM, Embedding, Dropout, Activation, Flatten, Bidirectional, GlobalMaxPool1D\n",
    "from tensorflow.keras.models import Model, Sequential"
   ]
  },
  {
   "cell_type": "code",
   "execution_count": null,
   "metadata": {},
   "outputs": [],
   "source": [
    "from sklearn.model_selection import train_test_split\n",
    "\n",
    "text_corpus = data[\"Text\"].tolist()\n",
    "labels_corpus = data[\"Score\"].tolist()\n",
    "\n",
    "# Train and Test For Clean Description column\n",
    "X_train, X_test, y_train, y_test = train_test_split(text_corpus, labels_corpus, test_size=0.2, random_state=40)"
   ]
  },
  {
   "cell_type": "markdown",
   "metadata": {},
   "source": [
    "https://www.tensorflow.org/api_docs/python/tf/keras/preprocessing/text/Tokenizer"
   ]
  },
  {
   "cell_type": "code",
   "execution_count": null,
   "metadata": {},
   "outputs": [],
   "source": [
    "# finally, vectorize the text samples into a 2D integer tensor\n",
    "\n",
    "tokenizer = Tokenizer(num_words=10000, char_level=False)\n",
    "\n",
    "tokenizer.fit_on_texts(X_train)\n",
    "\n",
    "sequences_train = tokenizer.texts_to_sequences(X_train)\n",
    "sequences_test = tokenizer.texts_to_sequences(X_test)\n",
    "\n",
    "len(sequences_train)"
   ]
  },
  {
   "cell_type": "code",
   "execution_count": null,
   "metadata": {},
   "outputs": [],
   "source": [
    "# pad sequences with 0s\n",
    "X_train = pad_sequences(sequences_train, maxlen=1000)\n",
    "X_test = pad_sequences(sequences_test, maxlen=1000)\n",
    "\n",
    "print('Shape of data tensor:', X_train.shape)\n",
    "print('Shape of data test tensor:', X_test.shape)\n",
    "print(type(X_train))"
   ]
  },
  {
   "cell_type": "code",
   "execution_count": null,
   "metadata": {},
   "outputs": [],
   "source": [
    "# Encode target variable\n",
    "from sklearn.preprocessing import LabelEncoder\n",
    "\n",
    "label_encoder = LabelEncoder() \n",
    "y_train_lb = label_encoder.fit_transform(y_train)\n",
    "y_test_lb = label_encoder.fit_transform(y_test)"
   ]
  },
  {
   "cell_type": "code",
   "execution_count": null,
   "metadata": {},
   "outputs": [],
   "source": [
    "def create_model(maxlen,num_words,num_categories):\n",
    "    \n",
    "    model = Sequential()\n",
    "    \n",
    "    model.add(Embedding(num_words,output_dim=100,input_length=maxlen,trainable=True))\n",
    "    \n",
    "    model.add(BatchNormalization())\n",
    "    \n",
    "    model.add(Bidirectional(LSTM(100)))\n",
    "    \n",
    "    \n",
    "    model.add(Dropout(0.3))\n",
    "    \n",
    "    model.add(Dense(128,activation='relu'))\n",
    "    \n",
    "    model.add(Dense(64,activation='relu'))\n",
    "    \n",
    "    model.add(Dense(32,activation='relu'))\n",
    "    \n",
    "    model.add(Dense(num_categories, activation='softmax'))\n",
    "              \n",
    "    model.compile(loss='sparse_categorical_crossentropy',optimizer=\"adam\",metrics=['accuracy'])\n",
    "\n",
    "    model.summary()\n",
    "    return model"
   ]
  },
  {
   "cell_type": "code",
   "execution_count": null,
   "metadata": {},
   "outputs": [],
   "source": [
    "from tensorflow.keras.layers import BatchNormalization\n",
    "model=create_model(1000,10000,5)"
   ]
  },
  {
   "cell_type": "code",
   "execution_count": null,
   "metadata": {},
   "outputs": [],
   "source": [
    "history = model.fit(X_train, y_train_lb, epochs=5, validation_split=0.35)"
   ]
  },
  {
   "cell_type": "markdown",
   "metadata": {
    "colab_type": "text",
    "id": "LwxfFdwhc-9o"
   },
   "source": [
    "Summary:\n",
    "\n",
    "- We used dataset which has reviews in text format and their sentiment score on the scale of 1 to 5.\n",
    "- The goal was to build a model for text-classification.\n",
    "- We Pre-processed the data using variuos techniques and libraries.\n",
    "- The pre-precessed data is converted to numbers, so that we can feed the data in the model.\n",
    "- After building the classification model, we predicted the result for the test data.\n",
    "- After that we saw that using the above techniques, our model performed good in perspective of how the text classification models perform.\n",
    "- However, we can still increase the accuracy of our model by increasing the dataset we took into account for the model building (As the time was constraint here so we only used 50000 entries out of around 500000 entries, which means we built our model using 10% of dataset.)\n",
    "- One more way to increase accuracy is to use different variations of Pre-processing techniques."
   ]
  }
 ],
 "metadata": {
  "colab": {
   "collapsed_sections": [],
   "name": "MLS  week-2 NLP.ipynb",
   "provenance": []
  },
  "kernelspec": {
   "display_name": "Python 3",
   "language": "python",
   "name": "python3"
  },
  "language_info": {
   "codemirror_mode": {
    "name": "ipython",
    "version": 3
   },
   "file_extension": ".py",
   "mimetype": "text/x-python",
   "name": "python",
   "nbconvert_exporter": "python",
   "pygments_lexer": "ipython3",
   "version": "3.7.6"
  }
 },
 "nbformat": 4,
 "nbformat_minor": 1
}
